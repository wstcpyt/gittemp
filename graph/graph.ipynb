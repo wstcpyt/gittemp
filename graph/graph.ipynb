{
 "cells": [
  {
   "cell_type": "code",
   "execution_count": 101,
   "metadata": {
    "collapsed": true
   },
   "outputs": [],
   "source": [
    "import pandas as pd\n",
    "import networkx as nx\n",
    "import itertools"
   ]
  },
  {
   "cell_type": "code",
   "execution_count": 102,
   "metadata": {
    "collapsed": true
   },
   "outputs": [],
   "source": [
    "df = pd.read_json(\"rawfilteredbydate.json\")"
   ]
  },
  {
   "cell_type": "code",
   "execution_count": 103,
   "metadata": {
    "collapsed": false
   },
   "outputs": [
    {
     "data": {
      "text/html": [
       "<div>\n",
       "<table border=\"1\" class=\"dataframe\">\n",
       "  <thead>\n",
       "    <tr style=\"text-align: right;\">\n",
       "      <th></th>\n",
       "      <th>caption</th>\n",
       "      <th>date</th>\n",
       "    </tr>\n",
       "  </thead>\n",
       "  <tbody>\n",
       "    <tr>\n",
       "      <th>0</th>\n",
       "      <td>The Perlman Music Program Class of 2014</td>\n",
       "      <td>2014-08-22</td>\n",
       "    </tr>\n",
       "    <tr>\n",
       "      <th>1</th>\n",
       "      <td>Toby Perlman addresses the crowd</td>\n",
       "      <td>2014-08-22</td>\n",
       "    </tr>\n",
       "    <tr>\n",
       "      <th>2</th>\n",
       "      <td>Itzhak Perlman and Catherine Cho perform with...</td>\n",
       "      <td>2014-08-22</td>\n",
       "    </tr>\n",
       "    <tr>\n",
       "      <th>3</th>\n",
       "      <td>Julian Beck, Lyn Barlow, Ted Ayala, Elinor He...</td>\n",
       "      <td>2014-08-22</td>\n",
       "    </tr>\n",
       "    <tr>\n",
       "      <th>4</th>\n",
       "      <td>Toby Perlman and guests</td>\n",
       "      <td>2014-08-22</td>\n",
       "    </tr>\n",
       "  </tbody>\n",
       "</table>\n",
       "</div>"
      ],
      "text/plain": [
       "                                             caption       date\n",
       "0           The Perlman Music Program Class of 2014  2014-08-22\n",
       "1                  Toby Perlman addresses the crowd  2014-08-22\n",
       "2   Itzhak Perlman and Catherine Cho perform with... 2014-08-22\n",
       "3   Julian Beck, Lyn Barlow, Ted Ayala, Elinor He... 2014-08-22\n",
       "4                           Toby Perlman and guests  2014-08-22"
      ]
     },
     "execution_count": 103,
     "metadata": {},
     "output_type": "execute_result"
    }
   ],
   "source": [
    "df.head()"
   ]
  },
  {
   "cell_type": "code",
   "execution_count": 104,
   "metadata": {
    "collapsed": true
   },
   "outputs": [],
   "source": [
    "df[\"caption\"] = df['caption'].apply(lambda x: x.replace(\"\\n\",\"\"))"
   ]
  },
  {
   "cell_type": "code",
   "execution_count": 105,
   "metadata": {
    "collapsed": true
   },
   "outputs": [],
   "source": [
    "df = df[df['caption'].apply(lambda x: len(x)<=250)]"
   ]
  },
  {
   "cell_type": "code",
   "execution_count": 78,
   "metadata": {
    "collapsed": false
   },
   "outputs": [],
   "source": [
    "restr = [\"The\", \"Dr\", \"Verdana\", \"Helvetica\" ,\"Chairman\",\"Director\",\n",
    "         \"Guests\",\"President\",\"Hospital\",\"Special Surgery\",\"Executive Director\"\n",
    "         ,\"New York\",\"Museum\",\"Photographs\",\"Children\",\"The Society\",\"Dinner\",\n",
    "        \"Board Member\",\"Castle\"]"
   ]
  },
  {
   "cell_type": "code",
   "execution_count": 92,
   "metadata": {
    "collapsed": true
   },
   "outputs": [],
   "source": [
    "def replaceWord(s):\n",
    "    for i in range(len(restr)):\n",
    "        s = s.replace(restr[i],\"\")\n",
    "    s = s.replace(\"and\",\",\")\n",
    "    return s"
   ]
  },
  {
   "cell_type": "code",
   "execution_count": 93,
   "metadata": {
    "collapsed": false
   },
   "outputs": [
    {
     "data": {
      "text/plain": [
       "'Itzhak Perlman , Catherine Cho perform with PMP Chorus'"
      ]
     },
     "execution_count": 93,
     "metadata": {},
     "output_type": "execute_result"
    }
   ],
   "source": [
    "\"Itzhak Perlman and Catherine Cho perform with PMP Chorus\".replace(\"and\",\",\")"
   ]
  },
  {
   "cell_type": "code",
   "execution_count": 94,
   "metadata": {
    "collapsed": false
   },
   "outputs": [],
   "source": [
    "captions = map(lambda x: replaceWord(x),df.caption)"
   ]
  },
  {
   "cell_type": "code",
   "execution_count": 95,
   "metadata": {
    "collapsed": false
   },
   "outputs": [
    {
     "data": {
      "text/plain": [
       "u' Itzhak Perlman , Catherine Cho perform with PMP Chorus '"
      ]
     },
     "execution_count": 95,
     "metadata": {},
     "output_type": "execute_result"
    }
   ],
   "source": [
    "captions[2]"
   ]
  },
  {
   "cell_type": "code",
   "execution_count": 106,
   "metadata": {
    "collapsed": true
   },
   "outputs": [],
   "source": [
    "proper_noun_regex = r'([A-Z][A-Za-z-]*(,?\\s+(\\b(and|von|de|van der|van|der)\\b))?(\\s[A-Z][A-Za-z\\'-]*)*)'"
   ]
  },
  {
   "cell_type": "code",
   "execution_count": 107,
   "metadata": {
    "collapsed": true
   },
   "outputs": [],
   "source": [
    "import re"
   ]
  },
  {
   "cell_type": "code",
   "execution_count": 111,
   "metadata": {
    "collapsed": false
   },
   "outputs": [],
   "source": [
    "G=nx.MultiGraph()\n",
    "for caption in captions:\n",
    "    name = []\n",
    "    caption_temp  = re.findall(proper_noun_regex,caption)\n",
    "    for j in range(len(caption_temp)):\n",
    "        name_temp = caption_temp[j]\n",
    "        if len(name_temp[0])>5:\n",
    "            name.append(name_temp[0])\n",
    "    if len(name) > 2:\n",
    "        _=[G.add_edge(c[0],c[1],weight=1) for c in itertools.combinations(name,2)]\n",
    "    elif len(name) > 1:\n",
    "        G.add_edge(name[0],name[1],weight=1)        "
   ]
  },
  {
   "cell_type": "code",
   "execution_count": 112,
   "metadata": {
    "collapsed": false
   },
   "outputs": [],
   "source": [
    "Gg = nx.Graph()\n",
    "for u,v,data in G.edges_iter(data=True):\n",
    "    if Gg.has_edge(u,v):\n",
    "        Gg[u][v]['weight'] += 1\n",
    "    else:\n",
    "        Gg.add_edge(u, v, weight=1)"
   ]
  },
  {
   "cell_type": "markdown",
   "metadata": {},
   "source": [
    "## degrees"
   ]
  },
  {
   "cell_type": "code",
   "execution_count": 113,
   "metadata": {
    "collapsed": false
   },
   "outputs": [],
   "source": [
    "degrees=pd.DataFrame(G.degree().values(),index=G.degree().keys()).sort(0,ascending=False)"
   ]
  },
  {
   "cell_type": "code",
   "execution_count": 123,
   "metadata": {
    "collapsed": false
   },
   "outputs": [],
   "source": [
    "degrees = degrees.reset_index()"
   ]
  },
  {
   "cell_type": "code",
   "execution_count": 124,
   "metadata": {
    "collapsed": false
   },
   "outputs": [],
   "source": [
    "degrees.columns = [\"name\",\"number\"]"
   ]
  },
  {
   "cell_type": "code",
   "execution_count": 125,
   "metadata": {
    "collapsed": false
   },
   "outputs": [
    {
     "data": {
      "text/html": [
       "<div>\n",
       "<table border=\"1\" class=\"dataframe\">\n",
       "  <thead>\n",
       "    <tr style=\"text-align: right;\">\n",
       "      <th></th>\n",
       "      <th>name</th>\n",
       "      <th>number</th>\n",
       "    </tr>\n",
       "  </thead>\n",
       "  <tbody>\n",
       "    <tr>\n",
       "      <th>0</th>\n",
       "      <td>PatrickMcMullan</td>\n",
       "      <td>1459</td>\n",
       "    </tr>\n",
       "    <tr>\n",
       "      <th>1</th>\n",
       "      <td>Jean Shafiroff</td>\n",
       "      <td>703</td>\n",
       "    </tr>\n",
       "    <tr>\n",
       "      <th>2</th>\n",
       "      <td>Patrick McMullan</td>\n",
       "      <td>633</td>\n",
       "    </tr>\n",
       "    <tr>\n",
       "      <th>3</th>\n",
       "      <td>Executive</td>\n",
       "      <td>553</td>\n",
       "    </tr>\n",
       "    <tr>\n",
       "      <th>4</th>\n",
       "      <td>Mark Gilbertson</td>\n",
       "      <td>549</td>\n",
       "    </tr>\n",
       "  </tbody>\n",
       "</table>\n",
       "</div>"
      ],
      "text/plain": [
       "               name  number\n",
       "0   PatrickMcMullan    1459\n",
       "1    Jean Shafiroff     703\n",
       "2  Patrick McMullan     633\n",
       "3         Executive     553\n",
       "4   Mark Gilbertson     549"
      ]
     },
     "execution_count": 125,
     "metadata": {},
     "output_type": "execute_result"
    }
   ],
   "source": [
    "degrees.head()"
   ]
  },
  {
   "cell_type": "code",
   "execution_count": 129,
   "metadata": {
    "collapsed": false
   },
   "outputs": [],
   "source": [
    "degreeres = map(lambda x,y: (x,y),degrees.name[0:100], degrees.number[0:100])"
   ]
  },
  {
   "cell_type": "code",
   "execution_count": null,
   "metadata": {
    "collapsed": true
   },
   "outputs": [],
   "source": []
  },
  {
   "cell_type": "code",
   "execution_count": 130,
   "metadata": {
    "collapsed": false
   },
   "outputs": [
    {
     "data": {
      "text/plain": [
       "[(u'PatrickMcMullan', 1459),\n",
       " (u'Jean Shafiroff', 703),\n",
       " (u'Patrick McMullan', 633),\n",
       " (u'Executive', 553),\n",
       " (u'Mark Gilbertson', 549),\n",
       " (u'Gillian Miniter', 521),\n",
       " (u'Lebenthal', 431),\n",
       " (u'Geoffrey Bradfield', 421),\n",
       " (u'Yaz Hern', 373),\n",
       " (u'Rob Rich', 364),\n",
       " (u'Michael', 349),\n",
       " (u'Andrew Saffir', 340),\n",
       " (u'Sharon Bush', 339),\n",
       " (u'Somers Farkas', 337),\n",
       " (u'Debbie Bancroft', 333),\n",
       " (u'Cutty McGill', 329),\n",
       " (u'Kanavos', 321),\n",
       " (u'Eleanora Kennedy', 314),\n",
       " (u'Alina Cho', 313),\n",
       " (u'Clockwise', 310),\n",
       " (u'Richard', 299),\n",
       " (u'Muffie Potter Aston', 297),\n",
       " (u'Dayssi Olarte', 296),\n",
       " (u'Bonnie Comley', 293),\n",
       " (u'Lucia Hwong Gordon', 276),\n",
       " (u'Kamie Lightburn', 276),\n",
       " (u'AnnieWatt', 274),\n",
       " (u'Annie Watt', 267),\n",
       " (u'Mayor Michael Bloomberg', 264),\n",
       " (u'Mario Buatta', 264),\n",
       " (u'Barbara', 262),\n",
       " (u'Bettina Zilkha', 259),\n",
       " (u'Foundation', 257),\n",
       " (u'Lydia Fenet', 244),\n",
       " (u'Allison Aston', 241),\n",
       " (u'Stewart Lane', 236),\n",
       " (u'Karen LeFrak', 235),\n",
       " (u'Elizabeth Stribling', 234),\n",
       " (u'Deborah Norville', 231),\n",
       " (u'Jamee Gregory', 230),\n",
       " (u'Yugoslavia', 228),\n",
       " (u'Hermes', 226),\n",
       " (u'Kellogg', 215),\n",
       " (u'Prince Dimitri', 214),\n",
       " (u'Dennis Basso', 214),\n",
       " (u'Daniel Benedict', 213),\n",
       " (u'Amy Fine Collins', 209),\n",
       " (u'Barbara Tober', 209),\n",
       " (u'Liliana Cavendish', 208),\n",
       " (u'Nicole Miller', 206),\n",
       " (u'Society', 205),\n",
       " (u'Valesca Guerr', 202),\n",
       " (u'Donna Karan', 198),\n",
       " (u'Christopher Hyl', 197),\n",
       " (u'Trustees', 196),\n",
       " (u'Tory Burch', 195),\n",
       " (u'Ann Watt', 193),\n",
       " (u'Andrew', 191),\n",
       " (u'Amy McFarl', 191),\n",
       " (u'Roric Tobin', 189),\n",
       " (u'Martha Stewart', 188),\n",
       " (u'Evelyn Lauder', 188),\n",
       " (u'Diana Taylor', 188),\n",
       " (u'Benefit', 185),\n",
       " (u'Mary Hilliard', 184),\n",
       " (u'Karen Klopp', 183),\n",
       " (u'Amy Hoadley', 183),\n",
       " (u'Michele Herbert', 182),\n",
       " (u'Margo Langenberg', 182),\n",
       " (u'Fe Fendi', 181),\n",
       " (u'Ellis Isl', 179),\n",
       " (u'Couri Hay', 177),\n",
       " (u'Jennifer Creel', 177),\n",
       " (u'Kipton Cronkite', 177),\n",
       " (u'Annette Rickel', 177),\n",
       " (u'Russell Simmons', 177),\n",
       " (u'Doubles', 176),\n",
       " (u'Robert', 176),\n",
       " (u'Audrey Gruss', 174),\n",
       " (u'Paula Zahn', 173),\n",
       " (u'BFAnyc', 172),\n",
       " (u'Felicia Taylor', 171),\n",
       " (u'Honoree', 171),\n",
       " (u'Grace Meigher', 169),\n",
       " (u'Anka Palitz', 169),\n",
       " (u'Philharmonic', 168),\n",
       " (u'Frederick Anderson', 167),\n",
       " (u'Futter', 167),\n",
       " (u'Susan Magazine', 166),\n",
       " (u'Rosanna Scotto', 165),\n",
       " (u'Anne Hearst McInerney', 165),\n",
       " (u'Ellen V', 165),\n",
       " (u'Gregory Long', 164),\n",
       " (u'Consul General', 161),\n",
       " (u'Seidenfeld', 160),\n",
       " (u'Liz Peek', 159),\n",
       " (u'Leonard Lauder', 159),\n",
       " (u'Richard Johnson', 159),\n",
       " (u'Alec Baldwin', 158),\n",
       " (u'Adelina Wong Ettelson', 158)]"
      ]
     },
     "execution_count": 130,
     "metadata": {},
     "output_type": "execute_result"
    }
   ],
   "source": [
    "with open('degreeres.pickle', 'wb') as f:\n",
    "    pickle.dump(degreeres, f)"
   ]
  },
  {
   "cell_type": "code",
   "execution_count": 14,
   "metadata": {
    "collapsed": false
   },
   "outputs": [],
   "source": [
    "pr=nx.pagerank(Gg)\n",
    "pranalysis=pd.DataFrame(pr.values(),index=pr.keys()).sort(0,ascending=False)"
   ]
  }
 ],
 "metadata": {
  "kernelspec": {
   "display_name": "Python 2",
   "language": "python",
   "name": "python2"
  },
  "language_info": {
   "codemirror_mode": {
    "name": "ipython",
    "version": 2
   },
   "file_extension": ".py",
   "mimetype": "text/x-python",
   "name": "python",
   "nbconvert_exporter": "python",
   "pygments_lexer": "ipython2",
   "version": "2.7.10"
  }
 },
 "nbformat": 4,
 "nbformat_minor": 0
}
