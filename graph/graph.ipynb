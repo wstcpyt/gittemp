{
 "cells": [
  {
   "cell_type": "code",
   "execution_count": 1,
   "metadata": {
    "collapsed": true
   },
   "outputs": [],
   "source": [
    "import pandas as pd\n",
    "import networkx as nx\n",
    "import itertools"
   ]
  },
  {
   "cell_type": "code",
   "execution_count": 2,
   "metadata": {
    "collapsed": true
   },
   "outputs": [],
   "source": [
    "df = pd.read_json(\"rawfilteredbydate.json\")"
   ]
  },
  {
   "cell_type": "code",
   "execution_count": 3,
   "metadata": {
    "collapsed": false
   },
   "outputs": [
    {
     "data": {
      "text/html": [
       "<div>\n",
       "<table border=\"1\" class=\"dataframe\">\n",
       "  <thead>\n",
       "    <tr style=\"text-align: right;\">\n",
       "      <th></th>\n",
       "      <th>caption</th>\n",
       "      <th>date</th>\n",
       "    </tr>\n",
       "  </thead>\n",
       "  <tbody>\n",
       "    <tr>\n",
       "      <th>0</th>\n",
       "      <td>The Perlman Music Program Class of 2014</td>\n",
       "      <td>2014-08-22</td>\n",
       "    </tr>\n",
       "    <tr>\n",
       "      <th>1</th>\n",
       "      <td>Toby Perlman addresses the crowd</td>\n",
       "      <td>2014-08-22</td>\n",
       "    </tr>\n",
       "    <tr>\n",
       "      <th>2</th>\n",
       "      <td>Itzhak Perlman and Catherine Cho perform with...</td>\n",
       "      <td>2014-08-22</td>\n",
       "    </tr>\n",
       "    <tr>\n",
       "      <th>3</th>\n",
       "      <td>Julian Beck, Lyn Barlow, Ted Ayala, Elinor He...</td>\n",
       "      <td>2014-08-22</td>\n",
       "    </tr>\n",
       "    <tr>\n",
       "      <th>4</th>\n",
       "      <td>Toby Perlman and guests</td>\n",
       "      <td>2014-08-22</td>\n",
       "    </tr>\n",
       "  </tbody>\n",
       "</table>\n",
       "</div>"
      ],
      "text/plain": [
       "                                             caption       date\n",
       "0           The Perlman Music Program Class of 2014  2014-08-22\n",
       "1                  Toby Perlman addresses the crowd  2014-08-22\n",
       "2   Itzhak Perlman and Catherine Cho perform with... 2014-08-22\n",
       "3   Julian Beck, Lyn Barlow, Ted Ayala, Elinor He... 2014-08-22\n",
       "4                           Toby Perlman and guests  2014-08-22"
      ]
     },
     "execution_count": 3,
     "metadata": {},
     "output_type": "execute_result"
    }
   ],
   "source": [
    "df.head()"
   ]
  },
  {
   "cell_type": "code",
   "execution_count": 4,
   "metadata": {
    "collapsed": true
   },
   "outputs": [],
   "source": [
    "df[\"caption\"] = df['caption'].apply(lambda x: x.replace(\"\\n\",\"\"))"
   ]
  },
  {
   "cell_type": "code",
   "execution_count": 5,
   "metadata": {
    "collapsed": true
   },
   "outputs": [],
   "source": [
    "df = df[df['caption'].apply(lambda x: len(x)<=250)]"
   ]
  },
  {
   "cell_type": "code",
   "execution_count": 58,
   "metadata": {
    "collapsed": false
   },
   "outputs": [],
   "source": [
    "restr = [\"The\", \"Dr\", \"Verdana\", \"Helvetica\" ,\"Chairman\",\"Director\",\n",
    "         \"Guests\",\"President\",\"Hospital\",\"Special Surgery\",\"Executive Director\"\n",
    "         ,\"New York\",\"Museum\",\"Photographs\",\"Children\",\"The Society\",\"Dinner\",\n",
    "        \"Board Member\",\"Castle\",\"President and CEO\",\"Directors\",\"Clockwise\",\"Doubles\",\"BFAnyc\",\"Standing\",\n",
    "        \"Susan Magazine\",\"Trustees\",\"Chicago\",\"Yugoslavia\",\"Steering Committee\"]"
   ]
  },
  {
   "cell_type": "code",
   "execution_count": 59,
   "metadata": {
    "collapsed": true
   },
   "outputs": [],
   "source": [
    "def replaceWord(s):\n",
    "    for i in range(len(restr)):\n",
    "        s = s.replace(restr[i],\"\")\n",
    "    s = s.replace(\"and\",\",\")\n",
    "    return s"
   ]
  },
  {
   "cell_type": "code",
   "execution_count": 60,
   "metadata": {
    "collapsed": true
   },
   "outputs": [],
   "source": [
    "proper_noun_regex = r'([A-Z][A-Za-z-]*(,?\\s+(\\b(and|von|de|van der|van|der)\\b))?(\\s[A-Z][A-Za-z\\'-]*)*)'"
   ]
  },
  {
   "cell_type": "code",
   "execution_count": 61,
   "metadata": {
    "collapsed": true
   },
   "outputs": [],
   "source": [
    "import re"
   ]
  },
  {
   "cell_type": "code",
   "execution_count": 62,
   "metadata": {
    "collapsed": false
   },
   "outputs": [],
   "source": [
    "G=nx.MultiGraph()\n",
    "for caption in df.caption:\n",
    "    name = []\n",
    "    caption_temp  = re.findall(proper_noun_regex,caption)\n",
    "    for j in range(len(caption_temp)):\n",
    "        name_temp = caption_temp[j]\n",
    "        if len(name_temp[0])>5 and len(name_temp[0].split(\" \")) > :\n",
    "            if name_temp[0] == \"PatrickMcMullan\":\n",
    "                name.append(\"Patrick McMullan\")\n",
    "            elif name_temp[0] == \"AnnieWatt\":\n",
    "                name.append(\"Annie Watt\")\n",
    "            elif \"Mayor\" in name_temp[0]:\n",
    "                temp = name_temp[0].replace(\"Mayor \",\"\")\n",
    "                name.append(temp)\n",
    "            else:\n",
    "                name.append(name_temp[0])\n",
    "        for word in restr:\n",
    "            if word in name:\n",
    "                name.remove(word)\n",
    "    if len(name) > 2:\n",
    "        _=[G.add_edge(c[0],c[1],weight=1) for c in itertools.combinations(name,2)]\n",
    "    elif len(name) > 1:\n",
    "        G.add_edge(name[0],name[1],weight=1)        "
   ]
  },
  {
   "cell_type": "code",
   "execution_count": 63,
   "metadata": {
    "collapsed": false
   },
   "outputs": [],
   "source": [
    "Gg = nx.Graph()\n",
    "for u,v,data in G.edges_iter(data=True):\n",
    "    if Gg.has_edge(u,v):\n",
    "        Gg[u][v]['weight'] += 1\n",
    "    else:\n",
    "        Gg.add_edge(u, v, weight=1)"
   ]
  },
  {
   "cell_type": "markdown",
   "metadata": {},
   "source": [
    "## degrees"
   ]
  },
  {
   "cell_type": "code",
   "execution_count": 64,
   "metadata": {
    "collapsed": false
   },
   "outputs": [],
   "source": [
    "degrees=pd.DataFrame(G.degree().values(),index=G.degree().keys()).sort(0,ascending=False)"
   ]
  },
  {
   "cell_type": "code",
   "execution_count": 65,
   "metadata": {
    "collapsed": false
   },
   "outputs": [],
   "source": [
    "degrees = degrees.reset_index()"
   ]
  },
  {
   "cell_type": "code",
   "execution_count": 76,
   "metadata": {
    "collapsed": false
   },
   "outputs": [
    {
     "data": {
      "text/html": [
       "<div>\n",
       "<table border=\"1\" class=\"dataframe\">\n",
       "  <thead>\n",
       "    <tr style=\"text-align: right;\">\n",
       "      <th></th>\n",
       "      <th>name</th>\n",
       "      <th>number</th>\n",
       "    </tr>\n",
       "  </thead>\n",
       "  <tbody>\n",
       "    <tr>\n",
       "      <th>120</th>\n",
       "      <td>Amanda Hearst</td>\n",
       "      <td>125</td>\n",
       "    </tr>\n",
       "    <tr>\n",
       "      <th>121</th>\n",
       "      <td>Mary Snow</td>\n",
       "      <td>124</td>\n",
       "    </tr>\n",
       "    <tr>\n",
       "      <th>122</th>\n",
       "      <td>America</td>\n",
       "      <td>124</td>\n",
       "    </tr>\n",
       "    <tr>\n",
       "      <th>123</th>\n",
       "      <td>Heather Leeds</td>\n",
       "      <td>124</td>\n",
       "    </tr>\n",
       "    <tr>\n",
       "      <th>124</th>\n",
       "      <td>Melissa Berkelhammer</td>\n",
       "      <td>124</td>\n",
       "    </tr>\n",
       "    <tr>\n",
       "      <th>125</th>\n",
       "      <td>Michele Gerber Klein</td>\n",
       "      <td>124</td>\n",
       "    </tr>\n",
       "    <tr>\n",
       "      <th>126</th>\n",
       "      <td>Stephanie Winston Wolkoff</td>\n",
       "      <td>123</td>\n",
       "    </tr>\n",
       "    <tr>\n",
       "      <th>127</th>\n",
       "      <td>Alzheimer</td>\n",
       "      <td>123</td>\n",
       "    </tr>\n",
       "    <tr>\n",
       "      <th>128</th>\n",
       "      <td>Sandra McConnell</td>\n",
       "      <td>122</td>\n",
       "    </tr>\n",
       "    <tr>\n",
       "      <th>129</th>\n",
       "      <td>Claudia Overstrom</td>\n",
       "      <td>122</td>\n",
       "    </tr>\n",
       "    <tr>\n",
       "      <th>130</th>\n",
       "      <td>Evelyn Tompkins</td>\n",
       "      <td>121</td>\n",
       "    </tr>\n",
       "    <tr>\n",
       "      <th>131</th>\n",
       "      <td>Futter</td>\n",
       "      <td>121</td>\n",
       "    </tr>\n",
       "    <tr>\n",
       "      <th>132</th>\n",
       "      <td>Shoshanna Gruss</td>\n",
       "      <td>121</td>\n",
       "    </tr>\n",
       "    <tr>\n",
       "      <th>133</th>\n",
       "      <td>Peter Davis</td>\n",
       "      <td>120</td>\n",
       "    </tr>\n",
       "    <tr>\n",
       "      <th>134</th>\n",
       "      <td>Grossman</td>\n",
       "      <td>120</td>\n",
       "    </tr>\n",
       "    <tr>\n",
       "      <th>135</th>\n",
       "      <td>Carol Mack</td>\n",
       "      <td>120</td>\n",
       "    </tr>\n",
       "    <tr>\n",
       "      <th>136</th>\n",
       "      <td>Marc Rosen</td>\n",
       "      <td>119</td>\n",
       "    </tr>\n",
       "    <tr>\n",
       "      <th>137</th>\n",
       "      <td>Zani Gugelmann</td>\n",
       "      <td>119</td>\n",
       "    </tr>\n",
       "    <tr>\n",
       "      <th>138</th>\n",
       "      <td>Pamela Fiori</td>\n",
       "      <td>118</td>\n",
       "    </tr>\n",
       "    <tr>\n",
       "      <th>139</th>\n",
       "      <td>Suzanne Cochran</td>\n",
       "      <td>117</td>\n",
       "    </tr>\n",
       "  </tbody>\n",
       "</table>\n",
       "</div>"
      ],
      "text/plain": [
       "                          name  number\n",
       "120              Amanda Hearst     125\n",
       "121                  Mary Snow     124\n",
       "122                    America     124\n",
       "123              Heather Leeds     124\n",
       "124       Melissa Berkelhammer     124\n",
       "125       Michele Gerber Klein     124\n",
       "126  Stephanie Winston Wolkoff     123\n",
       "127                  Alzheimer     123\n",
       "128           Sandra McConnell     122\n",
       "129          Claudia Overstrom     122\n",
       "130            Evelyn Tompkins     121\n",
       "131                     Futter     121\n",
       "132            Shoshanna Gruss     121\n",
       "133                Peter Davis     120\n",
       "134                   Grossman     120\n",
       "135                 Carol Mack     120\n",
       "136                 Marc Rosen     119\n",
       "137             Zani Gugelmann     119\n",
       "138               Pamela Fiori     118\n",
       "139            Suzanne Cochran     117"
      ]
     },
     "execution_count": 76,
     "metadata": {},
     "output_type": "execute_result"
    }
   ],
   "source": [
    "degrees[120:140]"
   ]
  },
  {
   "cell_type": "code",
   "execution_count": 66,
   "metadata": {
    "collapsed": false
   },
   "outputs": [],
   "source": [
    "degrees.columns = [\"name\",\"number\"]"
   ]
  },
  {
   "cell_type": "code",
   "execution_count": 67,
   "metadata": {
    "collapsed": false
   },
   "outputs": [],
   "source": [
    "degreeres = map(lambda x,y: (x,y),degrees.name[0:100], degrees.number[0:100])"
   ]
  },
  {
   "cell_type": "code",
   "execution_count": 68,
   "metadata": {
    "collapsed": true
   },
   "outputs": [],
   "source": [
    "import pickle"
   ]
  },
  {
   "cell_type": "code",
   "execution_count": 69,
   "metadata": {
    "collapsed": false
   },
   "outputs": [],
   "source": [
    "with open('degreeres.pickle', 'wb') as f:\n",
    "    pickle.dump(degreeres, f)"
   ]
  },
  {
   "cell_type": "code",
   "execution_count": 14,
   "metadata": {
    "collapsed": false
   },
   "outputs": [],
   "source": [
    "pr=nx.pagerank(Gg)\n",
    "pranalysis=pd.DataFrame(pr.values(),index=pr.keys()).sort(0,ascending=False)"
   ]
  }
 ],
 "metadata": {
  "kernelspec": {
   "display_name": "Python 2",
   "language": "python",
   "name": "python2"
  },
  "language_info": {
   "codemirror_mode": {
    "name": "ipython",
    "version": 2
   },
   "file_extension": ".py",
   "mimetype": "text/x-python",
   "name": "python",
   "nbconvert_exporter": "python",
   "pygments_lexer": "ipython2",
   "version": "2.7.10"
  }
 },
 "nbformat": 4,
 "nbformat_minor": 0
}
