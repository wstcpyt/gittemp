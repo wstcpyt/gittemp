{
 "cells": [
  {
   "cell_type": "code",
   "execution_count": 1,
   "metadata": {
    "collapsed": true
   },
   "outputs": [],
   "source": [
    "import pandas as pd\n",
    "import networkx as nx\n",
    "import itertools"
   ]
  },
  {
   "cell_type": "code",
   "execution_count": 2,
   "metadata": {
    "collapsed": true
   },
   "outputs": [],
   "source": [
    "df = pd.read_json(\"rawfilteredbydate.json\")"
   ]
  },
  {
   "cell_type": "code",
   "execution_count": 3,
   "metadata": {
    "collapsed": false
   },
   "outputs": [
    {
     "data": {
      "text/html": [
       "<div>\n",
       "<table border=\"1\" class=\"dataframe\">\n",
       "  <thead>\n",
       "    <tr style=\"text-align: right;\">\n",
       "      <th></th>\n",
       "      <th>caption</th>\n",
       "      <th>date</th>\n",
       "    </tr>\n",
       "  </thead>\n",
       "  <tbody>\n",
       "    <tr>\n",
       "      <th>0</th>\n",
       "      <td>The Perlman Music Program Class of 2014</td>\n",
       "      <td>2014-08-22</td>\n",
       "    </tr>\n",
       "    <tr>\n",
       "      <th>1</th>\n",
       "      <td>Toby Perlman addresses the crowd</td>\n",
       "      <td>2014-08-22</td>\n",
       "    </tr>\n",
       "    <tr>\n",
       "      <th>2</th>\n",
       "      <td>Itzhak Perlman and Catherine Cho perform with...</td>\n",
       "      <td>2014-08-22</td>\n",
       "    </tr>\n",
       "    <tr>\n",
       "      <th>3</th>\n",
       "      <td>Julian Beck, Lyn Barlow, Ted Ayala, Elinor He...</td>\n",
       "      <td>2014-08-22</td>\n",
       "    </tr>\n",
       "    <tr>\n",
       "      <th>4</th>\n",
       "      <td>Toby Perlman and guests</td>\n",
       "      <td>2014-08-22</td>\n",
       "    </tr>\n",
       "  </tbody>\n",
       "</table>\n",
       "</div>"
      ],
      "text/plain": [
       "                                             caption       date\n",
       "0           The Perlman Music Program Class of 2014  2014-08-22\n",
       "1                  Toby Perlman addresses the crowd  2014-08-22\n",
       "2   Itzhak Perlman and Catherine Cho perform with... 2014-08-22\n",
       "3   Julian Beck, Lyn Barlow, Ted Ayala, Elinor He... 2014-08-22\n",
       "4                           Toby Perlman and guests  2014-08-22"
      ]
     },
     "execution_count": 3,
     "metadata": {},
     "output_type": "execute_result"
    }
   ],
   "source": [
    "df.head()"
   ]
  },
  {
   "cell_type": "code",
   "execution_count": 4,
   "metadata": {
    "collapsed": true
   },
   "outputs": [],
   "source": [
    "df[\"caption\"] = df['caption'].apply(lambda x: x.replace(\"\\n\",\"\"))"
   ]
  },
  {
   "cell_type": "code",
   "execution_count": 5,
   "metadata": {
    "collapsed": true
   },
   "outputs": [],
   "source": [
    "df = df[df['caption'].apply(lambda x: len(x)<=250)]"
   ]
  },
  {
   "cell_type": "code",
   "execution_count": 58,
   "metadata": {
    "collapsed": false
   },
   "outputs": [],
   "source": [
    "restr = [\"The\", \"Dr\", \"Verdana\", \"Helvetica\" ,\"Chairman\",\"Director\",\n",
    "         \"Guests\",\"President\",\"Hospital\",\"Special Surgery\",\"Executive Director\"\n",
    "         ,\"New York\",\"Museum\",\"Photographs\",\"Children\",\"The Society\",\"Dinner\",\n",
    "        \"Board Member\",\"Castle\",\"President and CEO\",\"Directors\",\"Clockwise\",\"Doubles\",\"BFAnyc\",\"Standing\"]"
   ]
  },
  {
   "cell_type": "code",
   "execution_count": 59,
   "metadata": {
    "collapsed": true
   },
   "outputs": [],
   "source": [
    "def replaceWord(s):\n",
    "    for i in range(len(restr)):\n",
    "        s = s.replace(restr[i],\"\")\n",
    "    s = s.replace(\"and\",\",\")\n",
    "    return s"
   ]
  },
  {
   "cell_type": "code",
   "execution_count": 60,
   "metadata": {
    "collapsed": true
   },
   "outputs": [],
   "source": [
    "proper_noun_regex = r'([A-Z][A-Za-z-]*(,?\\s+(\\b(and|von|de|van der|van|der)\\b))?(\\s[A-Z][A-Za-z\\'-]*)*)'"
   ]
  },
  {
   "cell_type": "code",
   "execution_count": 61,
   "metadata": {
    "collapsed": true
   },
   "outputs": [],
   "source": [
    "import re"
   ]
  },
  {
   "cell_type": "code",
   "execution_count": 62,
   "metadata": {
    "collapsed": false
   },
   "outputs": [],
   "source": [
    "G=nx.MultiGraph()\n",
    "for caption in df.caption:\n",
    "    name = []\n",
    "    caption_temp  = re.findall(proper_noun_regex,caption)\n",
    "    for j in range(len(caption_temp)):\n",
    "        name_temp = caption_temp[j]\n",
    "        if len(name_temp[0])>5:\n",
    "            if name_temp[0] == \"PatrickMcMullan\":\n",
    "                name.append(\"Patrick McMullan\")\n",
    "            elif name_temp[0] == \"AnnieWatt\":\n",
    "                name.append(\"Annie Watt\")\n",
    "            elif \"Mayor\" in name_temp[0]:\n",
    "                temp = name_temp[0].replace(\"Mayor \",\"\")\n",
    "                name.append(temp)\n",
    "            else:\n",
    "                name.append(name_temp[0])\n",
    "        for word in restr:\n",
    "            if word in name:\n",
    "                name.remove(word)\n",
    "    if len(name) > 2:\n",
    "        _=[G.add_edge(c[0],c[1],weight=1) for c in itertools.combinations(name,2)]\n",
    "    elif len(name) > 1:\n",
    "        G.add_edge(name[0],name[1],weight=1)        "
   ]
  },
  {
   "cell_type": "code",
   "execution_count": 63,
   "metadata": {
    "collapsed": false
   },
   "outputs": [],
   "source": [
    "Gg = nx.Graph()\n",
    "for u,v,data in G.edges_iter(data=True):\n",
    "    if Gg.has_edge(u,v):\n",
    "        Gg[u][v]['weight'] += 1\n",
    "    else:\n",
    "        Gg.add_edge(u, v, weight=1)"
   ]
  },
  {
   "cell_type": "markdown",
   "metadata": {},
   "source": [
    "## degrees"
   ]
  },
  {
   "cell_type": "code",
   "execution_count": 64,
   "metadata": {
    "collapsed": false
   },
   "outputs": [],
   "source": [
    "degrees=pd.DataFrame(G.degree().values(),index=G.degree().keys()).sort(0,ascending=False)"
   ]
  },
  {
   "cell_type": "code",
   "execution_count": 65,
   "metadata": {
    "collapsed": false
   },
   "outputs": [],
   "source": [
    "degrees = degrees.reset_index()"
   ]
  },
  {
   "cell_type": "code",
   "execution_count": 66,
   "metadata": {
    "collapsed": false
   },
   "outputs": [],
   "source": [
    "degrees.columns = [\"name\",\"number\"]"
   ]
  },
  {
   "cell_type": "code",
   "execution_count": 57,
   "metadata": {
    "collapsed": false
   },
   "outputs": [
    {
     "data": {
      "text/plain": [
       "80             Susan Shin\n",
       "81          Barbara Regna\n",
       "82               Liz Peek\n",
       "83            John Demsey\n",
       "84    Dawne Marie Grannum\n",
       "85    Alexandra Lind Rose\n",
       "86         Consul General\n",
       "87        Deborah Roberts\n",
       "88        Nathalie Kaplan\n",
       "89       Alexia Hamm Ryan\n",
       "90           Nina Griscom\n",
       "91            Fern Mallis\n",
       "92           Bette Midler\n",
       "93           Lisa Anastos\n",
       "94               Standing\n",
       "95         Patricia Shiah\n",
       "96                 John J\n",
       "97        Barbara Walters\n",
       "98     Beth Rudin DeWoody\n",
       "99         Julie Skarratt\n",
       "Name: name, dtype: object"
      ]
     },
     "execution_count": 57,
     "metadata": {},
     "output_type": "execute_result"
    }
   ],
   "source": [
    "degrees.name[80:100]"
   ]
  },
  {
   "cell_type": "code",
   "execution_count": 54,
   "metadata": {
    "collapsed": false
   },
   "outputs": [
    {
     "data": {
      "text/plain": [
       "[u'Kanavos',\n",
       " u'Dayssi Kanavos',\n",
       " u'Paul Kanavos',\n",
       " u'Kanavos, and Madeline Hult Elghanayan',\n",
       " u'Kanavos, and Claudia Lebenthal',\n",
       " u'Peter Kanavos',\n",
       " u'Sophia Kanavos',\n",
       " u'Kanavos, and Donya Bommer',\n",
       " u'Kanavos and Marisa Brown',\n",
       " u'Kanavos, and Nicholas Scoppetta',\n",
       " u'Kanavos, and Amy McFarland',\n",
       " u\"Kanavos, and Sha'Rhone Frost\",\n",
       " u'Olarte de Kanavos',\n",
       " u'Kanavos and Dayssi Olarte',\n",
       " u'Kanavos and Daniel OlarteCarolina Alvarez Mathies',\n",
       " u'Kanavos, and Nacho Figueras',\n",
       " u'Kanavos, and Cherry',\n",
       " u'Kanavos, and Mary Brown',\n",
       " u'Kanavos and Ashley McDermott',\n",
       " u'Kanavos and Valesca Guerrand-Hermes',\n",
       " u'Kanavos, and Natalia Echavarria',\n",
       " u'Kanavos and Sophia Kanavos',\n",
       " u'Kanavos, and Norma Olarte Becker',\n",
       " u'Daisy Kanavos',\n",
       " u'Kanavos and Daniel Olarte',\n",
       " u'Kanavos and Andrea Greeven Douzet',\n",
       " u'Kanavos and Brian Reyes',\n",
       " u'Dayssie Olarte DeKanavos',\n",
       " u'Kanavos and Soigne Kothari',\n",
       " u'Kanavos and Angela Barco',\n",
       " u'Kanavos and Juan Carlos Arcila Duque',\n",
       " u'Kanavos and Mark Gilbertson',\n",
       " u'Kanavos and Amy Fine Collins',\n",
       " u'Kanavos and Simone Mailman',\n",
       " u'Kanavos and Alexandra Lind Rose',\n",
       " u'Kanavos and Mary J',\n",
       " u'Paul de Kanavos',\n",
       " u'Kanavos and Frederick Anderson',\n",
       " u'Kanavos and Ghislaine Maxwell',\n",
       " u'Kanavos and Zani Gugelman',\n",
       " u'Kanavos and Nicholas Kanavos',\n",
       " u'Kanavos and Olivia Flatto',\n",
       " u'Kanavos and Maggie Cordish',\n",
       " u'Kanavos and Amy Astley',\n",
       " u'Kanavos and Rachel Becker',\n",
       " u'Kanavos and Kelly Behun Sugarman',\n",
       " u'Kanavos and Cecile Andrau',\n",
       " u'Alice Kanavos',\n",
       " u'Kanavos and Coralie Charriol Paul',\n",
       " u'Dayssi Olarte De Kanavos']"
      ]
     },
     "execution_count": 54,
     "metadata": {},
     "output_type": "execute_result"
    }
   ],
   "source": [
    "[i for i in degrees.name if \"Kanavos\" in i]"
   ]
  },
  {
   "cell_type": "code",
   "execution_count": 39,
   "metadata": {
    "collapsed": false
   },
   "outputs": [],
   "source": [
    "degreeres = map(lambda x,y: (x,y),degrees.name[0:100], degrees.number[0:100])"
   ]
  },
  {
   "cell_type": "code",
   "execution_count": 40,
   "metadata": {
    "collapsed": true
   },
   "outputs": [],
   "source": [
    "import pickle"
   ]
  },
  {
   "cell_type": "code",
   "execution_count": 41,
   "metadata": {
    "collapsed": false
   },
   "outputs": [],
   "source": [
    "with open('degreeres.pickle', 'wb') as f:\n",
    "    pickle.dump(degreeres, f)"
   ]
  },
  {
   "cell_type": "code",
   "execution_count": 14,
   "metadata": {
    "collapsed": false
   },
   "outputs": [],
   "source": [
    "pr=nx.pagerank(Gg)\n",
    "pranalysis=pd.DataFrame(pr.values(),index=pr.keys()).sort(0,ascending=False)"
   ]
  }
 ],
 "metadata": {
  "kernelspec": {
   "display_name": "Python 2",
   "language": "python",
   "name": "python2"
  },
  "language_info": {
   "codemirror_mode": {
    "name": "ipython",
    "version": 2
   },
   "file_extension": ".py",
   "mimetype": "text/x-python",
   "name": "python",
   "nbconvert_exporter": "python",
   "pygments_lexer": "ipython2",
   "version": "2.7.10"
  }
 },
 "nbformat": 4,
 "nbformat_minor": 0
}
