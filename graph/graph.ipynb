{
 "cells": [
  {
   "cell_type": "code",
   "execution_count": 1,
   "metadata": {
    "collapsed": true
   },
   "outputs": [],
   "source": [
    "import pandas as pd\n",
    "import networkx as nx\n",
    "import itertools"
   ]
  },
  {
   "cell_type": "code",
   "execution_count": 2,
   "metadata": {
    "collapsed": true
   },
   "outputs": [],
   "source": [
    "df = pd.read_json(\"rawfilteredbydate.json\")"
   ]
  },
  {
   "cell_type": "code",
   "execution_count": 3,
   "metadata": {
    "collapsed": false
   },
   "outputs": [
    {
     "data": {
      "text/html": [
       "<div>\n",
       "<table border=\"1\" class=\"dataframe\">\n",
       "  <thead>\n",
       "    <tr style=\"text-align: right;\">\n",
       "      <th></th>\n",
       "      <th>caption</th>\n",
       "      <th>date</th>\n",
       "    </tr>\n",
       "  </thead>\n",
       "  <tbody>\n",
       "    <tr>\n",
       "      <th>0</th>\n",
       "      <td>The Perlman Music Program Class of 2014</td>\n",
       "      <td>2014-08-22</td>\n",
       "    </tr>\n",
       "    <tr>\n",
       "      <th>1</th>\n",
       "      <td>Toby Perlman addresses the crowd</td>\n",
       "      <td>2014-08-22</td>\n",
       "    </tr>\n",
       "    <tr>\n",
       "      <th>2</th>\n",
       "      <td>Itzhak Perlman and Catherine Cho perform with...</td>\n",
       "      <td>2014-08-22</td>\n",
       "    </tr>\n",
       "    <tr>\n",
       "      <th>3</th>\n",
       "      <td>Julian Beck, Lyn Barlow, Ted Ayala, Elinor He...</td>\n",
       "      <td>2014-08-22</td>\n",
       "    </tr>\n",
       "    <tr>\n",
       "      <th>4</th>\n",
       "      <td>Toby Perlman and guests</td>\n",
       "      <td>2014-08-22</td>\n",
       "    </tr>\n",
       "  </tbody>\n",
       "</table>\n",
       "</div>"
      ],
      "text/plain": [
       "                                             caption       date\n",
       "0           The Perlman Music Program Class of 2014  2014-08-22\n",
       "1                  Toby Perlman addresses the crowd  2014-08-22\n",
       "2   Itzhak Perlman and Catherine Cho perform with... 2014-08-22\n",
       "3   Julian Beck, Lyn Barlow, Ted Ayala, Elinor He... 2014-08-22\n",
       "4                           Toby Perlman and guests  2014-08-22"
      ]
     },
     "execution_count": 3,
     "metadata": {},
     "output_type": "execute_result"
    }
   ],
   "source": [
    "df.head()"
   ]
  },
  {
   "cell_type": "code",
   "execution_count": 4,
   "metadata": {
    "collapsed": true
   },
   "outputs": [],
   "source": [
    "df[\"caption\"] = df['caption'].apply(lambda x: x.replace(\"\\n\",\"\"))"
   ]
  },
  {
   "cell_type": "code",
   "execution_count": 5,
   "metadata": {
    "collapsed": true
   },
   "outputs": [],
   "source": [
    "df = df[df['caption'].apply(lambda x: len(x)<=250)]"
   ]
  },
  {
   "cell_type": "code",
   "execution_count": 193,
   "metadata": {
    "collapsed": false
   },
   "outputs": [],
   "source": [
    "restr = [\"The\", \"Dr\", \"Verdana\", \"Helvetica\" ,\"Chairman\",\"Director\",\n",
    "         \"Guests\",\"President\",\"Hospital\",\"Special Surgery\",\"Executive Director\"\n",
    "         ,\"New York\",\"Museum\",\"Photographs\",\"Children\",\"The Society\",\"Dinner\",\n",
    "        \"Board Member\",\"Castle\",\"President and CEO\",\"Directors\",\"Clockwise\",\"Doubles\",\"BFAnyc\",\"Standing\",\n",
    "        \"Susan Magazine\",\"Trustees\",\"Chicago\",\"Yugoslavia\",\"Steering Committee\",\n",
    "        \"I Have A Dream\",\"Miss USA\",\"The Jewish Museum\",\"Gala Co-chair\",\"NYSD Contents\",\n",
    "         \"New York's\",\"Purim Ball Vice-Chair\",\"Fountain House\",\"The Cinema Society\",\n",
    "        \"Gala Honoree\",\"Getty Images\",\"New York City Center\",\"A Dance Company\"]"
   ]
  },
  {
   "cell_type": "code",
   "execution_count": 194,
   "metadata": {
    "collapsed": true
   },
   "outputs": [],
   "source": [
    "prereplace = [\"friend\",\"friends\"]"
   ]
  },
  {
   "cell_type": "code",
   "execution_count": 195,
   "metadata": {
    "collapsed": true
   },
   "outputs": [],
   "source": [
    "def replaceWord(s):\n",
    "    for i in range(len(prereplace)):\n",
    "        s = s.replace(prereplace[i],\"\")\n",
    "    return s"
   ]
  },
  {
   "cell_type": "code",
   "execution_count": 196,
   "metadata": {
    "collapsed": true
   },
   "outputs": [],
   "source": [
    "captions = map(lambda x:replaceWord(x),df.caption)"
   ]
  },
  {
   "cell_type": "code",
   "execution_count": 197,
   "metadata": {
    "collapsed": true
   },
   "outputs": [],
   "source": [
    "proper_noun_regex = r'([A-Z][A-Za-z-]*(,?\\s+(\\b(and|von|de|van der|van|der)\\b))?(\\s[A-Z][A-Za-z\\'-]*)*)'"
   ]
  },
  {
   "cell_type": "code",
   "execution_count": 198,
   "metadata": {
    "collapsed": true
   },
   "outputs": [],
   "source": [
    "import re"
   ]
  },
  {
   "cell_type": "code",
   "execution_count": 232,
   "metadata": {
    "collapsed": false
   },
   "outputs": [],
   "source": [
    "G=nx.MultiGraph()\n",
    "for caption in captions:\n",
    "    name = []\n",
    "    caption_temp  = re.findall(proper_noun_regex,caption)\n",
    "    for j in range(len(caption_temp)):\n",
    "        name_temp = caption_temp[j]\n",
    "        if len(name_temp[0])>5 and len(name_temp[0].split(\" \")) >= 1 and len(name_temp[0].split(\" \")) <=4:\n",
    "            \n",
    "            if name_temp[0] == \"PatrickMcMullan\" or name_temp[0] == \"Patrick McMullan\":\n",
    "                pass\n",
    "            elif name_temp[0] == \"AnnieWatt\":\n",
    "                name.append(\"Annie Watt\")\n",
    "            elif \"Mayor\" in name_temp[0]:\n",
    "                temp = name_temp[0].replace(\"Mayor \",\"\")\n",
    "                name.append(temp)\n",
    "            elif len(name_temp[0].split(\" and \")) == 2:\n",
    "                name1 = name_temp[0].split(\" and \")[0]\n",
    "                name2 = name_temp[0].split(\" and \")[1]\n",
    "                if len(name1.split(\" \")) == 1 and len(name2.split(\" \")) == 2:\n",
    "                    name.append(name1+ \" \" + name2.split(\" \")[1])\n",
    "                    name.append(name2)\n",
    "            else:\n",
    "                name.append(name_temp[0])\n",
    "        for word in restr:\n",
    "            if word in name:\n",
    "                name.remove(word)\n",
    "    if len(name) > 2:\n",
    "        _=[G.add_edge(c[0],c[1],weight=1) for c in itertools.combinations(name,2)]\n",
    "    elif len(name) > 1:\n",
    "        G.add_edge(name[0],name[1],weight=1)        "
   ]
  },
  {
   "cell_type": "code",
   "execution_count": 233,
   "metadata": {
    "collapsed": false
   },
   "outputs": [],
   "source": [
    "Gg = nx.Graph()\n",
    "for u,v,data in G.edges_iter(data=True):\n",
    "    if Gg.has_edge(u,v):\n",
    "        Gg[u][v]['weight'] += 1\n",
    "    else:\n",
    "        Gg.add_edge(u, v, weight=1)"
   ]
  },
  {
   "cell_type": "markdown",
   "metadata": {},
   "source": [
    "## degrees"
   ]
  },
  {
   "cell_type": "code",
   "execution_count": 234,
   "metadata": {
    "collapsed": false
   },
   "outputs": [],
   "source": [
    "degrees=pd.DataFrame(G.degree().values(),index=G.degree().keys()).sort(0,ascending=False)"
   ]
  },
  {
   "cell_type": "code",
   "execution_count": 235,
   "metadata": {
    "collapsed": false
   },
   "outputs": [],
   "source": [
    "degrees = degrees.reset_index()"
   ]
  },
  {
   "cell_type": "code",
   "execution_count": 255,
   "metadata": {
    "collapsed": false
   },
   "outputs": [
    {
     "data": {
      "text/html": [
       "<div>\n",
       "<table border=\"1\" class=\"dataframe\">\n",
       "  <thead>\n",
       "    <tr style=\"text-align: right;\">\n",
       "      <th></th>\n",
       "      <th>index</th>\n",
       "      <th>0</th>\n",
       "    </tr>\n",
       "  </thead>\n",
       "  <tbody>\n",
       "    <tr>\n",
       "      <th>950</th>\n",
       "      <td>Michele Oka Doner</td>\n",
       "      <td>46</td>\n",
       "    </tr>\n",
       "    <tr>\n",
       "      <th>951</th>\n",
       "      <td>Alyssa Miller</td>\n",
       "      <td>46</td>\n",
       "    </tr>\n",
       "    <tr>\n",
       "      <th>952</th>\n",
       "      <td>Debra Halpert</td>\n",
       "      <td>46</td>\n",
       "    </tr>\n",
       "    <tr>\n",
       "      <th>953</th>\n",
       "      <td>Jason Hirsch</td>\n",
       "      <td>46</td>\n",
       "    </tr>\n",
       "    <tr>\n",
       "      <th>954</th>\n",
       "      <td>Collection</td>\n",
       "      <td>46</td>\n",
       "    </tr>\n",
       "    <tr>\n",
       "      <th>955</th>\n",
       "      <td>Hugh Hildesley</td>\n",
       "      <td>46</td>\n",
       "    </tr>\n",
       "    <tr>\n",
       "      <th>956</th>\n",
       "      <td>Michael Lynne</td>\n",
       "      <td>46</td>\n",
       "    </tr>\n",
       "    <tr>\n",
       "      <th>957</th>\n",
       "      <td>Tara Rockefeller</td>\n",
       "      <td>46</td>\n",
       "    </tr>\n",
       "    <tr>\n",
       "      <th>958</th>\n",
       "      <td>Mickey Boardman</td>\n",
       "      <td>46</td>\n",
       "    </tr>\n",
       "    <tr>\n",
       "      <th>959</th>\n",
       "      <td>Rachel Heller</td>\n",
       "      <td>46</td>\n",
       "    </tr>\n",
       "    <tr>\n",
       "      <th>960</th>\n",
       "      <td>Adam Lippes</td>\n",
       "      <td>46</td>\n",
       "    </tr>\n",
       "    <tr>\n",
       "      <th>961</th>\n",
       "      <td>Daniel</td>\n",
       "      <td>46</td>\n",
       "    </tr>\n",
       "    <tr>\n",
       "      <th>962</th>\n",
       "      <td>Gabrielle Bacon</td>\n",
       "      <td>46</td>\n",
       "    </tr>\n",
       "    <tr>\n",
       "      <th>963</th>\n",
       "      <td>Jorn Weisbrodt</td>\n",
       "      <td>46</td>\n",
       "    </tr>\n",
       "    <tr>\n",
       "      <th>964</th>\n",
       "      <td>Gloria Steinem</td>\n",
       "      <td>46</td>\n",
       "    </tr>\n",
       "    <tr>\n",
       "      <th>965</th>\n",
       "      <td>Ann Hohenhaus</td>\n",
       "      <td>46</td>\n",
       "    </tr>\n",
       "    <tr>\n",
       "      <th>966</th>\n",
       "      <td>Kevin McLaughlin</td>\n",
       "      <td>46</td>\n",
       "    </tr>\n",
       "    <tr>\n",
       "      <th>967</th>\n",
       "      <td>Elizabeth Pyne</td>\n",
       "      <td>46</td>\n",
       "    </tr>\n",
       "    <tr>\n",
       "      <th>968</th>\n",
       "      <td>James McBride</td>\n",
       "      <td>46</td>\n",
       "    </tr>\n",
       "    <tr>\n",
       "      <th>969</th>\n",
       "      <td>Alexandra Porter</td>\n",
       "      <td>46</td>\n",
       "    </tr>\n",
       "    <tr>\n",
       "      <th>970</th>\n",
       "      <td>Suzie Aijala</td>\n",
       "      <td>46</td>\n",
       "    </tr>\n",
       "    <tr>\n",
       "      <th>971</th>\n",
       "      <td>Nancy Wexler</td>\n",
       "      <td>46</td>\n",
       "    </tr>\n",
       "    <tr>\n",
       "      <th>972</th>\n",
       "      <td>Tom Gold</td>\n",
       "      <td>46</td>\n",
       "    </tr>\n",
       "    <tr>\n",
       "      <th>973</th>\n",
       "      <td>Milstein Hall</td>\n",
       "      <td>46</td>\n",
       "    </tr>\n",
       "    <tr>\n",
       "      <th>974</th>\n",
       "      <td>Corwin</td>\n",
       "      <td>46</td>\n",
       "    </tr>\n",
       "    <tr>\n",
       "      <th>975</th>\n",
       "      <td>Tamara Tunie</td>\n",
       "      <td>46</td>\n",
       "    </tr>\n",
       "    <tr>\n",
       "      <th>976</th>\n",
       "      <td>Anne Hearst</td>\n",
       "      <td>46</td>\n",
       "    </tr>\n",
       "    <tr>\n",
       "      <th>977</th>\n",
       "      <td>Gail Monroe-Perry</td>\n",
       "      <td>46</td>\n",
       "    </tr>\n",
       "    <tr>\n",
       "      <th>978</th>\n",
       "      <td>Suzanne Johnson</td>\n",
       "      <td>46</td>\n",
       "    </tr>\n",
       "    <tr>\n",
       "      <th>979</th>\n",
       "      <td>Robert J</td>\n",
       "      <td>46</td>\n",
       "    </tr>\n",
       "    <tr>\n",
       "      <th>980</th>\n",
       "      <td>Anne Huntington</td>\n",
       "      <td>46</td>\n",
       "    </tr>\n",
       "    <tr>\n",
       "      <th>981</th>\n",
       "      <td>Amanda Brooks</td>\n",
       "      <td>46</td>\n",
       "    </tr>\n",
       "    <tr>\n",
       "      <th>982</th>\n",
       "      <td>Lauren Vernon</td>\n",
       "      <td>46</td>\n",
       "    </tr>\n",
       "    <tr>\n",
       "      <th>983</th>\n",
       "      <td>Co-Founder</td>\n",
       "      <td>46</td>\n",
       "    </tr>\n",
       "    <tr>\n",
       "      <th>984</th>\n",
       "      <td>Purim Ball</td>\n",
       "      <td>46</td>\n",
       "    </tr>\n",
       "    <tr>\n",
       "      <th>985</th>\n",
       "      <td>Lucy Sykes Rellie</td>\n",
       "      <td>45</td>\n",
       "    </tr>\n",
       "    <tr>\n",
       "      <th>986</th>\n",
       "      <td>Mica Ertegun</td>\n",
       "      <td>45</td>\n",
       "    </tr>\n",
       "    <tr>\n",
       "      <th>987</th>\n",
       "      <td>Sabine Heller</td>\n",
       "      <td>45</td>\n",
       "    </tr>\n",
       "    <tr>\n",
       "      <th>988</th>\n",
       "      <td>Marvin Davidson</td>\n",
       "      <td>45</td>\n",
       "    </tr>\n",
       "    <tr>\n",
       "      <th>989</th>\n",
       "      <td>Daryl Roth</td>\n",
       "      <td>45</td>\n",
       "    </tr>\n",
       "    <tr>\n",
       "      <th>990</th>\n",
       "      <td>Lauren Day Roberts</td>\n",
       "      <td>45</td>\n",
       "    </tr>\n",
       "    <tr>\n",
       "      <th>991</th>\n",
       "      <td>Caroline Rowley</td>\n",
       "      <td>45</td>\n",
       "    </tr>\n",
       "    <tr>\n",
       "      <th>992</th>\n",
       "      <td>Reynold Levy</td>\n",
       "      <td>45</td>\n",
       "    </tr>\n",
       "    <tr>\n",
       "      <th>993</th>\n",
       "      <td>Spring</td>\n",
       "      <td>45</td>\n",
       "    </tr>\n",
       "    <tr>\n",
       "      <th>994</th>\n",
       "      <td>Graziano de Boni</td>\n",
       "      <td>45</td>\n",
       "    </tr>\n",
       "    <tr>\n",
       "      <th>995</th>\n",
       "      <td>Matthew Broderick</td>\n",
       "      <td>45</td>\n",
       "    </tr>\n",
       "    <tr>\n",
       "      <th>996</th>\n",
       "      <td>Linda Fairstein</td>\n",
       "      <td>45</td>\n",
       "    </tr>\n",
       "    <tr>\n",
       "      <th>997</th>\n",
       "      <td>Patrick Murphy</td>\n",
       "      <td>45</td>\n",
       "    </tr>\n",
       "    <tr>\n",
       "      <th>998</th>\n",
       "      <td>Tiffany</td>\n",
       "      <td>45</td>\n",
       "    </tr>\n",
       "    <tr>\n",
       "      <th>999</th>\n",
       "      <td>Rory Hermelee</td>\n",
       "      <td>45</td>\n",
       "    </tr>\n",
       "  </tbody>\n",
       "</table>\n",
       "</div>"
      ],
      "text/plain": [
       "                  index   0\n",
       "950   Michele Oka Doner  46\n",
       "951       Alyssa Miller  46\n",
       "952       Debra Halpert  46\n",
       "953        Jason Hirsch  46\n",
       "954          Collection  46\n",
       "955      Hugh Hildesley  46\n",
       "956       Michael Lynne  46\n",
       "957    Tara Rockefeller  46\n",
       "958     Mickey Boardman  46\n",
       "959       Rachel Heller  46\n",
       "960         Adam Lippes  46\n",
       "961              Daniel  46\n",
       "962     Gabrielle Bacon  46\n",
       "963      Jorn Weisbrodt  46\n",
       "964      Gloria Steinem  46\n",
       "965       Ann Hohenhaus  46\n",
       "966    Kevin McLaughlin  46\n",
       "967      Elizabeth Pyne  46\n",
       "968       James McBride  46\n",
       "969    Alexandra Porter  46\n",
       "970        Suzie Aijala  46\n",
       "971        Nancy Wexler  46\n",
       "972            Tom Gold  46\n",
       "973       Milstein Hall  46\n",
       "974              Corwin  46\n",
       "975        Tamara Tunie  46\n",
       "976         Anne Hearst  46\n",
       "977   Gail Monroe-Perry  46\n",
       "978     Suzanne Johnson  46\n",
       "979            Robert J  46\n",
       "980     Anne Huntington  46\n",
       "981       Amanda Brooks  46\n",
       "982       Lauren Vernon  46\n",
       "983          Co-Founder  46\n",
       "984          Purim Ball  46\n",
       "985   Lucy Sykes Rellie  45\n",
       "986        Mica Ertegun  45\n",
       "987       Sabine Heller  45\n",
       "988     Marvin Davidson  45\n",
       "989          Daryl Roth  45\n",
       "990  Lauren Day Roberts  45\n",
       "991     Caroline Rowley  45\n",
       "992        Reynold Levy  45\n",
       "993              Spring  45\n",
       "994    Graziano de Boni  45\n",
       "995   Matthew Broderick  45\n",
       "996     Linda Fairstein  45\n",
       "997      Patrick Murphy  45\n",
       "998             Tiffany  45\n",
       "999       Rory Hermelee  45"
      ]
     },
     "execution_count": 255,
     "metadata": {},
     "output_type": "execute_result"
    }
   ],
   "source": [
    "degrees[950:1000]"
   ]
  },
  {
   "cell_type": "code",
   "execution_count": 226,
   "metadata": {
    "collapsed": false
   },
   "outputs": [],
   "source": [
    "degrees.columns = [\"name\",\"number\"]"
   ]
  },
  {
   "cell_type": "code",
   "execution_count": 227,
   "metadata": {
    "collapsed": false
   },
   "outputs": [
    {
     "data": {
      "text/plain": [
       "[u'Vice-Governor and Deputy Mayor']"
      ]
     },
     "execution_count": 227,
     "metadata": {},
     "output_type": "execute_result"
    }
   ],
   "source": [
    "[i for i in degrees.name if \" and \" in i]"
   ]
  },
  {
   "cell_type": "code",
   "execution_count": 228,
   "metadata": {
    "collapsed": false
   },
   "outputs": [],
   "source": [
    "degreeres = map(lambda x,y: (x,y),degrees.name[0:100], degrees.number[0:100])"
   ]
  },
  {
   "cell_type": "code",
   "execution_count": 229,
   "metadata": {
    "collapsed": true
   },
   "outputs": [],
   "source": [
    "import pickle"
   ]
  },
  {
   "cell_type": "code",
   "execution_count": 230,
   "metadata": {
    "collapsed": false
   },
   "outputs": [],
   "source": [
    "with open('degreeres.pickle', 'wb') as f:\n",
    "    pickle.dump(degreeres, f)"
   ]
  },
  {
   "cell_type": "markdown",
   "metadata": {},
   "source": [
    "## Pagerank"
   ]
  },
  {
   "cell_type": "code",
   "execution_count": 209,
   "metadata": {
    "collapsed": false
   },
   "outputs": [],
   "source": [
    "pr=nx.pagerank(Gg)\n",
    "pagerank=pd.DataFrame(pr.values(),index=pr.keys()).sort(0,ascending=False)"
   ]
  },
  {
   "cell_type": "code",
   "execution_count": 211,
   "metadata": {
    "collapsed": false
   },
   "outputs": [],
   "source": [
    "pagerank = pagerank.reset_index()"
   ]
  },
  {
   "cell_type": "code",
   "execution_count": 212,
   "metadata": {
    "collapsed": true
   },
   "outputs": [],
   "source": [
    "pagerank.columns = [\"name\",\"pr\"]"
   ]
  },
  {
   "cell_type": "code",
   "execution_count": 213,
   "metadata": {
    "collapsed": true
   },
   "outputs": [],
   "source": [
    "pagerankres = map(lambda x,y: (x,y),pagerank.name[0:100], pagerank.pr[0:100])"
   ]
  },
  {
   "cell_type": "code",
   "execution_count": 214,
   "metadata": {
    "collapsed": true
   },
   "outputs": [],
   "source": [
    "with open('pagerank.pickle', 'wb') as f:\n",
    "    pickle.dump(pagerankres, f)"
   ]
  },
  {
   "cell_type": "markdown",
   "metadata": {},
   "source": [
    "## Best Friend"
   ]
  },
  {
   "cell_type": "code",
   "execution_count": 215,
   "metadata": {
    "collapsed": true
   },
   "outputs": [],
   "source": [
    "wedge=[[g[0],g[1],g[2]['weight']] for g in Gg.edges(data=True)]\n",
    "friends=pd.DataFrame(wedge,columns=['n1','n2','weight']).sort('weight',ascending=False)\n",
    "friends.index=range(len(friends))"
   ]
  },
  {
   "cell_type": "code",
   "execution_count": 216,
   "metadata": {
    "collapsed": false
   },
   "outputs": [
    {
     "data": {
      "text/html": [
       "<div>\n",
       "<table border=\"1\" class=\"dataframe\">\n",
       "  <thead>\n",
       "    <tr style=\"text-align: right;\">\n",
       "      <th></th>\n",
       "      <th>n1</th>\n",
       "      <th>n2</th>\n",
       "      <th>weight</th>\n",
       "    </tr>\n",
       "  </thead>\n",
       "  <tbody>\n",
       "    <tr>\n",
       "      <th>0</th>\n",
       "      <td>Gillian Miniter</td>\n",
       "      <td>Sylvester Miniter</td>\n",
       "      <td>113</td>\n",
       "    </tr>\n",
       "    <tr>\n",
       "      <th>1</th>\n",
       "      <td>Bonnie Comley</td>\n",
       "      <td>Stewart Lane</td>\n",
       "      <td>85</td>\n",
       "    </tr>\n",
       "    <tr>\n",
       "      <th>2</th>\n",
       "      <td>Jamee Gregory</td>\n",
       "      <td>Peter Gregory</td>\n",
       "      <td>73</td>\n",
       "    </tr>\n",
       "    <tr>\n",
       "      <th>3</th>\n",
       "      <td>Geoffrey Bradfield</td>\n",
       "      <td>Roric Tobin</td>\n",
       "      <td>71</td>\n",
       "    </tr>\n",
       "    <tr>\n",
       "      <th>4</th>\n",
       "      <td>Andrew Saffir</td>\n",
       "      <td>Daniel Benedict</td>\n",
       "      <td>70</td>\n",
       "    </tr>\n",
       "  </tbody>\n",
       "</table>\n",
       "</div>"
      ],
      "text/plain": [
       "                   n1                 n2  weight\n",
       "0     Gillian Miniter  Sylvester Miniter     113\n",
       "1       Bonnie Comley       Stewart Lane      85\n",
       "2       Jamee Gregory      Peter Gregory      73\n",
       "3  Geoffrey Bradfield        Roric Tobin      71\n",
       "4       Andrew Saffir    Daniel Benedict      70"
      ]
     },
     "execution_count": 216,
     "metadata": {},
     "output_type": "execute_result"
    }
   ],
   "source": [
    "friends.head()"
   ]
  },
  {
   "cell_type": "code",
   "execution_count": 218,
   "metadata": {
    "collapsed": true
   },
   "outputs": [],
   "source": [
    "friendsres = map(lambda n1,n2,weight: ((n1,n2),weight), friends.n1[0:100], friends.n2[0:100], friends.weight[0:100])"
   ]
  },
  {
   "cell_type": "code",
   "execution_count": 219,
   "metadata": {
    "collapsed": true
   },
   "outputs": [],
   "source": [
    "with open('friends.pickle', 'wb') as f:\n",
    "    pickle.dump(friendsres, f)"
   ]
  },
  {
   "cell_type": "code",
   "execution_count": null,
   "metadata": {
    "collapsed": true
   },
   "outputs": [],
   "source": []
  }
 ],
 "metadata": {
  "kernelspec": {
   "display_name": "Python 2",
   "language": "python",
   "name": "python2"
  },
  "language_info": {
   "codemirror_mode": {
    "name": "ipython",
    "version": 2
   },
   "file_extension": ".py",
   "mimetype": "text/x-python",
   "name": "python",
   "nbconvert_exporter": "python",
   "pygments_lexer": "ipython2",
   "version": "2.7.10"
  }
 },
 "nbformat": 4,
 "nbformat_minor": 0
}
