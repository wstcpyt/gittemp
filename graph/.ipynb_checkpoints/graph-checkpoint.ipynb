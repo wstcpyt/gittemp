{
 "cells": [
  {
   "cell_type": "code",
   "execution_count": 1,
   "metadata": {
    "collapsed": true
   },
   "outputs": [],
   "source": [
    "import pandas as pd\n",
    "import networkx as nx\n",
    "import itertools"
   ]
  },
  {
   "cell_type": "code",
   "execution_count": 2,
   "metadata": {
    "collapsed": true
   },
   "outputs": [],
   "source": [
    "df = pd.read_json(\"rawfilteredbydate.json\")"
   ]
  },
  {
   "cell_type": "code",
   "execution_count": 3,
   "metadata": {
    "collapsed": false
   },
   "outputs": [
    {
     "data": {
      "text/html": [
       "<div>\n",
       "<table border=\"1\" class=\"dataframe\">\n",
       "  <thead>\n",
       "    <tr style=\"text-align: right;\">\n",
       "      <th></th>\n",
       "      <th>caption</th>\n",
       "      <th>date</th>\n",
       "    </tr>\n",
       "  </thead>\n",
       "  <tbody>\n",
       "    <tr>\n",
       "      <th>0</th>\n",
       "      <td>The Perlman Music Program Class of 2014</td>\n",
       "      <td>2014-08-22</td>\n",
       "    </tr>\n",
       "    <tr>\n",
       "      <th>1</th>\n",
       "      <td>Toby Perlman addresses the crowd</td>\n",
       "      <td>2014-08-22</td>\n",
       "    </tr>\n",
       "    <tr>\n",
       "      <th>2</th>\n",
       "      <td>Itzhak Perlman and Catherine Cho perform with...</td>\n",
       "      <td>2014-08-22</td>\n",
       "    </tr>\n",
       "    <tr>\n",
       "      <th>3</th>\n",
       "      <td>Julian Beck, Lyn Barlow, Ted Ayala, Elinor He...</td>\n",
       "      <td>2014-08-22</td>\n",
       "    </tr>\n",
       "    <tr>\n",
       "      <th>4</th>\n",
       "      <td>Toby Perlman and guests</td>\n",
       "      <td>2014-08-22</td>\n",
       "    </tr>\n",
       "  </tbody>\n",
       "</table>\n",
       "</div>"
      ],
      "text/plain": [
       "                                             caption       date\n",
       "0           The Perlman Music Program Class of 2014  2014-08-22\n",
       "1                  Toby Perlman addresses the crowd  2014-08-22\n",
       "2   Itzhak Perlman and Catherine Cho perform with... 2014-08-22\n",
       "3   Julian Beck, Lyn Barlow, Ted Ayala, Elinor He... 2014-08-22\n",
       "4                           Toby Perlman and guests  2014-08-22"
      ]
     },
     "execution_count": 3,
     "metadata": {},
     "output_type": "execute_result"
    }
   ],
   "source": [
    "df.head()"
   ]
  },
  {
   "cell_type": "code",
   "execution_count": 4,
   "metadata": {
    "collapsed": true
   },
   "outputs": [],
   "source": [
    "df[\"caption\"] = df['caption'].apply(lambda x: x.replace(\"\\n\",\"\"))"
   ]
  },
  {
   "cell_type": "code",
   "execution_count": 5,
   "metadata": {
    "collapsed": true
   },
   "outputs": [],
   "source": [
    "df = df[df['caption'].apply(lambda x: len(x)<=250)]"
   ]
  },
  {
   "cell_type": "code",
   "execution_count": 193,
   "metadata": {
    "collapsed": false
   },
   "outputs": [],
   "source": [
    "restr = [\"The\", \"Dr\", \"Verdana\", \"Helvetica\" ,\"Chairman\",\"Director\",\n",
    "         \"Guests\",\"President\",\"Hospital\",\"Special Surgery\",\"Executive Director\"\n",
    "         ,\"New York\",\"Museum\",\"Photographs\",\"Children\",\"The Society\",\"Dinner\",\n",
    "        \"Board Member\",\"Castle\",\"President and CEO\",\"Directors\",\"Clockwise\",\"Doubles\",\"BFAnyc\",\"Standing\",\n",
    "        \"Susan Magazine\",\"Trustees\",\"Chicago\",\"Yugoslavia\",\"Steering Committee\",\n",
    "        \"I Have A Dream\"]"
   ]
  },
  {
   "cell_type": "code",
   "execution_count": 194,
   "metadata": {
    "collapsed": true
   },
   "outputs": [],
   "source": [
    "prereplace = [\"friend\",\"friends\"]"
   ]
  },
  {
   "cell_type": "code",
   "execution_count": 195,
   "metadata": {
    "collapsed": true
   },
   "outputs": [],
   "source": [
    "def replaceWord(s):\n",
    "    for i in range(len(prereplace)):\n",
    "        s = s.replace(prereplace[i],\"\")\n",
    "    return s"
   ]
  },
  {
   "cell_type": "code",
   "execution_count": 196,
   "metadata": {
    "collapsed": true
   },
   "outputs": [],
   "source": [
    "captions = map(lambda x:replaceWord(x),df.caption)"
   ]
  },
  {
   "cell_type": "code",
   "execution_count": 197,
   "metadata": {
    "collapsed": true
   },
   "outputs": [],
   "source": [
    "proper_noun_regex = r'([A-Z][A-Za-z-]*(,?\\s+(\\b(and|von|de|van der|van|der)\\b))?(\\s[A-Z][A-Za-z\\'-]*)*)'"
   ]
  },
  {
   "cell_type": "code",
   "execution_count": 198,
   "metadata": {
    "collapsed": true
   },
   "outputs": [],
   "source": [
    "import re"
   ]
  },
  {
   "cell_type": "code",
   "execution_count": 232,
   "metadata": {
    "collapsed": false
   },
   "outputs": [],
   "source": [
    "G=nx.MultiGraph()\n",
    "for caption in captions:\n",
    "    name = []\n",
    "    caption_temp  = re.findall(proper_noun_regex,caption)\n",
    "    for j in range(len(caption_temp)):\n",
    "        name_temp = caption_temp[j]\n",
    "        if len(name_temp[0])>5 and len(name_temp[0].split(\" \")) >= 1 and len(name_temp[0].split(\" \")) <=4:\n",
    "            \n",
    "            if name_temp[0] == \"PatrickMcMullan\" or name_temp[0] == \"Patrick McMullan\":\n",
    "                pass\n",
    "            elif name_temp[0] == \"AnnieWatt\":\n",
    "                name.append(\"Annie Watt\")\n",
    "            elif \"Mayor\" in name_temp[0]:\n",
    "                temp = name_temp[0].replace(\"Mayor \",\"\")\n",
    "                name.append(temp)\n",
    "            elif len(name_temp[0].split(\" and \")) == 2:\n",
    "                name1 = name_temp[0].split(\" and \")[0]\n",
    "                name2 = name_temp[0].split(\" and \")[1]\n",
    "                if len(name1.split(\" \")) == 1 and len(name2.split(\" \")) == 2:\n",
    "                    name.append(name1+ \" \" + name2.split(\" \")[1])\n",
    "                    name.append(name2)\n",
    "            else:\n",
    "                name.append(name_temp[0])\n",
    "        for word in restr:\n",
    "            if word in name:\n",
    "                name.remove(word)\n",
    "    if len(name) > 2:\n",
    "        _=[G.add_edge(c[0],c[1],weight=1) for c in itertools.combinations(name,2)]\n",
    "    elif len(name) > 1:\n",
    "        G.add_edge(name[0],name[1],weight=1)        "
   ]
  },
  {
   "cell_type": "code",
   "execution_count": 233,
   "metadata": {
    "collapsed": false
   },
   "outputs": [],
   "source": [
    "Gg = nx.Graph()\n",
    "for u,v,data in G.edges_iter(data=True):\n",
    "    if Gg.has_edge(u,v):\n",
    "        Gg[u][v]['weight'] += 1\n",
    "    else:\n",
    "        Gg.add_edge(u, v, weight=1)"
   ]
  },
  {
   "cell_type": "markdown",
   "metadata": {},
   "source": [
    "## degrees"
   ]
  },
  {
   "cell_type": "code",
   "execution_count": 234,
   "metadata": {
    "collapsed": false
   },
   "outputs": [],
   "source": [
    "degrees=pd.DataFrame(G.degree().values(),index=G.degree().keys()).sort(0,ascending=False)"
   ]
  },
  {
   "cell_type": "code",
   "execution_count": 235,
   "metadata": {
    "collapsed": false
   },
   "outputs": [],
   "source": [
    "degrees = degrees.reset_index()"
   ]
  },
  {
   "cell_type": "code",
   "execution_count": 237,
   "metadata": {
    "collapsed": false
   },
   "outputs": [
    {
     "data": {
      "text/html": [
       "<div>\n",
       "<table border=\"1\" class=\"dataframe\">\n",
       "  <thead>\n",
       "    <tr style=\"text-align: right;\">\n",
       "      <th></th>\n",
       "      <th>index</th>\n",
       "      <th>0</th>\n",
       "    </tr>\n",
       "  </thead>\n",
       "  <tbody>\n",
       "    <tr>\n",
       "      <th>100</th>\n",
       "      <td>Beth Rudin DeWoody</td>\n",
       "      <td>141</td>\n",
       "    </tr>\n",
       "    <tr>\n",
       "      <th>101</th>\n",
       "      <td>Fern Mallis</td>\n",
       "      <td>140</td>\n",
       "    </tr>\n",
       "    <tr>\n",
       "      <th>102</th>\n",
       "      <td>Margaret Russell</td>\n",
       "      <td>139</td>\n",
       "    </tr>\n",
       "    <tr>\n",
       "      <th>103</th>\n",
       "      <td>Mary Snow</td>\n",
       "      <td>139</td>\n",
       "    </tr>\n",
       "    <tr>\n",
       "      <th>104</th>\n",
       "      <td>Robert I</td>\n",
       "      <td>139</td>\n",
       "    </tr>\n",
       "    <tr>\n",
       "      <th>105</th>\n",
       "      <td>Wendy Carduner</td>\n",
       "      <td>138</td>\n",
       "    </tr>\n",
       "    <tr>\n",
       "      <th>106</th>\n",
       "      <td>Nina Griscom</td>\n",
       "      <td>138</td>\n",
       "    </tr>\n",
       "    <tr>\n",
       "      <th>107</th>\n",
       "      <td>Barbara Walters</td>\n",
       "      <td>137</td>\n",
       "    </tr>\n",
       "    <tr>\n",
       "      <th>108</th>\n",
       "      <td>Julia Koch</td>\n",
       "      <td>137</td>\n",
       "    </tr>\n",
       "    <tr>\n",
       "      <th>109</th>\n",
       "      <td>Wilbur Ross</td>\n",
       "      <td>137</td>\n",
       "    </tr>\n",
       "    <tr>\n",
       "      <th>110</th>\n",
       "      <td>Jay McInerney</td>\n",
       "      <td>137</td>\n",
       "    </tr>\n",
       "    <tr>\n",
       "      <th>111</th>\n",
       "      <td>Marcia Mishaan</td>\n",
       "      <td>135</td>\n",
       "    </tr>\n",
       "    <tr>\n",
       "      <th>112</th>\n",
       "      <td>Douglas Hannant</td>\n",
       "      <td>135</td>\n",
       "    </tr>\n",
       "    <tr>\n",
       "      <th>113</th>\n",
       "      <td>Gerald Loughlin</td>\n",
       "      <td>134</td>\n",
       "    </tr>\n",
       "    <tr>\n",
       "      <th>114</th>\n",
       "      <td>Hoda Kotb</td>\n",
       "      <td>134</td>\n",
       "    </tr>\n",
       "    <tr>\n",
       "      <th>115</th>\n",
       "      <td>Tatiana Platt</td>\n",
       "      <td>133</td>\n",
       "    </tr>\n",
       "    <tr>\n",
       "      <th>116</th>\n",
       "      <td>Suzanne Cochran</td>\n",
       "      <td>133</td>\n",
       "    </tr>\n",
       "    <tr>\n",
       "      <th>117</th>\n",
       "      <td>Georgina Schaeffer</td>\n",
       "      <td>133</td>\n",
       "    </tr>\n",
       "    <tr>\n",
       "      <th>118</th>\n",
       "      <td>Coralie Charriol Paul</td>\n",
       "      <td>132</td>\n",
       "    </tr>\n",
       "    <tr>\n",
       "      <th>119</th>\n",
       "      <td>Michael Kennedy</td>\n",
       "      <td>132</td>\n",
       "    </tr>\n",
       "    <tr>\n",
       "      <th>120</th>\n",
       "      <td>David Koch</td>\n",
       "      <td>132</td>\n",
       "    </tr>\n",
       "    <tr>\n",
       "      <th>121</th>\n",
       "      <td>Campion Platt</td>\n",
       "      <td>132</td>\n",
       "    </tr>\n",
       "    <tr>\n",
       "      <th>122</th>\n",
       "      <td>Anna Wintour</td>\n",
       "      <td>131</td>\n",
       "    </tr>\n",
       "    <tr>\n",
       "      <th>123</th>\n",
       "      <td>Lauren Bush</td>\n",
       "      <td>131</td>\n",
       "    </tr>\n",
       "    <tr>\n",
       "      <th>124</th>\n",
       "      <td>Jamie Niven</td>\n",
       "      <td>131</td>\n",
       "    </tr>\n",
       "    <tr>\n",
       "      <th>125</th>\n",
       "      <td>Mary Van Pelt</td>\n",
       "      <td>131</td>\n",
       "    </tr>\n",
       "    <tr>\n",
       "      <th>126</th>\n",
       "      <td>Carol Mack</td>\n",
       "      <td>130</td>\n",
       "    </tr>\n",
       "    <tr>\n",
       "      <th>127</th>\n",
       "      <td>Shoshanna Gruss</td>\n",
       "      <td>130</td>\n",
       "    </tr>\n",
       "    <tr>\n",
       "      <th>128</th>\n",
       "      <td>Ken Langone</td>\n",
       "      <td>129</td>\n",
       "    </tr>\n",
       "    <tr>\n",
       "      <th>129</th>\n",
       "      <td>Agnes Gund</td>\n",
       "      <td>129</td>\n",
       "    </tr>\n",
       "    <tr>\n",
       "      <th>130</th>\n",
       "      <td>Caryn Zucker</td>\n",
       "      <td>128</td>\n",
       "    </tr>\n",
       "    <tr>\n",
       "      <th>131</th>\n",
       "      <td>Cassandra Seidenfeld</td>\n",
       "      <td>128</td>\n",
       "    </tr>\n",
       "    <tr>\n",
       "      <th>132</th>\n",
       "      <td>Jonathan Tisch</td>\n",
       "      <td>127</td>\n",
       "    </tr>\n",
       "    <tr>\n",
       "      <th>133</th>\n",
       "      <td>Steven Stolman</td>\n",
       "      <td>127</td>\n",
       "    </tr>\n",
       "    <tr>\n",
       "      <th>134</th>\n",
       "      <td>Charlotte Moss</td>\n",
       "      <td>127</td>\n",
       "    </tr>\n",
       "    <tr>\n",
       "      <th>135</th>\n",
       "      <td>Richard Mishaan</td>\n",
       "      <td>127</td>\n",
       "    </tr>\n",
       "    <tr>\n",
       "      <th>136</th>\n",
       "      <td>Clare McKeon</td>\n",
       "      <td>126</td>\n",
       "    </tr>\n",
       "    <tr>\n",
       "      <th>137</th>\n",
       "      <td>Roxanne Palin</td>\n",
       "      <td>126</td>\n",
       "    </tr>\n",
       "    <tr>\n",
       "      <th>138</th>\n",
       "      <td>Futter</td>\n",
       "      <td>126</td>\n",
       "    </tr>\n",
       "    <tr>\n",
       "      <th>139</th>\n",
       "      <td>Michele Gerber Klein</td>\n",
       "      <td>125</td>\n",
       "    </tr>\n",
       "    <tr>\n",
       "      <th>140</th>\n",
       "      <td>Jonathan Farkas</td>\n",
       "      <td>124</td>\n",
       "    </tr>\n",
       "    <tr>\n",
       "      <th>141</th>\n",
       "      <td>Stephanie Winston Wolkoff</td>\n",
       "      <td>124</td>\n",
       "    </tr>\n",
       "    <tr>\n",
       "      <th>142</th>\n",
       "      <td>Amanda Hearst</td>\n",
       "      <td>124</td>\n",
       "    </tr>\n",
       "    <tr>\n",
       "      <th>143</th>\n",
       "      <td>Melissa Berkelhammer</td>\n",
       "      <td>123</td>\n",
       "    </tr>\n",
       "    <tr>\n",
       "      <th>144</th>\n",
       "      <td>Sandra McConnell</td>\n",
       "      <td>123</td>\n",
       "    </tr>\n",
       "    <tr>\n",
       "      <th>145</th>\n",
       "      <td>Guy Robinson</td>\n",
       "      <td>123</td>\n",
       "    </tr>\n",
       "    <tr>\n",
       "      <th>146</th>\n",
       "      <td>Chris Meigher</td>\n",
       "      <td>123</td>\n",
       "    </tr>\n",
       "    <tr>\n",
       "      <th>147</th>\n",
       "      <td>Evelyn Tompkins</td>\n",
       "      <td>123</td>\n",
       "    </tr>\n",
       "    <tr>\n",
       "      <th>148</th>\n",
       "      <td>Grossman</td>\n",
       "      <td>122</td>\n",
       "    </tr>\n",
       "    <tr>\n",
       "      <th>149</th>\n",
       "      <td>Donald Tober</td>\n",
       "      <td>122</td>\n",
       "    </tr>\n",
       "  </tbody>\n",
       "</table>\n",
       "</div>"
      ],
      "text/plain": [
       "                         index    0\n",
       "100         Beth Rudin DeWoody  141\n",
       "101                Fern Mallis  140\n",
       "102           Margaret Russell  139\n",
       "103                  Mary Snow  139\n",
       "104                   Robert I  139\n",
       "105             Wendy Carduner  138\n",
       "106               Nina Griscom  138\n",
       "107            Barbara Walters  137\n",
       "108                 Julia Koch  137\n",
       "109                Wilbur Ross  137\n",
       "110              Jay McInerney  137\n",
       "111             Marcia Mishaan  135\n",
       "112            Douglas Hannant  135\n",
       "113            Gerald Loughlin  134\n",
       "114                  Hoda Kotb  134\n",
       "115              Tatiana Platt  133\n",
       "116            Suzanne Cochran  133\n",
       "117         Georgina Schaeffer  133\n",
       "118      Coralie Charriol Paul  132\n",
       "119            Michael Kennedy  132\n",
       "120                 David Koch  132\n",
       "121              Campion Platt  132\n",
       "122               Anna Wintour  131\n",
       "123                Lauren Bush  131\n",
       "124                Jamie Niven  131\n",
       "125              Mary Van Pelt  131\n",
       "126                 Carol Mack  130\n",
       "127            Shoshanna Gruss  130\n",
       "128                Ken Langone  129\n",
       "129                 Agnes Gund  129\n",
       "130               Caryn Zucker  128\n",
       "131       Cassandra Seidenfeld  128\n",
       "132             Jonathan Tisch  127\n",
       "133             Steven Stolman  127\n",
       "134             Charlotte Moss  127\n",
       "135            Richard Mishaan  127\n",
       "136               Clare McKeon  126\n",
       "137              Roxanne Palin  126\n",
       "138                     Futter  126\n",
       "139       Michele Gerber Klein  125\n",
       "140            Jonathan Farkas  124\n",
       "141  Stephanie Winston Wolkoff  124\n",
       "142              Amanda Hearst  124\n",
       "143       Melissa Berkelhammer  123\n",
       "144           Sandra McConnell  123\n",
       "145               Guy Robinson  123\n",
       "146              Chris Meigher  123\n",
       "147            Evelyn Tompkins  123\n",
       "148                   Grossman  122\n",
       "149               Donald Tober  122"
      ]
     },
     "execution_count": 237,
     "metadata": {},
     "output_type": "execute_result"
    }
   ],
   "source": [
    "degrees[100:150]"
   ]
  },
  {
   "cell_type": "code",
   "execution_count": 226,
   "metadata": {
    "collapsed": false
   },
   "outputs": [],
   "source": [
    "degrees.columns = [\"name\",\"number\"]"
   ]
  },
  {
   "cell_type": "code",
   "execution_count": 227,
   "metadata": {
    "collapsed": false
   },
   "outputs": [
    {
     "data": {
      "text/plain": [
       "[u'Vice-Governor and Deputy Mayor']"
      ]
     },
     "execution_count": 227,
     "metadata": {},
     "output_type": "execute_result"
    }
   ],
   "source": [
    "[i for i in degrees.name if \" and \" in i]"
   ]
  },
  {
   "cell_type": "code",
   "execution_count": 228,
   "metadata": {
    "collapsed": false
   },
   "outputs": [],
   "source": [
    "degreeres = map(lambda x,y: (x,y),degrees.name[0:100], degrees.number[0:100])"
   ]
  },
  {
   "cell_type": "code",
   "execution_count": 229,
   "metadata": {
    "collapsed": true
   },
   "outputs": [],
   "source": [
    "import pickle"
   ]
  },
  {
   "cell_type": "code",
   "execution_count": 230,
   "metadata": {
    "collapsed": false
   },
   "outputs": [],
   "source": [
    "with open('degreeres.pickle', 'wb') as f:\n",
    "    pickle.dump(degreeres, f)"
   ]
  },
  {
   "cell_type": "markdown",
   "metadata": {},
   "source": [
    "## Pagerank"
   ]
  },
  {
   "cell_type": "code",
   "execution_count": 209,
   "metadata": {
    "collapsed": false
   },
   "outputs": [],
   "source": [
    "pr=nx.pagerank(Gg)\n",
    "pagerank=pd.DataFrame(pr.values(),index=pr.keys()).sort(0,ascending=False)"
   ]
  },
  {
   "cell_type": "code",
   "execution_count": 211,
   "metadata": {
    "collapsed": false
   },
   "outputs": [],
   "source": [
    "pagerank = pagerank.reset_index()"
   ]
  },
  {
   "cell_type": "code",
   "execution_count": 212,
   "metadata": {
    "collapsed": true
   },
   "outputs": [],
   "source": [
    "pagerank.columns = [\"name\",\"pr\"]"
   ]
  },
  {
   "cell_type": "code",
   "execution_count": 213,
   "metadata": {
    "collapsed": true
   },
   "outputs": [],
   "source": [
    "pagerankres = map(lambda x,y: (x,y),pagerank.name[0:100], pagerank.pr[0:100])"
   ]
  },
  {
   "cell_type": "code",
   "execution_count": 214,
   "metadata": {
    "collapsed": true
   },
   "outputs": [],
   "source": [
    "with open('pagerank.pickle', 'wb') as f:\n",
    "    pickle.dump(pagerankres, f)"
   ]
  },
  {
   "cell_type": "markdown",
   "metadata": {},
   "source": [
    "## Best Friend"
   ]
  },
  {
   "cell_type": "code",
   "execution_count": 215,
   "metadata": {
    "collapsed": true
   },
   "outputs": [],
   "source": [
    "wedge=[[g[0],g[1],g[2]['weight']] for g in Gg.edges(data=True)]\n",
    "friends=pd.DataFrame(wedge,columns=['n1','n2','weight']).sort('weight',ascending=False)\n",
    "friends.index=range(len(friends))"
   ]
  },
  {
   "cell_type": "code",
   "execution_count": 216,
   "metadata": {
    "collapsed": false
   },
   "outputs": [
    {
     "data": {
      "text/html": [
       "<div>\n",
       "<table border=\"1\" class=\"dataframe\">\n",
       "  <thead>\n",
       "    <tr style=\"text-align: right;\">\n",
       "      <th></th>\n",
       "      <th>n1</th>\n",
       "      <th>n2</th>\n",
       "      <th>weight</th>\n",
       "    </tr>\n",
       "  </thead>\n",
       "  <tbody>\n",
       "    <tr>\n",
       "      <th>0</th>\n",
       "      <td>Gillian Miniter</td>\n",
       "      <td>Sylvester Miniter</td>\n",
       "      <td>113</td>\n",
       "    </tr>\n",
       "    <tr>\n",
       "      <th>1</th>\n",
       "      <td>Bonnie Comley</td>\n",
       "      <td>Stewart Lane</td>\n",
       "      <td>85</td>\n",
       "    </tr>\n",
       "    <tr>\n",
       "      <th>2</th>\n",
       "      <td>Jamee Gregory</td>\n",
       "      <td>Peter Gregory</td>\n",
       "      <td>73</td>\n",
       "    </tr>\n",
       "    <tr>\n",
       "      <th>3</th>\n",
       "      <td>Geoffrey Bradfield</td>\n",
       "      <td>Roric Tobin</td>\n",
       "      <td>71</td>\n",
       "    </tr>\n",
       "    <tr>\n",
       "      <th>4</th>\n",
       "      <td>Andrew Saffir</td>\n",
       "      <td>Daniel Benedict</td>\n",
       "      <td>70</td>\n",
       "    </tr>\n",
       "  </tbody>\n",
       "</table>\n",
       "</div>"
      ],
      "text/plain": [
       "                   n1                 n2  weight\n",
       "0     Gillian Miniter  Sylvester Miniter     113\n",
       "1       Bonnie Comley       Stewart Lane      85\n",
       "2       Jamee Gregory      Peter Gregory      73\n",
       "3  Geoffrey Bradfield        Roric Tobin      71\n",
       "4       Andrew Saffir    Daniel Benedict      70"
      ]
     },
     "execution_count": 216,
     "metadata": {},
     "output_type": "execute_result"
    }
   ],
   "source": [
    "friends.head()"
   ]
  },
  {
   "cell_type": "code",
   "execution_count": 218,
   "metadata": {
    "collapsed": true
   },
   "outputs": [],
   "source": [
    "friendsres = map(lambda n1,n2,weight: ((n1,n2),weight), friends.n1[0:100], friends.n2[0:100], friends.weight[0:100])"
   ]
  },
  {
   "cell_type": "code",
   "execution_count": 219,
   "metadata": {
    "collapsed": true
   },
   "outputs": [],
   "source": [
    "with open('friends.pickle', 'wb') as f:\n",
    "    pickle.dump(friendsres, f)"
   ]
  },
  {
   "cell_type": "code",
   "execution_count": null,
   "metadata": {
    "collapsed": true
   },
   "outputs": [],
   "source": []
  }
 ],
 "metadata": {
  "kernelspec": {
   "display_name": "Python 2",
   "language": "python",
   "name": "python2"
  },
  "language_info": {
   "codemirror_mode": {
    "name": "ipython",
    "version": 2
   },
   "file_extension": ".py",
   "mimetype": "text/x-python",
   "name": "python",
   "nbconvert_exporter": "python",
   "pygments_lexer": "ipython2",
   "version": "2.7.10"
  }
 },
 "nbformat": 4,
 "nbformat_minor": 0
}
