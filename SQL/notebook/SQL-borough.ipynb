{
 "cells": [
  {
   "cell_type": "code",
   "execution_count": 1,
   "metadata": {
    "collapsed": false
   },
   "outputs": [],
   "source": [
    "import pandas as pd\n",
    "from scipy import stats\n",
    "import numpy as np"
   ]
  },
  {
   "cell_type": "code",
   "execution_count": 2,
   "metadata": {
    "collapsed": false
   },
   "outputs": [
    {
     "name": "stderr",
     "output_type": "stream",
     "text": [
      "/Users/yutongpang/.virtualenvs/sqlVen27/lib/python2.7/site-packages/IPython/core/interactiveshell.py:2723: DtypeWarning: Columns (6) have mixed types. Specify dtype option on import or set low_memory=False.\n",
      "  interactivity=interactivity, compiler=compiler, result=result)\n"
     ]
    }
   ],
   "source": [
    "webExtract = pd.read_csv(\"data/nyc_inspection_data/WebExtract.txt\").fillna(0)"
   ]
  },
  {
   "cell_type": "code",
   "execution_count": 3,
   "metadata": {
    "collapsed": false
   },
   "outputs": [
    {
     "data": {
      "text/plain": [
       "25232"
      ]
     },
     "execution_count": 3,
     "metadata": {},
     "output_type": "execute_result"
    }
   ],
   "source": [
    "len(webExtract.CAMIS.unique())"
   ]
  },
  {
   "cell_type": "code",
   "execution_count": 4,
   "metadata": {
    "collapsed": false
   },
   "outputs": [],
   "source": [
    "webExtract[\"INSPDATE\"] = pd.to_datetime(webExtract.INSPDATE)"
   ]
  },
  {
   "cell_type": "code",
   "execution_count": 5,
   "metadata": {
    "collapsed": false
   },
   "outputs": [],
   "source": [
    "webExtract = webExtract.sort_values(by=[\"INSPDATE\",\"SCORE\"])"
   ]
  },
  {
   "cell_type": "code",
   "execution_count": 6,
   "metadata": {
    "collapsed": false
   },
   "outputs": [],
   "source": [
    "webExtract = webExtract.groupby(\"CAMIS\").last()"
   ]
  },
  {
   "cell_type": "code",
   "execution_count": 7,
   "metadata": {
    "collapsed": false
   },
   "outputs": [],
   "source": [
    "webExtract['CAMIS'] = webExtract.index"
   ]
  },
  {
   "cell_type": "code",
   "execution_count": 8,
   "metadata": {
    "collapsed": false
   },
   "outputs": [
    {
     "data": {
      "text/html": [
       "<div>\n",
       "<table border=\"1\" class=\"dataframe\">\n",
       "  <thead>\n",
       "    <tr style=\"text-align: right;\">\n",
       "      <th></th>\n",
       "      <th>DBA</th>\n",
       "      <th>BORO</th>\n",
       "      <th>BUILDING</th>\n",
       "      <th>STREET</th>\n",
       "      <th>ZIPCODE</th>\n",
       "      <th>PHONE</th>\n",
       "      <th>CUISINECODE</th>\n",
       "      <th>INSPDATE</th>\n",
       "      <th>ACTION</th>\n",
       "      <th>VIOLCODE</th>\n",
       "      <th>SCORE</th>\n",
       "      <th>CURRENTGRADE</th>\n",
       "      <th>GRADEDATE</th>\n",
       "      <th>RECORDDATE</th>\n",
       "      <th>CAMIS</th>\n",
       "    </tr>\n",
       "    <tr>\n",
       "      <th>CAMIS</th>\n",
       "      <th></th>\n",
       "      <th></th>\n",
       "      <th></th>\n",
       "      <th></th>\n",
       "      <th></th>\n",
       "      <th></th>\n",
       "      <th></th>\n",
       "      <th></th>\n",
       "      <th></th>\n",
       "      <th></th>\n",
       "      <th></th>\n",
       "      <th></th>\n",
       "      <th></th>\n",
       "      <th></th>\n",
       "      <th></th>\n",
       "    </tr>\n",
       "  </thead>\n",
       "  <tbody>\n",
       "    <tr>\n",
       "      <th>30075445</th>\n",
       "      <td>MORRIS PARK BAKE SHOP</td>\n",
       "      <td>2</td>\n",
       "      <td>1007</td>\n",
       "      <td>MORRIS PARK AVE                               ...</td>\n",
       "      <td>10462.0</td>\n",
       "      <td>7188924968</td>\n",
       "      <td>8</td>\n",
       "      <td>2014-03-03</td>\n",
       "      <td>D</td>\n",
       "      <td>10F</td>\n",
       "      <td>2.0</td>\n",
       "      <td>A</td>\n",
       "      <td>2014-03-03 00:00:00</td>\n",
       "      <td>2014-09-04 06:01:28.403000000</td>\n",
       "      <td>30075445</td>\n",
       "    </tr>\n",
       "    <tr>\n",
       "      <th>30112340</th>\n",
       "      <td>WENDY'S</td>\n",
       "      <td>3</td>\n",
       "      <td>469</td>\n",
       "      <td>FLATBUSH AVENUE</td>\n",
       "      <td>11225.0</td>\n",
       "      <td>7182875005</td>\n",
       "      <td>39</td>\n",
       "      <td>2014-07-01</td>\n",
       "      <td>F</td>\n",
       "      <td>04J</td>\n",
       "      <td>23.0</td>\n",
       "      <td>B</td>\n",
       "      <td>2014-07-01 00:00:00</td>\n",
       "      <td>2014-09-04 06:01:28.403000000</td>\n",
       "      <td>30112340</td>\n",
       "    </tr>\n",
       "    <tr>\n",
       "      <th>30191841</th>\n",
       "      <td>DJ REYNOLDS PUB AND RESTAURANT</td>\n",
       "      <td>1</td>\n",
       "      <td>351</td>\n",
       "      <td>WEST 57 STREET</td>\n",
       "      <td>10019.0</td>\n",
       "      <td>2122452912</td>\n",
       "      <td>3</td>\n",
       "      <td>2013-07-22</td>\n",
       "      <td>D</td>\n",
       "      <td>10F</td>\n",
       "      <td>11.0</td>\n",
       "      <td>A</td>\n",
       "      <td>2013-07-22 00:00:00</td>\n",
       "      <td>2014-09-04 06:01:28.403000000</td>\n",
       "      <td>30191841</td>\n",
       "    </tr>\n",
       "    <tr>\n",
       "      <th>40356018</th>\n",
       "      <td>RIVIERA CATERER</td>\n",
       "      <td>3</td>\n",
       "      <td>2780</td>\n",
       "      <td>STILLWELL AVENUE</td>\n",
       "      <td>11224.0</td>\n",
       "      <td>7183723031</td>\n",
       "      <td>3</td>\n",
       "      <td>2014-06-10</td>\n",
       "      <td>D</td>\n",
       "      <td>10F</td>\n",
       "      <td>5.0</td>\n",
       "      <td>A</td>\n",
       "      <td>2014-06-10 00:00:00</td>\n",
       "      <td>2014-09-04 06:01:28.403000000</td>\n",
       "      <td>40356018</td>\n",
       "    </tr>\n",
       "    <tr>\n",
       "      <th>40356068</th>\n",
       "      <td>TOV KOSHER KITCHEN</td>\n",
       "      <td>4</td>\n",
       "      <td>97-22</td>\n",
       "      <td>63 ROAD</td>\n",
       "      <td>11374.0</td>\n",
       "      <td>7188967788</td>\n",
       "      <td>50</td>\n",
       "      <td>2014-01-29</td>\n",
       "      <td>P</td>\n",
       "      <td>08A</td>\n",
       "      <td>12.0</td>\n",
       "      <td>0</td>\n",
       "      <td>0</td>\n",
       "      <td>2014-09-04 06:01:28.403000000</td>\n",
       "      <td>40356068</td>\n",
       "    </tr>\n",
       "  </tbody>\n",
       "</table>\n",
       "</div>"
      ],
      "text/plain": [
       "                                     DBA  BORO    BUILDING  \\\n",
       "CAMIS                                                        \n",
       "30075445           MORRIS PARK BAKE SHOP     2  1007         \n",
       "30112340                         WENDY'S     3         469   \n",
       "30191841  DJ REYNOLDS PUB AND RESTAURANT     1         351   \n",
       "40356018                 RIVIERA CATERER     3        2780   \n",
       "40356068              TOV KOSHER KITCHEN     4       97-22   \n",
       "\n",
       "                                                     STREET  ZIPCODE  \\\n",
       "CAMIS                                                                  \n",
       "30075445  MORRIS PARK AVE                               ...  10462.0   \n",
       "30112340                                    FLATBUSH AVENUE  11225.0   \n",
       "30191841                                     WEST 57 STREET  10019.0   \n",
       "40356018                                   STILLWELL AVENUE  11224.0   \n",
       "40356068                                            63 ROAD  11374.0   \n",
       "\n",
       "               PHONE  CUISINECODE   INSPDATE ACTION VIOLCODE  SCORE  \\\n",
       "CAMIS                                                                 \n",
       "30075445  7188924968            8 2014-03-03      D      10F    2.0   \n",
       "30112340  7182875005           39 2014-07-01      F      04J   23.0   \n",
       "30191841  2122452912            3 2013-07-22      D      10F   11.0   \n",
       "40356018  7183723031            3 2014-06-10      D      10F    5.0   \n",
       "40356068  7188967788           50 2014-01-29      P      08A   12.0   \n",
       "\n",
       "         CURRENTGRADE            GRADEDATE                     RECORDDATE  \\\n",
       "CAMIS                                                                       \n",
       "30075445            A  2014-03-03 00:00:00  2014-09-04 06:01:28.403000000   \n",
       "30112340            B  2014-07-01 00:00:00  2014-09-04 06:01:28.403000000   \n",
       "30191841            A  2013-07-22 00:00:00  2014-09-04 06:01:28.403000000   \n",
       "40356018            A  2014-06-10 00:00:00  2014-09-04 06:01:28.403000000   \n",
       "40356068            0                    0  2014-09-04 06:01:28.403000000   \n",
       "\n",
       "             CAMIS  \n",
       "CAMIS               \n",
       "30075445  30075445  \n",
       "30112340  30112340  \n",
       "30191841  30191841  \n",
       "40356018  40356018  \n",
       "40356068  40356068  "
      ]
     },
     "execution_count": 8,
     "metadata": {},
     "output_type": "execute_result"
    }
   ],
   "source": [
    "webExtract.head()"
   ]
  },
  {
   "cell_type": "code",
   "execution_count": 11,
   "metadata": {
    "collapsed": false
   },
   "outputs": [],
   "source": [
    "borogroup = webExtract.groupby(\"BORO\").agg({'CAMIS':{\"number\":lambda x: x.nunique()},\"SCORE\":{\"mean\":np.mean,\"std\":np.std}})"
   ]
  },
  {
   "cell_type": "code",
   "execution_count": 12,
   "metadata": {
    "collapsed": false
   },
   "outputs": [
    {
     "data": {
      "text/html": [
       "<div>\n",
       "<table border=\"1\" class=\"dataframe\">\n",
       "  <thead>\n",
       "    <tr>\n",
       "      <th></th>\n",
       "      <th colspan=\"2\" halign=\"left\">SCORE</th>\n",
       "      <th>CAMIS</th>\n",
       "    </tr>\n",
       "    <tr>\n",
       "      <th></th>\n",
       "      <th>std</th>\n",
       "      <th>mean</th>\n",
       "      <th>number</th>\n",
       "    </tr>\n",
       "    <tr>\n",
       "      <th>BORO</th>\n",
       "      <th></th>\n",
       "      <th></th>\n",
       "      <th></th>\n",
       "    </tr>\n",
       "  </thead>\n",
       "  <tbody>\n",
       "    <tr>\n",
       "      <th>0</th>\n",
       "      <td>6.020168</td>\n",
       "      <td>9.666667</td>\n",
       "      <td>12</td>\n",
       "    </tr>\n",
       "    <tr>\n",
       "      <th>1</th>\n",
       "      <td>8.068777</td>\n",
       "      <td>10.722184</td>\n",
       "      <td>10201</td>\n",
       "    </tr>\n",
       "    <tr>\n",
       "      <th>2</th>\n",
       "      <td>7.394477</td>\n",
       "      <td>10.069767</td>\n",
       "      <td>2365</td>\n",
       "    </tr>\n",
       "    <tr>\n",
       "      <th>3</th>\n",
       "      <td>8.605419</td>\n",
       "      <td>10.702404</td>\n",
       "      <td>6072</td>\n",
       "    </tr>\n",
       "    <tr>\n",
       "      <th>4</th>\n",
       "      <td>8.332804</td>\n",
       "      <td>11.059733</td>\n",
       "      <td>5625</td>\n",
       "    </tr>\n",
       "  </tbody>\n",
       "</table>\n",
       "</div>"
      ],
      "text/plain": [
       "         SCORE             CAMIS\n",
       "           std       mean number\n",
       "BORO                            \n",
       "0     6.020168   9.666667     12\n",
       "1     8.068777  10.722184  10201\n",
       "2     7.394477  10.069767   2365\n",
       "3     8.605419  10.702404   6072\n",
       "4     8.332804  11.059733   5625"
      ]
     },
     "execution_count": 12,
     "metadata": {},
     "output_type": "execute_result"
    }
   ],
   "source": [
    "borogroup.head()"
   ]
  },
  {
   "cell_type": "code",
   "execution_count": 14,
   "metadata": {
    "collapsed": true
   },
   "outputs": [],
   "source": [
    "borogroup.columns = borogroup.columns.droplevel(0)"
   ]
  },
  {
   "cell_type": "code",
   "execution_count": 15,
   "metadata": {
    "collapsed": true
   },
   "outputs": [],
   "source": [
    "borogroup['std'] = borogroup['std']/(borogroup.number)**0.5"
   ]
  },
  {
   "cell_type": "code",
   "execution_count": 15,
   "metadata": {
    "collapsed": false
   },
   "outputs": [],
   "source": [
    "borogroup = borogroup.sort_values(by=\"mean\")"
   ]
  },
  {
   "cell_type": "code",
   "execution_count": 24,
   "metadata": {
    "collapsed": true
   },
   "outputs": [],
   "source": [
    "borodict = {0:\"NA\",1:\"MANHATTAN\",2:\"THE BRONX\",3:\"BROOKLYN\",4:\"QUEENS\",5:\"STATEN ISLAND\"}"
   ]
  },
  {
   "cell_type": "code",
   "execution_count": 25,
   "metadata": {
    "collapsed": false
   },
   "outputs": [],
   "source": [
    "boro = map(lambda x1,x2,x3,x4: (borodict[x1],x2,x3,x4) ,borogroup.index, borogroup['mean'], borogroup['std'], borogroup.number)"
   ]
  },
  {
   "cell_type": "code",
   "execution_count": 26,
   "metadata": {
    "collapsed": false
   },
   "outputs": [
    {
     "data": {
      "text/plain": [
       "[('MANHATTAN', 10.722184099598079, 0.079888882061857444, 10201),\n",
       " ('THE BRONX', 10.069767441860465, 0.15205191971516507, 2365),\n",
       " ('BROOKLYN', 10.702404479578393, 0.11043485439039237, 6072),\n",
       " ('QUEENS', 11.059733333333334, 0.11110405171821128, 5625),\n",
       " ('STATEN ISLAND', 10.748171368861025, 0.25165495712645253, 957)]"
      ]
     },
     "execution_count": 26,
     "metadata": {},
     "output_type": "execute_result"
    }
   ],
   "source": [
    "boro[1:]"
   ]
  },
  {
   "cell_type": "code",
   "execution_count": 27,
   "metadata": {
    "collapsed": true
   },
   "outputs": [],
   "source": [
    "import pickle"
   ]
  },
  {
   "cell_type": "code",
   "execution_count": 29,
   "metadata": {
    "collapsed": false
   },
   "outputs": [],
   "source": [
    "with open('boro.pickle', 'wb') as f:\n",
    "    pickle.dump(boro[1:], f)"
   ]
  },
  {
   "cell_type": "code",
   "execution_count": null,
   "metadata": {
    "collapsed": true
   },
   "outputs": [],
   "source": []
  }
 ],
 "metadata": {
  "kernelspec": {
   "display_name": "Python 2",
   "language": "python",
   "name": "python2"
  },
  "language_info": {
   "codemirror_mode": {
    "name": "ipython",
    "version": 2
   },
   "file_extension": ".py",
   "mimetype": "text/x-python",
   "name": "python",
   "nbconvert_exporter": "python",
   "pygments_lexer": "ipython2",
   "version": "2.7.10"
  }
 },
 "nbformat": 4,
 "nbformat_minor": 0
}
