{
 "cells": [
  {
   "cell_type": "code",
   "execution_count": 1,
   "metadata": {
    "collapsed": false
   },
   "outputs": [],
   "source": [
    "import pandas as pd\n",
    "import numpy as np"
   ]
  },
  {
   "cell_type": "code",
   "execution_count": 2,
   "metadata": {
    "collapsed": false
   },
   "outputs": [
    {
     "name": "stderr",
     "output_type": "stream",
     "text": [
      "/Users/yutongpang/.virtualenvs/sqlVen27/lib/python2.7/site-packages/IPython/core/interactiveshell.py:2723: DtypeWarning: Columns (6) have mixed types. Specify dtype option on import or set low_memory=False.\n",
      "  interactivity=interactivity, compiler=compiler, result=result)\n"
     ]
    }
   ],
   "source": [
    "webExtract = pd.read_csv(\"data/nyc_inspection_data/WebExtract.txt\").fillna(0)"
   ]
  },
  {
   "cell_type": "code",
   "execution_count": 3,
   "metadata": {
    "collapsed": false
   },
   "outputs": [
    {
     "data": {
      "text/html": [
       "<div>\n",
       "<table border=\"1\" class=\"dataframe\">\n",
       "  <thead>\n",
       "    <tr style=\"text-align: right;\">\n",
       "      <th></th>\n",
       "      <th>CAMIS</th>\n",
       "      <th>DBA</th>\n",
       "      <th>BORO</th>\n",
       "      <th>BUILDING</th>\n",
       "      <th>STREET</th>\n",
       "      <th>ZIPCODE</th>\n",
       "      <th>PHONE</th>\n",
       "      <th>CUISINECODE</th>\n",
       "      <th>INSPDATE</th>\n",
       "      <th>ACTION</th>\n",
       "      <th>VIOLCODE</th>\n",
       "      <th>SCORE</th>\n",
       "      <th>CURRENTGRADE</th>\n",
       "      <th>GRADEDATE</th>\n",
       "      <th>RECORDDATE</th>\n",
       "    </tr>\n",
       "  </thead>\n",
       "  <tbody>\n",
       "    <tr>\n",
       "      <th>0</th>\n",
       "      <td>30075445</td>\n",
       "      <td>MORRIS PARK BAKE SHOP</td>\n",
       "      <td>2</td>\n",
       "      <td>1007</td>\n",
       "      <td>MORRIS PARK AVE                               ...</td>\n",
       "      <td>10462.0</td>\n",
       "      <td>7188924968</td>\n",
       "      <td>8</td>\n",
       "      <td>2014-03-03 00:00:00</td>\n",
       "      <td>D</td>\n",
       "      <td>10F</td>\n",
       "      <td>2.0</td>\n",
       "      <td>A</td>\n",
       "      <td>2014-03-03 00:00:00</td>\n",
       "      <td>2014-09-04 06:01:28.403000000</td>\n",
       "    </tr>\n",
       "    <tr>\n",
       "      <th>1</th>\n",
       "      <td>30112340</td>\n",
       "      <td>WENDY'S</td>\n",
       "      <td>3</td>\n",
       "      <td>469</td>\n",
       "      <td>FLATBUSH AVENUE</td>\n",
       "      <td>11225.0</td>\n",
       "      <td>7182875005</td>\n",
       "      <td>39</td>\n",
       "      <td>2014-07-01 00:00:00</td>\n",
       "      <td>F</td>\n",
       "      <td>06A</td>\n",
       "      <td>23.0</td>\n",
       "      <td>B</td>\n",
       "      <td>2014-07-01 00:00:00</td>\n",
       "      <td>2014-09-04 06:01:28.403000000</td>\n",
       "    </tr>\n",
       "    <tr>\n",
       "      <th>2</th>\n",
       "      <td>30191841</td>\n",
       "      <td>DJ REYNOLDS PUB AND RESTAURANT</td>\n",
       "      <td>1</td>\n",
       "      <td>351</td>\n",
       "      <td>WEST 57 STREET</td>\n",
       "      <td>10019.0</td>\n",
       "      <td>2122452912</td>\n",
       "      <td>3</td>\n",
       "      <td>2013-07-22 00:00:00</td>\n",
       "      <td>D</td>\n",
       "      <td>10B</td>\n",
       "      <td>11.0</td>\n",
       "      <td>A</td>\n",
       "      <td>2013-07-22 00:00:00</td>\n",
       "      <td>2014-09-04 06:01:28.403000000</td>\n",
       "    </tr>\n",
       "    <tr>\n",
       "      <th>3</th>\n",
       "      <td>40356483</td>\n",
       "      <td>WILKEN'S FINE FOOD</td>\n",
       "      <td>3</td>\n",
       "      <td>7114</td>\n",
       "      <td>AVENUE U</td>\n",
       "      <td>11234.0</td>\n",
       "      <td>7184443838</td>\n",
       "      <td>27</td>\n",
       "      <td>2014-05-29 00:00:00</td>\n",
       "      <td>D</td>\n",
       "      <td>08C</td>\n",
       "      <td>10.0</td>\n",
       "      <td>A</td>\n",
       "      <td>2014-05-29 00:00:00</td>\n",
       "      <td>2014-09-04 06:01:28.403000000</td>\n",
       "    </tr>\n",
       "    <tr>\n",
       "      <th>4</th>\n",
       "      <td>30191841</td>\n",
       "      <td>DJ REYNOLDS PUB AND RESTAURANT</td>\n",
       "      <td>1</td>\n",
       "      <td>351</td>\n",
       "      <td>WEST 57 STREET</td>\n",
       "      <td>10019.0</td>\n",
       "      <td>2122452912</td>\n",
       "      <td>3</td>\n",
       "      <td>2013-07-22 00:00:00</td>\n",
       "      <td>D</td>\n",
       "      <td>02G</td>\n",
       "      <td>11.0</td>\n",
       "      <td>A</td>\n",
       "      <td>2013-07-22 00:00:00</td>\n",
       "      <td>2014-09-04 06:01:28.403000000</td>\n",
       "    </tr>\n",
       "  </tbody>\n",
       "</table>\n",
       "</div>"
      ],
      "text/plain": [
       "      CAMIS                             DBA  BORO    BUILDING  \\\n",
       "0  30075445           MORRIS PARK BAKE SHOP     2  1007         \n",
       "1  30112340                         WENDY'S     3         469   \n",
       "2  30191841  DJ REYNOLDS PUB AND RESTAURANT     1         351   \n",
       "3  40356483              WILKEN'S FINE FOOD     3  7114         \n",
       "4  30191841  DJ REYNOLDS PUB AND RESTAURANT     1         351   \n",
       "\n",
       "                                              STREET  ZIPCODE       PHONE  \\\n",
       "0  MORRIS PARK AVE                               ...  10462.0  7188924968   \n",
       "1                                    FLATBUSH AVENUE  11225.0  7182875005   \n",
       "2                                     WEST 57 STREET  10019.0  2122452912   \n",
       "3                   AVENUE U                          11234.0  7184443838   \n",
       "4                                     WEST 57 STREET  10019.0  2122452912   \n",
       "\n",
       "   CUISINECODE             INSPDATE ACTION VIOLCODE  SCORE CURRENTGRADE  \\\n",
       "0            8  2014-03-03 00:00:00      D      10F    2.0            A   \n",
       "1           39  2014-07-01 00:00:00      F      06A   23.0            B   \n",
       "2            3  2013-07-22 00:00:00      D      10B   11.0            A   \n",
       "3           27  2014-05-29 00:00:00      D      08C   10.0            A   \n",
       "4            3  2013-07-22 00:00:00      D      02G   11.0            A   \n",
       "\n",
       "             GRADEDATE                     RECORDDATE  \n",
       "0  2014-03-03 00:00:00  2014-09-04 06:01:28.403000000  \n",
       "1  2014-07-01 00:00:00  2014-09-04 06:01:28.403000000  \n",
       "2  2013-07-22 00:00:00  2014-09-04 06:01:28.403000000  \n",
       "3  2014-05-29 00:00:00  2014-09-04 06:01:28.403000000  \n",
       "4  2013-07-22 00:00:00  2014-09-04 06:01:28.403000000  "
      ]
     },
     "execution_count": 3,
     "metadata": {},
     "output_type": "execute_result"
    }
   ],
   "source": [
    "webExtract.head()"
   ]
  },
  {
   "cell_type": "code",
   "execution_count": 4,
   "metadata": {
    "collapsed": false
   },
   "outputs": [],
   "source": [
    "webExtract[\"INSPDATE\"] = pd.to_datetime(webExtract.INSPDATE)"
   ]
  },
  {
   "cell_type": "code",
   "execution_count": 5,
   "metadata": {
    "collapsed": false
   },
   "outputs": [],
   "source": [
    "#webExtract = webExtract.sort_values(by=[\"INSPDATE\",\"SCORE\"])"
   ]
  },
  {
   "cell_type": "code",
   "execution_count": 6,
   "metadata": {
    "collapsed": false
   },
   "outputs": [],
   "source": [
    "#webExtract = webExtract.groupby(\"CAMIS\").last()"
   ]
  },
  {
   "cell_type": "code",
   "execution_count": 7,
   "metadata": {
    "collapsed": false
   },
   "outputs": [],
   "source": [
    "webExtract['CAMIS'] = webExtract.index"
   ]
  },
  {
   "cell_type": "code",
   "execution_count": 8,
   "metadata": {
    "collapsed": false
   },
   "outputs": [],
   "source": [
    "cuisinegroup = webExtract.groupby(\"CUISINECODE\").agg({'CAMIS':{\"number\":lambda x: x.nunique()},\"SCORE\":{\"mean\":np.mean,\"std\":np.std}})"
   ]
  },
  {
   "cell_type": "code",
   "execution_count": 9,
   "metadata": {
    "collapsed": false
   },
   "outputs": [
    {
     "data": {
      "text/html": [
       "<div>\n",
       "<table border=\"1\" class=\"dataframe\">\n",
       "  <thead>\n",
       "    <tr>\n",
       "      <th></th>\n",
       "      <th colspan=\"2\" halign=\"left\">SCORE</th>\n",
       "      <th>CAMIS</th>\n",
       "    </tr>\n",
       "    <tr>\n",
       "      <th></th>\n",
       "      <th>std</th>\n",
       "      <th>mean</th>\n",
       "      <th>number</th>\n",
       "    </tr>\n",
       "    <tr>\n",
       "      <th>CUISINECODE</th>\n",
       "      <th></th>\n",
       "      <th></th>\n",
       "      <th></th>\n",
       "    </tr>\n",
       "  </thead>\n",
       "  <tbody>\n",
       "    <tr>\n",
       "      <th>0</th>\n",
       "      <td>19.847350</td>\n",
       "      <td>18.899281</td>\n",
       "      <td>139</td>\n",
       "    </tr>\n",
       "    <tr>\n",
       "      <th>1</th>\n",
       "      <td>14.715950</td>\n",
       "      <td>19.850163</td>\n",
       "      <td>307</td>\n",
       "    </tr>\n",
       "    <tr>\n",
       "      <th>2</th>\n",
       "      <td>19.608895</td>\n",
       "      <td>25.394779</td>\n",
       "      <td>1877</td>\n",
       "    </tr>\n",
       "    <tr>\n",
       "      <th>3</th>\n",
       "      <td>14.927886</td>\n",
       "      <td>19.829075</td>\n",
       "      <td>128372</td>\n",
       "    </tr>\n",
       "    <tr>\n",
       "      <th>4</th>\n",
       "      <td>10.788450</td>\n",
       "      <td>15.079268</td>\n",
       "      <td>656</td>\n",
       "    </tr>\n",
       "  </tbody>\n",
       "</table>\n",
       "</div>"
      ],
      "text/plain": [
       "                 SCORE              CAMIS\n",
       "                   std       mean  number\n",
       "CUISINECODE                              \n",
       "0            19.847350  18.899281     139\n",
       "1            14.715950  19.850163     307\n",
       "2            19.608895  25.394779    1877\n",
       "3            14.927886  19.829075  128372\n",
       "4            10.788450  15.079268     656"
      ]
     },
     "execution_count": 9,
     "metadata": {},
     "output_type": "execute_result"
    }
   ],
   "source": [
    "cuisinegroup.head()"
   ]
  },
  {
   "cell_type": "code",
   "execution_count": 10,
   "metadata": {
    "collapsed": true
   },
   "outputs": [],
   "source": [
    "cuisinegroup.columns = cuisinegroup.columns.droplevel(0)"
   ]
  },
  {
   "cell_type": "code",
   "execution_count": 11,
   "metadata": {
    "collapsed": true
   },
   "outputs": [],
   "source": [
    "cuisinegroup['std'] = cuisinegroup['std']/(cuisinegroup.number)**0.5"
   ]
  },
  {
   "cell_type": "code",
   "execution_count": 12,
   "metadata": {
    "collapsed": false
   },
   "outputs": [],
   "source": [
    "cuisinegroup = cuisinegroup.sort_values(by=\"mean\")"
   ]
  },
  {
   "cell_type": "code",
   "execution_count": 13,
   "metadata": {
    "collapsed": true
   },
   "outputs": [],
   "source": [
    "cuisinegroup = cuisinegroup[cuisinegroup.number>100]"
   ]
  },
  {
   "cell_type": "code",
   "execution_count": 14,
   "metadata": {
    "collapsed": false
   },
   "outputs": [
    {
     "data": {
      "text/html": [
       "<div>\n",
       "<table border=\"1\" class=\"dataframe\">\n",
       "  <thead>\n",
       "    <tr style=\"text-align: right;\">\n",
       "      <th></th>\n",
       "      <th>std</th>\n",
       "      <th>mean</th>\n",
       "      <th>number</th>\n",
       "    </tr>\n",
       "    <tr>\n",
       "      <th>CUISINECODE</th>\n",
       "      <th></th>\n",
       "      <th></th>\n",
       "      <th></th>\n",
       "    </tr>\n",
       "  </thead>\n",
       "  <tbody>\n",
       "    <tr>\n",
       "      <th>99</th>\n",
       "      <td>0.281050</td>\n",
       "      <td>11.051061</td>\n",
       "      <td>2781</td>\n",
       "    </tr>\n",
       "    <tr>\n",
       "      <th>42</th>\n",
       "      <td>0.972753</td>\n",
       "      <td>13.482143</td>\n",
       "      <td>168</td>\n",
       "    </tr>\n",
       "    <tr>\n",
       "      <th>75</th>\n",
       "      <td>0.411204</td>\n",
       "      <td>14.281145</td>\n",
       "      <td>594</td>\n",
       "    </tr>\n",
       "    <tr>\n",
       "      <th>33</th>\n",
       "      <td>0.446464</td>\n",
       "      <td>14.630000</td>\n",
       "      <td>300</td>\n",
       "    </tr>\n",
       "    <tr>\n",
       "      <th>29</th>\n",
       "      <td>0.142587</td>\n",
       "      <td>14.652194</td>\n",
       "      <td>6449</td>\n",
       "    </tr>\n",
       "  </tbody>\n",
       "</table>\n",
       "</div>"
      ],
      "text/plain": [
       "                  std       mean  number\n",
       "CUISINECODE                             \n",
       "99           0.281050  11.051061    2781\n",
       "42           0.972753  13.482143     168\n",
       "75           0.411204  14.281145     594\n",
       "33           0.446464  14.630000     300\n",
       "29           0.142587  14.652194    6449"
      ]
     },
     "execution_count": 14,
     "metadata": {},
     "output_type": "execute_result"
    }
   ],
   "source": [
    "cuisinegroup.head()"
   ]
  },
  {
   "cell_type": "code",
   "execution_count": 15,
   "metadata": {
    "collapsed": true
   },
   "outputs": [],
   "source": [
    "cuisine = pd.read_csv(\"data/nyc_inspection_data/Cuisine.txt\")"
   ]
  },
  {
   "cell_type": "code",
   "execution_count": 16,
   "metadata": {
    "collapsed": false
   },
   "outputs": [
    {
     "data": {
      "text/html": [
       "<div>\n",
       "<table border=\"1\" class=\"dataframe\">\n",
       "  <thead>\n",
       "    <tr style=\"text-align: right;\">\n",
       "      <th></th>\n",
       "      <th>CUISINECODE</th>\n",
       "      <th>CODEDESC</th>\n",
       "    </tr>\n",
       "  </thead>\n",
       "  <tbody>\n",
       "    <tr>\n",
       "      <th>0</th>\n",
       "      <td>2</td>\n",
       "      <td>African</td>\n",
       "    </tr>\n",
       "    <tr>\n",
       "      <th>1</th>\n",
       "      <td>3</td>\n",
       "      <td>American</td>\n",
       "    </tr>\n",
       "    <tr>\n",
       "      <th>2</th>\n",
       "      <td>5</td>\n",
       "      <td>Asian</td>\n",
       "    </tr>\n",
       "    <tr>\n",
       "      <th>3</th>\n",
       "      <td>15</td>\n",
       "      <td>Cajun</td>\n",
       "    </tr>\n",
       "    <tr>\n",
       "      <th>4</th>\n",
       "      <td>17</td>\n",
       "      <td>Caribbean</td>\n",
       "    </tr>\n",
       "  </tbody>\n",
       "</table>\n",
       "</div>"
      ],
      "text/plain": [
       "   CUISINECODE   CODEDESC\n",
       "0            2    African\n",
       "1            3  American \n",
       "2            5      Asian\n",
       "3           15      Cajun\n",
       "4           17  Caribbean"
      ]
     },
     "execution_count": 16,
     "metadata": {},
     "output_type": "execute_result"
    }
   ],
   "source": [
    "cuisine.head()"
   ]
  },
  {
   "cell_type": "code",
   "execution_count": 17,
   "metadata": {
    "collapsed": true
   },
   "outputs": [],
   "source": [
    "cuisinegroup[\"CUISINECODE\"] = cuisinegroup.index"
   ]
  },
  {
   "cell_type": "code",
   "execution_count": 18,
   "metadata": {
    "collapsed": false
   },
   "outputs": [],
   "source": [
    "result = pd.merge(cuisinegroup, cuisine, on=\"CUISINECODE\")"
   ]
  },
  {
   "cell_type": "code",
   "execution_count": 19,
   "metadata": {
    "collapsed": false
   },
   "outputs": [
    {
     "data": {
      "text/html": [
       "<div>\n",
       "<table border=\"1\" class=\"dataframe\">\n",
       "  <thead>\n",
       "    <tr style=\"text-align: right;\">\n",
       "      <th></th>\n",
       "      <th>std</th>\n",
       "      <th>mean</th>\n",
       "      <th>number</th>\n",
       "      <th>CUISINECODE</th>\n",
       "      <th>CODEDESC</th>\n",
       "    </tr>\n",
       "  </thead>\n",
       "  <tbody>\n",
       "    <tr>\n",
       "      <th>40</th>\n",
       "      <td>0.17683</td>\n",
       "      <td>20.354805</td>\n",
       "      <td>7576</td>\n",
       "      <td>35</td>\n",
       "      <td>French</td>\n",
       "    </tr>\n",
       "  </tbody>\n",
       "</table>\n",
       "</div>"
      ],
      "text/plain": [
       "        std       mean  number  CUISINECODE CODEDESC\n",
       "40  0.17683  20.354805    7576           35   French"
      ]
     },
     "execution_count": 19,
     "metadata": {},
     "output_type": "execute_result"
    }
   ],
   "source": [
    "result[result.CODEDESC==\"French\"]"
   ]
  },
  {
   "cell_type": "code",
   "execution_count": 32,
   "metadata": {
    "collapsed": false
   },
   "outputs": [],
   "source": [
    "cui = map(lambda x1,x2,x3,x4: (x1,x2,x3,x4) ,result.CODEDESC, result['mean'], result['std'], result.number)"
   ]
  },
  {
   "cell_type": "code",
   "execution_count": 33,
   "metadata": {
    "collapsed": false
   },
   "outputs": [
    {
     "data": {
      "text/plain": [
       "('Caf\\xe9/Coffee/Tea', 15.994683295044306, 0.10258473259987819, 15235)"
      ]
     },
     "execution_count": 33,
     "metadata": {},
     "output_type": "execute_result"
    }
   ],
   "source": [
    "cui[11]"
   ]
  },
  {
   "cell_type": "code",
   "execution_count": 27,
   "metadata": {
    "collapsed": false
   },
   "outputs": [],
   "source": [
    "cui[11] = ('Cafe/Coffee/Tea', 8.2528334786399302, 0.17138327968402459, 1147)"
   ]
  },
  {
   "cell_type": "code",
   "execution_count": 28,
   "metadata": {
    "collapsed": false
   },
   "outputs": [
    {
     "data": {
      "text/plain": [
       "[('Other', 11.051060769507371, 0.2810499493532852, 2781),\n",
       " ('Hotdogs/Pretzels', 13.482142857142858, 0.97275302465918034, 168),\n",
       " ('Soups & Sandwiches', 14.281144781144782, 0.41120364280059418, 594),\n",
       " ('Ethiopian', 14.630000000000001, 0.44646424638473392, 300),\n",
       " ('Donuts', 14.652194138626143, 0.14258747410534775, 6449),\n",
       " ('Hotdogs', 14.71822033898305, 0.44592994747111159, 472),\n",
       " ('Ice Cream, Gelato, Yogurt, Ices',\n",
       "  14.730250990752973,\n",
       "  0.19301212210536678,\n",
       "  3785),\n",
       " ('Armenian', 15.079268292682928, 0.42121820555556011, 656),\n",
       " ('Cajun', 15.548387096774194, 0.64999641239546091, 186),\n",
       " ('Egyptian', 15.662125340599456, 0.63248674594367726, 367),\n",
       " ('Sandwiches', 15.712999099369558, 0.14508022097045123, 6662),\n",
       " ('Cafe/Coffee/Tea', 8.25283347863993, 0.1713832796840246, 1147),\n",
       " ('Juice, Smoothies, Fruit Salads',\n",
       "  16.003679175864605,\n",
       "  0.23709334099999477,\n",
       "  2718),\n",
       " ('Sandwiches/Salads/Mixed Buffet',\n",
       "  16.340146917917597,\n",
       "  0.22012966721872634,\n",
       "  3131),\n",
       " ('Hamburgers', 16.577529232333504, 0.13296257169829306, 7868),\n",
       " ('Bottled beverages, including water, sodas, juices, etc.',\n",
       "  16.749287749287749,\n",
       "  0.40177089760316764,\n",
       "  1053),\n",
       " ('English', 17.336257309941519, 0.60003151416209688, 342),\n",
       " ('Middle Eastern', 17.706328375619716, 0.26525054912049068, 3429),\n",
       " ('Chicken', 17.836702546600158, 0.15340310946668903, 7618),\n",
       " ('Southwestern', 18.004830917874397, 0.72272075768288035, 207),\n",
       " ('German', 18.627986348122867, 0.39524461418470441, 879),\n",
       " ('Czech', 18.83969465648855, 1.1656573725857149, 131),\n",
       " ('Tapas', 18.868131868131869, 0.64732233201606759, 637),\n",
       " ('Not Listed/Not Applicable', 18.899280575539567, 1.6834302901709837, 139),\n",
       " ('Moroccan', 18.952054794520549, 0.88146324961606204, 292),\n",
       " ('Greek', 19.296904852884982, 0.27602220697968521, 2617),\n",
       " ('Scandinavian', 19.409395973154364, 0.84833002600083829, 149),\n",
       " ('Irish', 19.484177915468024, 0.20476103752931452, 4519),\n",
       " ('Salads', 19.583184257602863, 0.59625866879477529, 559),\n",
       " ('Tex-Mex', 19.680333564975676, 0.28694194165777204, 2878),\n",
       " ('Pancakes/Waffles', 19.75771971496437, 0.69099630466473816, 421),\n",
       " ('Barbecue', 19.811274509803923, 0.46019686050513919, 816),\n",
       " ('American ', 19.829074876141213, 0.041664211433742403, 128372),\n",
       " ('Afghan', 19.850162866449512, 0.83988360991772759, 307),\n",
       " ('Polish', 19.916666666666668, 0.46356631852391839, 732),\n",
       " ('Mediterranean', 19.940456578018356, 0.24522936853310204, 4249),\n",
       " ('Bagels/Pretzels', 19.978260869565219, 0.23419106104751919, 3726),\n",
       " ('Vegetarian', 20.008572869389813, 0.34245668644867999, 1983),\n",
       " ('Pizza', 20.068807514605368, 0.091781895622164003, 26189),\n",
       " ('Steak', 20.164041281912006, 0.38436349786978058, 1841),\n",
       " ('French', 20.354804646251321, 0.17683006556333705, 7576),\n",
       " ('Australian', 20.41732283464567, 1.1010657421630436, 254),\n",
       " ('Continental', 20.513432835820897, 0.45655331720949344, 1005),\n",
       " ('Filipino', 20.558260869565217, 0.5506982752815095, 575),\n",
       " ('Italian', 20.635133068216579, 0.093439329056468359, 26152),\n",
       " ('Eastern European', 20.784883720930232, 0.40014633797547766, 1548),\n",
       " ('Pizza/Italian', 20.862072146877018, 0.14078298702119457, 10839),\n",
       " ('Russian', 21.237182558696695, 0.38520480473699237, 2087),\n",
       " ('Brazilian', 21.240412979351031, 0.52449407539090809, 678),\n",
       " ('Seafood', 21.275090689238212, 0.29444090114006316, 3308),\n",
       " ('Turkish', 21.359666024405907, 0.40044031459746493, 1557),\n",
       " ('Indonesian', 21.455813953488374, 0.82654990623785518, 215),\n",
       " ('Mexican', 21.637887901208284, 0.11334361573301799, 18787),\n",
       " ('Jewish/Kosher', 21.667366211962225, 0.17414606400469343, 7624),\n",
       " ('Caribbean', 21.765419307654803, 0.12639276612244302, 16408),\n",
       " ('Bakery', 21.824580664836841, 0.12939031893391625, 16395),\n",
       " ('Spanish', 21.955502284815342, 0.13962732344600901, 13349),\n",
       " ('Soul Food', 22.223823246878002, 0.46162181808606811, 1041),\n",
       " ('Thai', 22.516481934648048, 0.17883487904210801, 6947),\n",
       " ('Japanese', 22.559875583203734, 0.1152267727094367, 18647),\n",
       " ('Latin (Cuban, Dominican, Puerto Rican, South & Central American)',\n",
       "  22.928158858394049,\n",
       "  0.10301362058183323,\n",
       "  26489),\n",
       " ('Portuguese', 22.940350877192984, 1.0995876418106185, 285),\n",
       " ('Korean', 23.086021505376344, 0.19622211650371263, 7068),\n",
       " ('Delicatessen', 23.247045524612066, 0.16350627762762446, 9731),\n",
       " ('Vietnamese/Cambodian/Malaysia',\n",
       "  23.448814655172413,\n",
       "  0.37430774526246169,\n",
       "  1856),\n",
       " ('Peruvian', 23.529473135106937, 0.39712072917161678, 1917),\n",
       " ('Indian', 23.866024096385541, 0.20146213583070174, 8300),\n",
       " ('Chinese', 23.942464820699048, 0.068326451467231555, 61684),\n",
       " ('Pakistani', 24.266265060240965, 0.63936689720665285, 830),\n",
       " ('Asian', 24.586526099254307, 0.21453271328818127, 7778),\n",
       " ('Chinese/Japanese', 25.0666161998486, 0.46144080145661565, 1321),\n",
       " ('African', 25.394778902503997, 0.45260671553001258, 1877),\n",
       " ('Bangladeshi', 25.443488943488944, 0.65399324240127099, 814),\n",
       " ('Chinese/Cuban', 26.248306997742663, 0.82974747670730142, 443),\n",
       " ('Creole', 28.960698689956331, 0.82631275123689962, 687)]"
      ]
     },
     "execution_count": 28,
     "metadata": {},
     "output_type": "execute_result"
    }
   ],
   "source": [
    "cui"
   ]
  },
  {
   "cell_type": "code",
   "execution_count": 29,
   "metadata": {
    "collapsed": false
   },
   "outputs": [
    {
     "data": {
      "text/plain": [
       "75"
      ]
     },
     "execution_count": 29,
     "metadata": {},
     "output_type": "execute_result"
    }
   ],
   "source": [
    "len(cuisinegroup)"
   ]
  },
  {
   "cell_type": "code",
   "execution_count": 30,
   "metadata": {
    "collapsed": true
   },
   "outputs": [],
   "source": [
    "import pickle"
   ]
  },
  {
   "cell_type": "code",
   "execution_count": 31,
   "metadata": {
    "collapsed": false
   },
   "outputs": [],
   "source": [
    "with open('cui.pickle', 'wb') as f:\n",
    "    pickle.dump(cui, f)"
   ]
  },
  {
   "cell_type": "code",
   "execution_count": 35,
   "metadata": {
    "collapsed": false
   },
   "outputs": [
    {
     "data": {
      "text/plain": [
       "u'Caf\\xe9/Coffee/Tea'"
      ]
     },
     "execution_count": 35,
     "metadata": {},
     "output_type": "execute_result"
    }
   ],
   "source": [
    "'Caf\\xe9/Coffee/Tea'.decode('iso-8859-1')"
   ]
  },
  {
   "cell_type": "code",
   "execution_count": null,
   "metadata": {
    "collapsed": true
   },
   "outputs": [],
   "source": []
  }
 ],
 "metadata": {
  "kernelspec": {
   "display_name": "Python 2",
   "language": "python",
   "name": "python2"
  },
  "language_info": {
   "codemirror_mode": {
    "name": "ipython",
    "version": 2
   },
   "file_extension": ".py",
   "mimetype": "text/x-python",
   "name": "python",
   "nbconvert_exporter": "python",
   "pygments_lexer": "ipython2",
   "version": "2.7.10"
  }
 },
 "nbformat": 4,
 "nbformat_minor": 0
}
