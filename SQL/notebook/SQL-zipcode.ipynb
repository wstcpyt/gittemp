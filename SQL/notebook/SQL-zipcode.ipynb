{
 "cells": [
  {
   "cell_type": "markdown",
   "metadata": {},
   "source": [
    "## SQL-zipcode"
   ]
  },
  {
   "cell_type": "code",
   "execution_count": 1,
   "metadata": {
    "collapsed": false
   },
   "outputs": [],
   "source": [
    "import pandas as pd\n",
    "from scipy import stats\n",
    "import numpy as np"
   ]
  },
  {
   "cell_type": "code",
   "execution_count": 2,
   "metadata": {
    "collapsed": false
   },
   "outputs": [
    {
     "name": "stderr",
     "output_type": "stream",
     "text": [
      "/Users/yutongpang/.virtualenvs/sqlVen27/lib/python2.7/site-packages/IPython/core/interactiveshell.py:2723: DtypeWarning: Columns (6) have mixed types. Specify dtype option on import or set low_memory=False.\n",
      "  interactivity=interactivity, compiler=compiler, result=result)\n"
     ]
    }
   ],
   "source": [
    "webExtract = pd.read_csv(\"data/nyc_inspection_data/WebExtract.txt\").fillna(0)"
   ]
  },
  {
   "cell_type": "code",
   "execution_count": 3,
   "metadata": {
    "collapsed": false
   },
   "outputs": [
    {
     "data": {
      "text/plain": [
       "25232"
      ]
     },
     "execution_count": 3,
     "metadata": {},
     "output_type": "execute_result"
    }
   ],
   "source": [
    "len(webExtract.CAMIS.unique())"
   ]
  },
  {
   "cell_type": "code",
   "execution_count": 4,
   "metadata": {
    "collapsed": false
   },
   "outputs": [],
   "source": [
    "webExtract[\"INSPDATE\"] = pd.to_datetime(webExtract.INSPDATE)"
   ]
  },
  {
   "cell_type": "code",
   "execution_count": 5,
   "metadata": {
    "collapsed": false
   },
   "outputs": [],
   "source": [
    "webExtract = webExtract.sort_values(by=[\"INSPDATE\",\"SCORE\"])"
   ]
  },
  {
   "cell_type": "code",
   "execution_count": 6,
   "metadata": {
    "collapsed": false
   },
   "outputs": [],
   "source": [
    "webExtract = webExtract.groupby(\"CAMIS\").last()"
   ]
  },
  {
   "cell_type": "code",
   "execution_count": 7,
   "metadata": {
    "collapsed": false
   },
   "outputs": [],
   "source": [
    "webExtract['CAMIS'] = webExtract.index"
   ]
  },
  {
   "cell_type": "code",
   "execution_count": 10,
   "metadata": {
    "collapsed": false
   },
   "outputs": [],
   "source": [
    "zipcodegroup = webExtract.groupby(\"ZIPCODE\").agg({'CAMIS':{\"number\":lambda x: x.nunique()},\"SCORE\":{\"mean\":np.mean,\"std\":np.std}})"
   ]
  },
  {
   "cell_type": "code",
   "execution_count": 11,
   "metadata": {
    "collapsed": false
   },
   "outputs": [
    {
     "data": {
      "text/html": [
       "<div>\n",
       "<table border=\"1\" class=\"dataframe\">\n",
       "  <thead>\n",
       "    <tr>\n",
       "      <th></th>\n",
       "      <th colspan=\"2\" halign=\"left\">SCORE</th>\n",
       "      <th>CAMIS</th>\n",
       "    </tr>\n",
       "    <tr>\n",
       "      <th></th>\n",
       "      <th>std</th>\n",
       "      <th>mean</th>\n",
       "      <th>number</th>\n",
       "    </tr>\n",
       "    <tr>\n",
       "      <th>ZIPCODE</th>\n",
       "      <th></th>\n",
       "      <th></th>\n",
       "      <th></th>\n",
       "    </tr>\n",
       "  </thead>\n",
       "  <tbody>\n",
       "    <tr>\n",
       "      <th>0.0</th>\n",
       "      <td>0.000000</td>\n",
       "      <td>0.000000</td>\n",
       "      <td>2</td>\n",
       "    </tr>\n",
       "    <tr>\n",
       "      <th>7005.0</th>\n",
       "      <td>NaN</td>\n",
       "      <td>11.000000</td>\n",
       "      <td>1</td>\n",
       "    </tr>\n",
       "    <tr>\n",
       "      <th>10000.0</th>\n",
       "      <td>NaN</td>\n",
       "      <td>13.000000</td>\n",
       "      <td>1</td>\n",
       "    </tr>\n",
       "    <tr>\n",
       "      <th>10001.0</th>\n",
       "      <td>6.915606</td>\n",
       "      <td>8.697446</td>\n",
       "      <td>509</td>\n",
       "    </tr>\n",
       "    <tr>\n",
       "      <th>10002.0</th>\n",
       "      <td>8.657194</td>\n",
       "      <td>10.896624</td>\n",
       "      <td>474</td>\n",
       "    </tr>\n",
       "  </tbody>\n",
       "</table>\n",
       "</div>"
      ],
      "text/plain": [
       "            SCORE             CAMIS\n",
       "              std       mean number\n",
       "ZIPCODE                            \n",
       "0.0      0.000000   0.000000      2\n",
       "7005.0        NaN  11.000000      1\n",
       "10000.0       NaN  13.000000      1\n",
       "10001.0  6.915606   8.697446    509\n",
       "10002.0  8.657194  10.896624    474"
      ]
     },
     "execution_count": 11,
     "metadata": {},
     "output_type": "execute_result"
    }
   ],
   "source": [
    "zipcodegroup.head()"
   ]
  },
  {
   "cell_type": "code",
   "execution_count": 9,
   "metadata": {
    "collapsed": true
   },
   "outputs": [],
   "source": [
    "zipcodegroup.columns = zipcodegroup.columns.droplevel(0)"
   ]
  },
  {
   "cell_type": "code",
   "execution_count": 10,
   "metadata": {
    "collapsed": false
   },
   "outputs": [],
   "source": [
    "zipcodegroup = zipcodegroup[zipcodegroup.number>100]"
   ]
  },
  {
   "cell_type": "code",
   "execution_count": 11,
   "metadata": {
    "collapsed": false
   },
   "outputs": [
    {
     "data": {
      "text/plain": [
       "92"
      ]
     },
     "execution_count": 11,
     "metadata": {},
     "output_type": "execute_result"
    }
   ],
   "source": [
    "len(zipcodegroup)"
   ]
  },
  {
   "cell_type": "code",
   "execution_count": 12,
   "metadata": {
    "collapsed": true
   },
   "outputs": [],
   "source": [
    "zipcodegroup['std'] = zipcodegroup['std']/(zipcodegroup.number)**0.5"
   ]
  },
  {
   "cell_type": "code",
   "execution_count": 13,
   "metadata": {
    "collapsed": false
   },
   "outputs": [
    {
     "data": {
      "text/plain": [
       "92"
      ]
     },
     "execution_count": 13,
     "metadata": {},
     "output_type": "execute_result"
    }
   ],
   "source": [
    "len(zipcodegroup)"
   ]
  },
  {
   "cell_type": "code",
   "execution_count": 14,
   "metadata": {
    "collapsed": false
   },
   "outputs": [],
   "source": [
    "zipcodegroup = zipcodegroup.sort_values(by=\"mean\")"
   ]
  },
  {
   "cell_type": "code",
   "execution_count": 15,
   "metadata": {
    "collapsed": false
   },
   "outputs": [],
   "source": [
    "zipcode = map(lambda x1,x2,x3,x4: (str(int(x1)),x2,x3,x4) ,zipcodegroup.index, zipcodegroup['mean'], zipcodegroup['std'], zipcodegroup.number)"
   ]
  },
  {
   "cell_type": "code",
   "execution_count": 16,
   "metadata": {
    "collapsed": false
   },
   "outputs": [
    {
     "data": {
      "text/plain": [
       "[('10001', 8.697445972495089, 0.30652883825886379, 509),\n",
       " ('10451', 8.7834394904458595, 0.54116200724977692, 157),\n",
       " ('10452', 8.8415841584158414, 0.61301602603174077, 101),\n",
       " ('10004', 8.9929577464788739, 0.54453968823957088, 142),\n",
       " ('10007', 9.2302158273381298, 0.53296272835119662, 139),\n",
       " ('11236', 9.2432432432432439, 0.72908637882157956, 111),\n",
       " ('11234', 9.3947368421052637, 0.52342794348371613, 152),\n",
       " ('11430', 9.4932432432432439, 0.72454007586308189, 148),\n",
       " ('11207', 9.625, 0.63648489175250167, 136),\n",
       " ('11209', 9.6590909090909083, 0.52817437737433648, 264),\n",
       " ('11231', 9.6603773584905657, 0.53674992755366324, 159),\n",
       " ('11238', 9.6626016260162597, 0.5988900182336705, 246),\n",
       " ('11217', 9.6889763779527556, 0.43586578068504855, 254),\n",
       " ('10472', 9.7407407407407405, 0.64292759823177648, 108),\n",
       " ('10306', 9.7477477477477485, 0.49658431482590842, 111),\n",
       " ('11101', 9.7520000000000007, 0.45169247099482807, 250),\n",
       " ('11218', 9.8027210884353746, 0.68243668298044802, 147),\n",
       " ('11201', 9.8173913043478258, 0.39427884932202356, 345),\n",
       " ('11369', 9.8269230769230766, 0.70676903032591887, 104),\n",
       " ('10301', 9.9514563106796121, 0.65611949585250828, 103),\n",
       " ('10468', 9.9626168224299061, 0.77029643129953662, 107),\n",
       " ('10065', 9.9826589595375719, 0.45161611697896387, 173),\n",
       " ('10461', 9.9870129870129869, 0.60245846476288489, 154),\n",
       " ('11222', 9.9948186528497409, 0.53813436123812541, 193),\n",
       " ('11368', 10.044827586206896, 0.45454941220380041, 290),\n",
       " ('10023', 10.071065989847716, 0.55573549670811229, 197),\n",
       " ('11105', 10.113821138211382, 0.671302347332697, 123),\n",
       " ('11225', 10.178217821782178, 0.61698661500059548, 101),\n",
       " ('11237', 10.23463687150838, 0.53881262045909672, 179),\n",
       " ('11361', 10.285714285714286, 0.70018847617697755, 119),\n",
       " ('10458', 10.290816326530612, 0.55286758916661904, 196),\n",
       " ('10019', 10.315151515151515, 0.28599234770819371, 660),\n",
       " ('10462', 10.324324324324325, 0.50427627280476339, 148),\n",
       " ('11103', 10.363636363636363, 0.51223446482399537, 209),\n",
       " ('10467', 10.420118343195266, 0.59505013029716958, 169),\n",
       " ('11206', 10.441558441558442, 0.75598435929394259, 154),\n",
       " ('10022', 10.471311475409836, 0.339953988473228, 488),\n",
       " ('10036', 10.51433389544688, 0.33187699035423779, 593),\n",
       " ('11435', 10.528301886792454, 0.67415482972534913, 106),\n",
       " ('11385', 10.623015873015873, 0.44074672519724323, 252),\n",
       " ('11215', 10.650537634408602, 0.38235365260075571, 372),\n",
       " ('11204', 10.674796747967479, 0.63867281410426124, 123),\n",
       " ('11106', 10.679487179487179, 0.65348763261372322, 156),\n",
       " ('10011', 10.684665226781858, 0.36690557097532039, 463),\n",
       " ('10038', 10.69047619047619, 0.74164639622144479, 168),\n",
       " ('10027', 10.699386503067485, 0.59429582769281197, 163),\n",
       " ('10463', 10.703125, 0.68674881787546327, 128),\n",
       " ('10010', 10.792682926829269, 0.52545028892075096, 246),\n",
       " ('10017', 10.797872340425531, 0.42180495558052195, 376),\n",
       " ('11358', 10.832167832167832, 0.67324859248948921, 143),\n",
       " ('11221', 10.891891891891891, 0.90881129905461056, 111),\n",
       " ('10002', 10.896624472573839, 0.39763808898099651, 474),\n",
       " ('10028', 10.906542056074766, 0.55633713666594276, 214),\n",
       " ('11432', 10.914893617021276, 0.61374438326590997, 188),\n",
       " ('10025', 10.945147679324894, 0.56934061223830623, 237),\n",
       " ('11373', 10.973333333333333, 0.46857263840339353, 225),\n",
       " ('10009', 10.983974358974359, 0.42956481265226054, 312),\n",
       " ('11232', 11.018867924528301, 0.83574470152264535, 106),\n",
       " ('10003', 11.035555555555556, 0.32634664969298383, 675),\n",
       " ('10024', 11.074257425742575, 0.52021558836387827, 202),\n",
       " ('11219', 11.085714285714285, 0.93076382490397069, 105),\n",
       " ('10034', 11.10377358490566, 0.87563908072416885, 106),\n",
       " ('10013', 11.110416666666667, 0.34986295605011053, 480),\n",
       " ('10014', 11.117647058823529, 0.41003186680299836, 408),\n",
       " ('10012', 11.124378109452737, 0.36610003714334466, 402),\n",
       " ('10016', 11.219806763285025, 0.41702179892953778, 414),\n",
       " ('11375', 11.224489795918368, 0.50595931774549829, 196),\n",
       " ('10314', 11.248648648648649, 0.56067155265606283, 185),\n",
       " ('11203', 11.269503546099291, 0.69101040747921516, 141),\n",
       " ('11226', 11.273631840796019, 0.66351150602365316, 201),\n",
       " ('11223', 11.297297297297296, 0.70412267269945206, 185),\n",
       " ('11249', 11.348387096774193, 0.82603192617304511, 155),\n",
       " ('10029', 11.350253807106599, 0.69582437834973299, 197),\n",
       " ('11211', 11.375342465753425, 0.48454651326257259, 365),\n",
       " ('11214', 11.377777777777778, 0.64205769630555709, 180),\n",
       " ('11230', 11.421568627450981, 0.6926740750173116, 102),\n",
       " ('10018', 11.471471471471471, 0.43388632670775928, 333),\n",
       " ('11208', 11.508620689655173, 0.79903387029920891, 116),\n",
       " ('11216', 11.512048192771084, 0.75810036952045357, 166),\n",
       " ('11205', 11.848275862068965, 0.65494954870503064, 145),\n",
       " ('11372', 11.956112852664576, 0.52162276932569351, 319),\n",
       " ('11354', 11.983379501385041, 0.55320146247743052, 361),\n",
       " ('10021', 12.032894736842104, 0.63726072698274316, 152),\n",
       " ('11229', 12.056338028169014, 0.84178263642169115, 142),\n",
       " ('10128', 12.119496855345911, 0.91482516666975444, 159),\n",
       " ('11220', 12.211356466876971, 0.55138504455899728, 317),\n",
       " ('11377', 12.308411214953271, 0.68515100515773586, 214),\n",
       " ('11235', 12.352272727272727, 0.92466489350967362, 176),\n",
       " ('10033', 12.366666666666667, 0.73487868749937446, 120),\n",
       " ('11104', 12.37719298245614, 0.91549397975318281, 114),\n",
       " ('10032', 12.52991452991453, 1.0018824493514187, 117),\n",
       " ('11355', 13.223350253807107, 0.69603538646795338, 197)]"
      ]
     },
     "execution_count": 16,
     "metadata": {},
     "output_type": "execute_result"
    }
   ],
   "source": [
    "zipcode"
   ]
  },
  {
   "cell_type": "code",
   "execution_count": 17,
   "metadata": {
    "collapsed": true
   },
   "outputs": [],
   "source": [
    "import pickle"
   ]
  },
  {
   "cell_type": "code",
   "execution_count": 18,
   "metadata": {
    "collapsed": true
   },
   "outputs": [],
   "source": [
    "with open('zipcode.pickle', 'wb') as f:\n",
    "    pickle.dump(zipcode, f)"
   ]
  },
  {
   "cell_type": "code",
   "execution_count": 20,
   "metadata": {
    "collapsed": false
   },
   "outputs": [],
   "source": [
    "zipcodegroup['ZIPCODE'] = zipcodegroup.index"
   ]
  },
  {
   "cell_type": "code",
   "execution_count": 22,
   "metadata": {
    "collapsed": false
   },
   "outputs": [],
   "source": [
    "zipcodegroup.index = range(len(zipcodegroup))"
   ]
  },
  {
   "cell_type": "code",
   "execution_count": 31,
   "metadata": {
    "collapsed": false
   },
   "outputs": [],
   "source": [
    "zipcodegroup['ZIPCODE'] = zipcodegroup.ZIPCODE.apply(lambda x: int(x))"
   ]
  },
  {
   "cell_type": "code",
   "execution_count": 33,
   "metadata": {
    "collapsed": false
   },
   "outputs": [],
   "source": [
    "zipcodegroup[[\"ZIPCODE\",\"mean\"]].to_csv(\"zipcode.csv\")"
   ]
  },
  {
   "cell_type": "code",
   "execution_count": null,
   "metadata": {
    "collapsed": true
   },
   "outputs": [],
   "source": []
  }
 ],
 "metadata": {
  "kernelspec": {
   "display_name": "Python 2",
   "language": "python",
   "name": "python2"
  },
  "language_info": {
   "codemirror_mode": {
    "name": "ipython",
    "version": 2
   },
   "file_extension": ".py",
   "mimetype": "text/x-python",
   "name": "python",
   "nbconvert_exporter": "python",
   "pygments_lexer": "ipython2",
   "version": "2.7.10"
  }
 },
 "nbformat": 4,
 "nbformat_minor": 0
}
