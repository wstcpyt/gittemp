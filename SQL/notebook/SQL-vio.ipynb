{
 "cells": [
  {
   "cell_type": "code",
   "execution_count": 1,
   "metadata": {
    "collapsed": false
   },
   "outputs": [],
   "source": [
    "import pandas as pd\n",
    "import numpy as np"
   ]
  },
  {
   "cell_type": "code",
   "execution_count": 2,
   "metadata": {
    "collapsed": false
   },
   "outputs": [
    {
     "name": "stderr",
     "output_type": "stream",
     "text": [
      "/Users/yutongpang/.virtualenvs/sqlVen27/lib/python2.7/site-packages/IPython/core/interactiveshell.py:2723: DtypeWarning: Columns (6) have mixed types. Specify dtype option on import or set low_memory=False.\n",
      "  interactivity=interactivity, compiler=compiler, result=result)\n"
     ]
    }
   ],
   "source": [
    "webExtract = pd.read_csv(\"data/nyc_inspection_data/WebExtract.txt\").fillna(0)"
   ]
  },
  {
   "cell_type": "code",
   "execution_count": 3,
   "metadata": {
    "collapsed": false
   },
   "outputs": [
    {
     "data": {
      "text/html": [
       "<div>\n",
       "<table border=\"1\" class=\"dataframe\">\n",
       "  <thead>\n",
       "    <tr style=\"text-align: right;\">\n",
       "      <th></th>\n",
       "      <th>CAMIS</th>\n",
       "      <th>DBA</th>\n",
       "      <th>BORO</th>\n",
       "      <th>BUILDING</th>\n",
       "      <th>STREET</th>\n",
       "      <th>ZIPCODE</th>\n",
       "      <th>PHONE</th>\n",
       "      <th>CUISINECODE</th>\n",
       "      <th>INSPDATE</th>\n",
       "      <th>ACTION</th>\n",
       "      <th>VIOLCODE</th>\n",
       "      <th>SCORE</th>\n",
       "      <th>CURRENTGRADE</th>\n",
       "      <th>GRADEDATE</th>\n",
       "      <th>RECORDDATE</th>\n",
       "    </tr>\n",
       "  </thead>\n",
       "  <tbody>\n",
       "    <tr>\n",
       "      <th>0</th>\n",
       "      <td>30075445</td>\n",
       "      <td>MORRIS PARK BAKE SHOP</td>\n",
       "      <td>2</td>\n",
       "      <td>1007</td>\n",
       "      <td>MORRIS PARK AVE                               ...</td>\n",
       "      <td>10462.0</td>\n",
       "      <td>7188924968</td>\n",
       "      <td>8</td>\n",
       "      <td>2014-03-03 00:00:00</td>\n",
       "      <td>D</td>\n",
       "      <td>10F</td>\n",
       "      <td>2.0</td>\n",
       "      <td>A</td>\n",
       "      <td>2014-03-03 00:00:00</td>\n",
       "      <td>2014-09-04 06:01:28.403000000</td>\n",
       "    </tr>\n",
       "    <tr>\n",
       "      <th>1</th>\n",
       "      <td>30112340</td>\n",
       "      <td>WENDY'S</td>\n",
       "      <td>3</td>\n",
       "      <td>469</td>\n",
       "      <td>FLATBUSH AVENUE</td>\n",
       "      <td>11225.0</td>\n",
       "      <td>7182875005</td>\n",
       "      <td>39</td>\n",
       "      <td>2014-07-01 00:00:00</td>\n",
       "      <td>F</td>\n",
       "      <td>06A</td>\n",
       "      <td>23.0</td>\n",
       "      <td>B</td>\n",
       "      <td>2014-07-01 00:00:00</td>\n",
       "      <td>2014-09-04 06:01:28.403000000</td>\n",
       "    </tr>\n",
       "    <tr>\n",
       "      <th>2</th>\n",
       "      <td>30191841</td>\n",
       "      <td>DJ REYNOLDS PUB AND RESTAURANT</td>\n",
       "      <td>1</td>\n",
       "      <td>351</td>\n",
       "      <td>WEST 57 STREET</td>\n",
       "      <td>10019.0</td>\n",
       "      <td>2122452912</td>\n",
       "      <td>3</td>\n",
       "      <td>2013-07-22 00:00:00</td>\n",
       "      <td>D</td>\n",
       "      <td>10B</td>\n",
       "      <td>11.0</td>\n",
       "      <td>A</td>\n",
       "      <td>2013-07-22 00:00:00</td>\n",
       "      <td>2014-09-04 06:01:28.403000000</td>\n",
       "    </tr>\n",
       "    <tr>\n",
       "      <th>3</th>\n",
       "      <td>40356483</td>\n",
       "      <td>WILKEN'S FINE FOOD</td>\n",
       "      <td>3</td>\n",
       "      <td>7114</td>\n",
       "      <td>AVENUE U</td>\n",
       "      <td>11234.0</td>\n",
       "      <td>7184443838</td>\n",
       "      <td>27</td>\n",
       "      <td>2014-05-29 00:00:00</td>\n",
       "      <td>D</td>\n",
       "      <td>08C</td>\n",
       "      <td>10.0</td>\n",
       "      <td>A</td>\n",
       "      <td>2014-05-29 00:00:00</td>\n",
       "      <td>2014-09-04 06:01:28.403000000</td>\n",
       "    </tr>\n",
       "    <tr>\n",
       "      <th>4</th>\n",
       "      <td>30191841</td>\n",
       "      <td>DJ REYNOLDS PUB AND RESTAURANT</td>\n",
       "      <td>1</td>\n",
       "      <td>351</td>\n",
       "      <td>WEST 57 STREET</td>\n",
       "      <td>10019.0</td>\n",
       "      <td>2122452912</td>\n",
       "      <td>3</td>\n",
       "      <td>2013-07-22 00:00:00</td>\n",
       "      <td>D</td>\n",
       "      <td>02G</td>\n",
       "      <td>11.0</td>\n",
       "      <td>A</td>\n",
       "      <td>2013-07-22 00:00:00</td>\n",
       "      <td>2014-09-04 06:01:28.403000000</td>\n",
       "    </tr>\n",
       "  </tbody>\n",
       "</table>\n",
       "</div>"
      ],
      "text/plain": [
       "      CAMIS                             DBA  BORO    BUILDING  \\\n",
       "0  30075445           MORRIS PARK BAKE SHOP     2  1007         \n",
       "1  30112340                         WENDY'S     3         469   \n",
       "2  30191841  DJ REYNOLDS PUB AND RESTAURANT     1         351   \n",
       "3  40356483              WILKEN'S FINE FOOD     3  7114         \n",
       "4  30191841  DJ REYNOLDS PUB AND RESTAURANT     1         351   \n",
       "\n",
       "                                              STREET  ZIPCODE       PHONE  \\\n",
       "0  MORRIS PARK AVE                               ...  10462.0  7188924968   \n",
       "1                                    FLATBUSH AVENUE  11225.0  7182875005   \n",
       "2                                     WEST 57 STREET  10019.0  2122452912   \n",
       "3                   AVENUE U                          11234.0  7184443838   \n",
       "4                                     WEST 57 STREET  10019.0  2122452912   \n",
       "\n",
       "   CUISINECODE             INSPDATE ACTION VIOLCODE  SCORE CURRENTGRADE  \\\n",
       "0            8  2014-03-03 00:00:00      D      10F    2.0            A   \n",
       "1           39  2014-07-01 00:00:00      F      06A   23.0            B   \n",
       "2            3  2013-07-22 00:00:00      D      10B   11.0            A   \n",
       "3           27  2014-05-29 00:00:00      D      08C   10.0            A   \n",
       "4            3  2013-07-22 00:00:00      D      02G   11.0            A   \n",
       "\n",
       "             GRADEDATE                     RECORDDATE  \n",
       "0  2014-03-03 00:00:00  2014-09-04 06:01:28.403000000  \n",
       "1  2014-07-01 00:00:00  2014-09-04 06:01:28.403000000  \n",
       "2  2013-07-22 00:00:00  2014-09-04 06:01:28.403000000  \n",
       "3  2014-05-29 00:00:00  2014-09-04 06:01:28.403000000  \n",
       "4  2013-07-22 00:00:00  2014-09-04 06:01:28.403000000  "
      ]
     },
     "execution_count": 3,
     "metadata": {},
     "output_type": "execute_result"
    }
   ],
   "source": [
    "webExtract.head()"
   ]
  },
  {
   "cell_type": "code",
   "execution_count": 4,
   "metadata": {
    "collapsed": false
   },
   "outputs": [],
   "source": [
    "webExtract[\"INSPDATE\"] = pd.to_datetime(webExtract.INSPDATE)"
   ]
  },
  {
   "cell_type": "code",
   "execution_count": 5,
   "metadata": {
    "collapsed": false
   },
   "outputs": [],
   "source": [
    "#webExtract = webExtract[webExtract.INSPDATE >= pd.to_datetime(\"2014-01-01 00:00:00\")]"
   ]
  },
  {
   "cell_type": "code",
   "execution_count": 6,
   "metadata": {
    "collapsed": false
   },
   "outputs": [],
   "source": [
    "#webExtract = webExtract.sort_values(by=[\"INSPDATE\",\"SCORE\"])\n",
    "#webExtract = webExtract.groupby(\"CAMIS\").last()"
   ]
  },
  {
   "cell_type": "code",
   "execution_count": 7,
   "metadata": {
    "collapsed": false
   },
   "outputs": [],
   "source": [
    "#webExtract = webExtract.groupby(['CUISINECODE','VIOLCODE']).filter(lambda x: len(x)>100)"
   ]
  },
  {
   "cell_type": "code",
   "execution_count": 8,
   "metadata": {
    "collapsed": false
   },
   "outputs": [],
   "source": [
    "conditionalgroup = webExtract.groupby('CUISINECODE').VIOLCODE.apply(lambda g: g.value_counts()/len(g)).to_frame()"
   ]
  },
  {
   "cell_type": "code",
   "execution_count": 9,
   "metadata": {
    "collapsed": false
   },
   "outputs": [
    {
     "data": {
      "text/html": [
       "<div>\n",
       "<table border=\"1\" class=\"dataframe\">\n",
       "  <thead>\n",
       "    <tr style=\"text-align: right;\">\n",
       "      <th></th>\n",
       "      <th>CAMIS</th>\n",
       "      <th>DBA</th>\n",
       "      <th>BORO</th>\n",
       "      <th>BUILDING</th>\n",
       "      <th>STREET</th>\n",
       "      <th>ZIPCODE</th>\n",
       "      <th>PHONE</th>\n",
       "      <th>CUISINECODE</th>\n",
       "      <th>INSPDATE</th>\n",
       "      <th>ACTION</th>\n",
       "      <th>VIOLCODE</th>\n",
       "      <th>SCORE</th>\n",
       "      <th>CURRENTGRADE</th>\n",
       "      <th>GRADEDATE</th>\n",
       "      <th>RECORDDATE</th>\n",
       "    </tr>\n",
       "  </thead>\n",
       "  <tbody>\n",
       "    <tr>\n",
       "      <th>0</th>\n",
       "      <td>30075445</td>\n",
       "      <td>MORRIS PARK BAKE SHOP</td>\n",
       "      <td>2</td>\n",
       "      <td>1007</td>\n",
       "      <td>MORRIS PARK AVE                               ...</td>\n",
       "      <td>10462.0</td>\n",
       "      <td>7188924968</td>\n",
       "      <td>8</td>\n",
       "      <td>2014-03-03</td>\n",
       "      <td>D</td>\n",
       "      <td>10F</td>\n",
       "      <td>2.0</td>\n",
       "      <td>A</td>\n",
       "      <td>2014-03-03 00:00:00</td>\n",
       "      <td>2014-09-04 06:01:28.403000000</td>\n",
       "    </tr>\n",
       "    <tr>\n",
       "      <th>1</th>\n",
       "      <td>30112340</td>\n",
       "      <td>WENDY'S</td>\n",
       "      <td>3</td>\n",
       "      <td>469</td>\n",
       "      <td>FLATBUSH AVENUE</td>\n",
       "      <td>11225.0</td>\n",
       "      <td>7182875005</td>\n",
       "      <td>39</td>\n",
       "      <td>2014-07-01</td>\n",
       "      <td>F</td>\n",
       "      <td>06A</td>\n",
       "      <td>23.0</td>\n",
       "      <td>B</td>\n",
       "      <td>2014-07-01 00:00:00</td>\n",
       "      <td>2014-09-04 06:01:28.403000000</td>\n",
       "    </tr>\n",
       "    <tr>\n",
       "      <th>2</th>\n",
       "      <td>30191841</td>\n",
       "      <td>DJ REYNOLDS PUB AND RESTAURANT</td>\n",
       "      <td>1</td>\n",
       "      <td>351</td>\n",
       "      <td>WEST 57 STREET</td>\n",
       "      <td>10019.0</td>\n",
       "      <td>2122452912</td>\n",
       "      <td>3</td>\n",
       "      <td>2013-07-22</td>\n",
       "      <td>D</td>\n",
       "      <td>10B</td>\n",
       "      <td>11.0</td>\n",
       "      <td>A</td>\n",
       "      <td>2013-07-22 00:00:00</td>\n",
       "      <td>2014-09-04 06:01:28.403000000</td>\n",
       "    </tr>\n",
       "    <tr>\n",
       "      <th>3</th>\n",
       "      <td>40356483</td>\n",
       "      <td>WILKEN'S FINE FOOD</td>\n",
       "      <td>3</td>\n",
       "      <td>7114</td>\n",
       "      <td>AVENUE U</td>\n",
       "      <td>11234.0</td>\n",
       "      <td>7184443838</td>\n",
       "      <td>27</td>\n",
       "      <td>2014-05-29</td>\n",
       "      <td>D</td>\n",
       "      <td>08C</td>\n",
       "      <td>10.0</td>\n",
       "      <td>A</td>\n",
       "      <td>2014-05-29 00:00:00</td>\n",
       "      <td>2014-09-04 06:01:28.403000000</td>\n",
       "    </tr>\n",
       "    <tr>\n",
       "      <th>4</th>\n",
       "      <td>30191841</td>\n",
       "      <td>DJ REYNOLDS PUB AND RESTAURANT</td>\n",
       "      <td>1</td>\n",
       "      <td>351</td>\n",
       "      <td>WEST 57 STREET</td>\n",
       "      <td>10019.0</td>\n",
       "      <td>2122452912</td>\n",
       "      <td>3</td>\n",
       "      <td>2013-07-22</td>\n",
       "      <td>D</td>\n",
       "      <td>02G</td>\n",
       "      <td>11.0</td>\n",
       "      <td>A</td>\n",
       "      <td>2013-07-22 00:00:00</td>\n",
       "      <td>2014-09-04 06:01:28.403000000</td>\n",
       "    </tr>\n",
       "  </tbody>\n",
       "</table>\n",
       "</div>"
      ],
      "text/plain": [
       "      CAMIS                             DBA  BORO    BUILDING  \\\n",
       "0  30075445           MORRIS PARK BAKE SHOP     2  1007         \n",
       "1  30112340                         WENDY'S     3         469   \n",
       "2  30191841  DJ REYNOLDS PUB AND RESTAURANT     1         351   \n",
       "3  40356483              WILKEN'S FINE FOOD     3  7114         \n",
       "4  30191841  DJ REYNOLDS PUB AND RESTAURANT     1         351   \n",
       "\n",
       "                                              STREET  ZIPCODE       PHONE  \\\n",
       "0  MORRIS PARK AVE                               ...  10462.0  7188924968   \n",
       "1                                    FLATBUSH AVENUE  11225.0  7182875005   \n",
       "2                                     WEST 57 STREET  10019.0  2122452912   \n",
       "3                   AVENUE U                          11234.0  7184443838   \n",
       "4                                     WEST 57 STREET  10019.0  2122452912   \n",
       "\n",
       "   CUISINECODE   INSPDATE ACTION VIOLCODE  SCORE CURRENTGRADE  \\\n",
       "0            8 2014-03-03      D      10F    2.0            A   \n",
       "1           39 2014-07-01      F      06A   23.0            B   \n",
       "2            3 2013-07-22      D      10B   11.0            A   \n",
       "3           27 2014-05-29      D      08C   10.0            A   \n",
       "4            3 2013-07-22      D      02G   11.0            A   \n",
       "\n",
       "             GRADEDATE                     RECORDDATE  \n",
       "0  2014-03-03 00:00:00  2014-09-04 06:01:28.403000000  \n",
       "1  2014-07-01 00:00:00  2014-09-04 06:01:28.403000000  \n",
       "2  2013-07-22 00:00:00  2014-09-04 06:01:28.403000000  \n",
       "3  2014-05-29 00:00:00  2014-09-04 06:01:28.403000000  \n",
       "4  2013-07-22 00:00:00  2014-09-04 06:01:28.403000000  "
      ]
     },
     "execution_count": 9,
     "metadata": {},
     "output_type": "execute_result"
    }
   ],
   "source": [
    "webExtract.head()"
   ]
  },
  {
   "cell_type": "code",
   "execution_count": 10,
   "metadata": {
    "collapsed": false
   },
   "outputs": [],
   "source": [
    "conditionaldf = conditionalgroup.reset_index()"
   ]
  },
  {
   "cell_type": "code",
   "execution_count": 11,
   "metadata": {
    "collapsed": false
   },
   "outputs": [],
   "source": [
    "conditionaldf.columns = [\"CUISINECODE\",\"VIOLCODE\",\"CP\"]"
   ]
  },
  {
   "cell_type": "code",
   "execution_count": 12,
   "metadata": {
    "collapsed": false
   },
   "outputs": [
    {
     "data": {
      "text/html": [
       "<div>\n",
       "<table border=\"1\" class=\"dataframe\">\n",
       "  <thead>\n",
       "    <tr style=\"text-align: right;\">\n",
       "      <th></th>\n",
       "      <th>CUISINECODE</th>\n",
       "      <th>VIOLCODE</th>\n",
       "      <th>CP</th>\n",
       "    </tr>\n",
       "  </thead>\n",
       "  <tbody>\n",
       "    <tr>\n",
       "      <th>0</th>\n",
       "      <td>0</td>\n",
       "      <td>04A</td>\n",
       "      <td>0.115108</td>\n",
       "    </tr>\n",
       "    <tr>\n",
       "      <th>1</th>\n",
       "      <td>0</td>\n",
       "      <td>10F</td>\n",
       "      <td>0.107914</td>\n",
       "    </tr>\n",
       "    <tr>\n",
       "      <th>2</th>\n",
       "      <td>0</td>\n",
       "      <td>10B</td>\n",
       "      <td>0.071942</td>\n",
       "    </tr>\n",
       "    <tr>\n",
       "      <th>3</th>\n",
       "      <td>0</td>\n",
       "      <td>0</td>\n",
       "      <td>0.057554</td>\n",
       "    </tr>\n",
       "    <tr>\n",
       "      <th>4</th>\n",
       "      <td>0</td>\n",
       "      <td>04L</td>\n",
       "      <td>0.057554</td>\n",
       "    </tr>\n",
       "  </tbody>\n",
       "</table>\n",
       "</div>"
      ],
      "text/plain": [
       "   CUISINECODE VIOLCODE        CP\n",
       "0            0      04A  0.115108\n",
       "1            0      10F  0.107914\n",
       "2            0      10B  0.071942\n",
       "3            0        0  0.057554\n",
       "4            0      04L  0.057554"
      ]
     },
     "execution_count": 12,
     "metadata": {},
     "output_type": "execute_result"
    }
   ],
   "source": [
    "conditionaldf.head()"
   ]
  },
  {
   "cell_type": "code",
   "execution_count": 13,
   "metadata": {
    "collapsed": false
   },
   "outputs": [],
   "source": [
    "unconditionaldf = webExtract.groupby(\"VIOLCODE\")['VIOLCODE'].apply(lambda x: x.count()/float(len(webExtract))).to_frame()"
   ]
  },
  {
   "cell_type": "code",
   "execution_count": 14,
   "metadata": {
    "collapsed": false
   },
   "outputs": [],
   "source": [
    "unconditionaldf.columns = [\"UNCP\"]"
   ]
  },
  {
   "cell_type": "code",
   "execution_count": 15,
   "metadata": {
    "collapsed": false
   },
   "outputs": [],
   "source": [
    "unconditionaldf = unconditionaldf.reset_index()"
   ]
  },
  {
   "cell_type": "code",
   "execution_count": 16,
   "metadata": {
    "collapsed": false
   },
   "outputs": [
    {
     "data": {
      "text/html": [
       "<div>\n",
       "<table border=\"1\" class=\"dataframe\">\n",
       "  <thead>\n",
       "    <tr style=\"text-align: right;\">\n",
       "      <th></th>\n",
       "      <th>VIOLCODE</th>\n",
       "      <th>UNCP</th>\n",
       "    </tr>\n",
       "  </thead>\n",
       "  <tbody>\n",
       "    <tr>\n",
       "      <th>0</th>\n",
       "      <td>0</td>\n",
       "      <td>0.021083</td>\n",
       "    </tr>\n",
       "    <tr>\n",
       "      <th>1</th>\n",
       "      <td>02A</td>\n",
       "      <td>0.000936</td>\n",
       "    </tr>\n",
       "    <tr>\n",
       "      <th>2</th>\n",
       "      <td>02B</td>\n",
       "      <td>0.046101</td>\n",
       "    </tr>\n",
       "    <tr>\n",
       "      <th>3</th>\n",
       "      <td>02C</td>\n",
       "      <td>0.001034</td>\n",
       "    </tr>\n",
       "    <tr>\n",
       "      <th>4</th>\n",
       "      <td>02D</td>\n",
       "      <td>0.000098</td>\n",
       "    </tr>\n",
       "  </tbody>\n",
       "</table>\n",
       "</div>"
      ],
      "text/plain": [
       "  VIOLCODE      UNCP\n",
       "0        0  0.021083\n",
       "1      02A  0.000936\n",
       "2      02B  0.046101\n",
       "3      02C  0.001034\n",
       "4      02D  0.000098"
      ]
     },
     "execution_count": 16,
     "metadata": {},
     "output_type": "execute_result"
    }
   ],
   "source": [
    "unconditionaldf.head()"
   ]
  },
  {
   "cell_type": "code",
   "execution_count": 17,
   "metadata": {
    "collapsed": true
   },
   "outputs": [],
   "source": [
    "pmerge = pd.merge(conditionaldf,unconditionaldf,on=\"VIOLCODE\")"
   ]
  },
  {
   "cell_type": "code",
   "execution_count": 18,
   "metadata": {
    "collapsed": true
   },
   "outputs": [],
   "source": [
    "pmerge[\"ratio\"] = pmerge.CP/pmerge.UNCP"
   ]
  },
  {
   "cell_type": "code",
   "execution_count": 19,
   "metadata": {
    "collapsed": false
   },
   "outputs": [
    {
     "data": {
      "text/html": [
       "<div>\n",
       "<table border=\"1\" class=\"dataframe\">\n",
       "  <thead>\n",
       "    <tr style=\"text-align: right;\">\n",
       "      <th></th>\n",
       "      <th>CUISINECODE</th>\n",
       "      <th>VIOLCODE</th>\n",
       "      <th>CP</th>\n",
       "      <th>UNCP</th>\n",
       "      <th>ratio</th>\n",
       "    </tr>\n",
       "  </thead>\n",
       "  <tbody>\n",
       "    <tr>\n",
       "      <th>0</th>\n",
       "      <td>0</td>\n",
       "      <td>04A</td>\n",
       "      <td>0.115108</td>\n",
       "      <td>0.017416</td>\n",
       "      <td>6.609448</td>\n",
       "    </tr>\n",
       "    <tr>\n",
       "      <th>1</th>\n",
       "      <td>1</td>\n",
       "      <td>04A</td>\n",
       "      <td>0.019544</td>\n",
       "      <td>0.017416</td>\n",
       "      <td>1.122207</td>\n",
       "    </tr>\n",
       "    <tr>\n",
       "      <th>2</th>\n",
       "      <td>2</td>\n",
       "      <td>04A</td>\n",
       "      <td>0.045818</td>\n",
       "      <td>0.017416</td>\n",
       "      <td>2.630839</td>\n",
       "    </tr>\n",
       "    <tr>\n",
       "      <th>3</th>\n",
       "      <td>3</td>\n",
       "      <td>04A</td>\n",
       "      <td>0.017099</td>\n",
       "      <td>0.017416</td>\n",
       "      <td>0.981803</td>\n",
       "    </tr>\n",
       "    <tr>\n",
       "      <th>4</th>\n",
       "      <td>4</td>\n",
       "      <td>04A</td>\n",
       "      <td>0.033537</td>\n",
       "      <td>0.017416</td>\n",
       "      <td>1.925657</td>\n",
       "    </tr>\n",
       "  </tbody>\n",
       "</table>\n",
       "</div>"
      ],
      "text/plain": [
       "   CUISINECODE VIOLCODE        CP      UNCP     ratio\n",
       "0            0      04A  0.115108  0.017416  6.609448\n",
       "1            1      04A  0.019544  0.017416  1.122207\n",
       "2            2      04A  0.045818  0.017416  2.630839\n",
       "3            3      04A  0.017099  0.017416  0.981803\n",
       "4            4      04A  0.033537  0.017416  1.925657"
      ]
     },
     "execution_count": 19,
     "metadata": {},
     "output_type": "execute_result"
    }
   ],
   "source": [
    "pmerge.head()"
   ]
  },
  {
   "cell_type": "code",
   "execution_count": 20,
   "metadata": {
    "collapsed": false
   },
   "outputs": [],
   "source": [
    "pmergesort = pmerge.sort_values(by=\"ratio\").groupby(\"CUISINECODE\").last().reset_index()"
   ]
  },
  {
   "cell_type": "code",
   "execution_count": 21,
   "metadata": {
    "collapsed": false
   },
   "outputs": [
    {
     "data": {
      "text/html": [
       "<div>\n",
       "<table border=\"1\" class=\"dataframe\">\n",
       "  <thead>\n",
       "    <tr style=\"text-align: right;\">\n",
       "      <th></th>\n",
       "      <th>CUISINECODE</th>\n",
       "      <th>VIOLCODE</th>\n",
       "      <th>CP</th>\n",
       "      <th>UNCP</th>\n",
       "      <th>ratio</th>\n",
       "    </tr>\n",
       "  </thead>\n",
       "  <tbody>\n",
       "    <tr>\n",
       "      <th>0</th>\n",
       "      <td>0</td>\n",
       "      <td>04A</td>\n",
       "      <td>0.115108</td>\n",
       "      <td>0.017416</td>\n",
       "      <td>6.609448</td>\n",
       "    </tr>\n",
       "    <tr>\n",
       "      <th>1</th>\n",
       "      <td>1</td>\n",
       "      <td>04A</td>\n",
       "      <td>0.019544</td>\n",
       "      <td>0.017416</td>\n",
       "      <td>1.122207</td>\n",
       "    </tr>\n",
       "    <tr>\n",
       "      <th>2</th>\n",
       "      <td>2</td>\n",
       "      <td>04A</td>\n",
       "      <td>0.045818</td>\n",
       "      <td>0.017416</td>\n",
       "      <td>2.630839</td>\n",
       "    </tr>\n",
       "    <tr>\n",
       "      <th>3</th>\n",
       "      <td>3</td>\n",
       "      <td>04A</td>\n",
       "      <td>0.017099</td>\n",
       "      <td>0.017416</td>\n",
       "      <td>0.981803</td>\n",
       "    </tr>\n",
       "    <tr>\n",
       "      <th>4</th>\n",
       "      <td>4</td>\n",
       "      <td>04A</td>\n",
       "      <td>0.033537</td>\n",
       "      <td>0.017416</td>\n",
       "      <td>1.925657</td>\n",
       "    </tr>\n",
       "  </tbody>\n",
       "</table>\n",
       "</div>"
      ],
      "text/plain": [
       "   CUISINECODE VIOLCODE        CP      UNCP     ratio\n",
       "0            0      04A  0.115108  0.017416  6.609448\n",
       "1            1      04A  0.019544  0.017416  1.122207\n",
       "2            2      04A  0.045818  0.017416  2.630839\n",
       "3            3      04A  0.017099  0.017416  0.981803\n",
       "4            4      04A  0.033537  0.017416  1.925657"
      ]
     },
     "execution_count": 21,
     "metadata": {},
     "output_type": "execute_result"
    }
   ],
   "source": [
    "pmergesort = pmerge\n",
    "pmergesort.head()"
   ]
  },
  {
   "cell_type": "code",
   "execution_count": 22,
   "metadata": {
    "collapsed": false
   },
   "outputs": [
    {
     "data": {
      "text/plain": [
       "0     6.609448\n",
       "1     1.122207\n",
       "2     2.630839\n",
       "3     0.981803\n",
       "4     1.925657\n",
       "5     0.878494\n",
       "6     0.452123\n",
       "7     0.708884\n",
       "8     0.854552\n",
       "9     1.340260\n",
       "10    0.562937\n",
       "11    3.435360\n",
       "12    0.592828\n",
       "13    1.786471\n",
       "14    0.926122\n",
       "15    1.361300\n",
       "16    1.635606\n",
       "17    0.489636\n",
       "18    0.648077\n",
       "19    0.434668\n",
       "Name: ratio, dtype: float64"
      ]
     },
     "execution_count": 22,
     "metadata": {},
     "output_type": "execute_result"
    }
   ],
   "source": [
    "pmergesort.ratio[0:20]"
   ]
  },
  {
   "cell_type": "code",
   "execution_count": 23,
   "metadata": {
    "collapsed": false
   },
   "outputs": [],
   "source": [
    "numberdf = webExtract.groupby(['CUISINECODE','VIOLCODE']).VIOLCODE.count().to_frame()"
   ]
  },
  {
   "cell_type": "code",
   "execution_count": 24,
   "metadata": {
    "collapsed": true
   },
   "outputs": [],
   "source": [
    "numberdf.columns = [\"number\"]"
   ]
  },
  {
   "cell_type": "code",
   "execution_count": 25,
   "metadata": {
    "collapsed": false
   },
   "outputs": [],
   "source": [
    "numberdf = numberdf.reset_index()"
   ]
  },
  {
   "cell_type": "code",
   "execution_count": 26,
   "metadata": {
    "collapsed": false
   },
   "outputs": [
    {
     "data": {
      "text/html": [
       "<div>\n",
       "<table border=\"1\" class=\"dataframe\">\n",
       "  <thead>\n",
       "    <tr style=\"text-align: right;\">\n",
       "      <th></th>\n",
       "      <th>CUISINECODE</th>\n",
       "      <th>VIOLCODE</th>\n",
       "      <th>number</th>\n",
       "    </tr>\n",
       "  </thead>\n",
       "  <tbody>\n",
       "    <tr>\n",
       "      <th>0</th>\n",
       "      <td>0</td>\n",
       "      <td>0</td>\n",
       "      <td>8</td>\n",
       "    </tr>\n",
       "    <tr>\n",
       "      <th>1</th>\n",
       "      <td>0</td>\n",
       "      <td>02B</td>\n",
       "      <td>1</td>\n",
       "    </tr>\n",
       "    <tr>\n",
       "      <th>2</th>\n",
       "      <td>0</td>\n",
       "      <td>02G</td>\n",
       "      <td>3</td>\n",
       "    </tr>\n",
       "    <tr>\n",
       "      <th>3</th>\n",
       "      <td>0</td>\n",
       "      <td>04A</td>\n",
       "      <td>16</td>\n",
       "    </tr>\n",
       "    <tr>\n",
       "      <th>4</th>\n",
       "      <td>0</td>\n",
       "      <td>04C</td>\n",
       "      <td>1</td>\n",
       "    </tr>\n",
       "  </tbody>\n",
       "</table>\n",
       "</div>"
      ],
      "text/plain": [
       "   CUISINECODE VIOLCODE  number\n",
       "0            0        0       8\n",
       "1            0      02B       1\n",
       "2            0      02G       3\n",
       "3            0      04A      16\n",
       "4            0      04C       1"
      ]
     },
     "execution_count": 26,
     "metadata": {},
     "output_type": "execute_result"
    }
   ],
   "source": [
    "numberdf.head()"
   ]
  },
  {
   "cell_type": "code",
   "execution_count": 27,
   "metadata": {
    "collapsed": false
   },
   "outputs": [],
   "source": [
    "result = pd.merge(pmergesort,numberdf,on=[\"CUISINECODE\",\"VIOLCODE\"])"
   ]
  },
  {
   "cell_type": "code",
   "execution_count": 28,
   "metadata": {
    "collapsed": false
   },
   "outputs": [
    {
     "data": {
      "text/html": [
       "<div>\n",
       "<table border=\"1\" class=\"dataframe\">\n",
       "  <thead>\n",
       "    <tr style=\"text-align: right;\">\n",
       "      <th></th>\n",
       "      <th>CUISINECODE</th>\n",
       "      <th>VIOLCODE</th>\n",
       "      <th>CP</th>\n",
       "      <th>UNCP</th>\n",
       "      <th>ratio</th>\n",
       "      <th>number</th>\n",
       "    </tr>\n",
       "  </thead>\n",
       "  <tbody>\n",
       "    <tr>\n",
       "      <th>13</th>\n",
       "      <td>14</td>\n",
       "      <td>04A</td>\n",
       "      <td>0.031113</td>\n",
       "      <td>0.017416</td>\n",
       "      <td>1.786471</td>\n",
       "      <td>474</td>\n",
       "    </tr>\n",
       "    <tr>\n",
       "      <th>95</th>\n",
       "      <td>14</td>\n",
       "      <td>10F</td>\n",
       "      <td>0.171316</td>\n",
       "      <td>0.124865</td>\n",
       "      <td>1.372011</td>\n",
       "      <td>2610</td>\n",
       "    </tr>\n",
       "    <tr>\n",
       "      <th>178</th>\n",
       "      <td>14</td>\n",
       "      <td>10B</td>\n",
       "      <td>0.061503</td>\n",
       "      <td>0.058900</td>\n",
       "      <td>1.044195</td>\n",
       "      <td>937</td>\n",
       "    </tr>\n",
       "    <tr>\n",
       "      <th>261</th>\n",
       "      <td>14</td>\n",
       "      <td>0</td>\n",
       "      <td>0.024614</td>\n",
       "      <td>0.021083</td>\n",
       "      <td>1.167476</td>\n",
       "      <td>375</td>\n",
       "    </tr>\n",
       "    <tr>\n",
       "      <th>341</th>\n",
       "      <td>14</td>\n",
       "      <td>04L</td>\n",
       "      <td>0.060584</td>\n",
       "      <td>0.072013</td>\n",
       "      <td>0.841300</td>\n",
       "      <td>923</td>\n",
       "    </tr>\n",
       "    <tr>\n",
       "      <th>422</th>\n",
       "      <td>14</td>\n",
       "      <td>08A</td>\n",
       "      <td>0.080735</td>\n",
       "      <td>0.093177</td>\n",
       "      <td>0.866473</td>\n",
       "      <td>1230</td>\n",
       "    </tr>\n",
       "    <tr>\n",
       "      <th>503</th>\n",
       "      <td>14</td>\n",
       "      <td>05D</td>\n",
       "      <td>0.014769</td>\n",
       "      <td>0.011204</td>\n",
       "      <td>1.318112</td>\n",
       "      <td>225</td>\n",
       "    </tr>\n",
       "    <tr>\n",
       "      <th>578</th>\n",
       "      <td>14</td>\n",
       "      <td>10H</td>\n",
       "      <td>0.023761</td>\n",
       "      <td>0.016406</td>\n",
       "      <td>1.448304</td>\n",
       "      <td>362</td>\n",
       "    </tr>\n",
       "    <tr>\n",
       "      <th>661</th>\n",
       "      <td>14</td>\n",
       "      <td>06D</td>\n",
       "      <td>0.059928</td>\n",
       "      <td>0.058214</td>\n",
       "      <td>1.029442</td>\n",
       "      <td>913</td>\n",
       "    </tr>\n",
       "    <tr>\n",
       "      <th>742</th>\n",
       "      <td>14</td>\n",
       "      <td>15L</td>\n",
       "      <td>0.003807</td>\n",
       "      <td>0.005880</td>\n",
       "      <td>0.647407</td>\n",
       "      <td>58</td>\n",
       "    </tr>\n",
       "    <tr>\n",
       "      <th>814</th>\n",
       "      <td>14</td>\n",
       "      <td>20D</td>\n",
       "      <td>0.011487</td>\n",
       "      <td>0.003656</td>\n",
       "      <td>3.141482</td>\n",
       "      <td>175</td>\n",
       "    </tr>\n",
       "    <tr>\n",
       "      <th>880</th>\n",
       "      <td>14</td>\n",
       "      <td>10A</td>\n",
       "      <td>0.020676</td>\n",
       "      <td>0.011016</td>\n",
       "      <td>1.876848</td>\n",
       "      <td>315</td>\n",
       "    </tr>\n",
       "    <tr>\n",
       "      <th>959</th>\n",
       "      <td>14</td>\n",
       "      <td>22C</td>\n",
       "      <td>0.009124</td>\n",
       "      <td>0.008274</td>\n",
       "      <td>1.102756</td>\n",
       "      <td>139</td>\n",
       "    </tr>\n",
       "    <tr>\n",
       "      <th>1033</th>\n",
       "      <td>14</td>\n",
       "      <td>08C</td>\n",
       "      <td>0.009649</td>\n",
       "      <td>0.011731</td>\n",
       "      <td>0.822525</td>\n",
       "      <td>147</td>\n",
       "    </tr>\n",
       "    <tr>\n",
       "      <th>1111</th>\n",
       "      <td>14</td>\n",
       "      <td>02G</td>\n",
       "      <td>0.102133</td>\n",
       "      <td>0.086136</td>\n",
       "      <td>1.185714</td>\n",
       "      <td>1556</td>\n",
       "    </tr>\n",
       "    <tr>\n",
       "      <th>1193</th>\n",
       "      <td>14</td>\n",
       "      <td>06C</td>\n",
       "      <td>0.040368</td>\n",
       "      <td>0.047694</td>\n",
       "      <td>0.846390</td>\n",
       "      <td>615</td>\n",
       "    </tr>\n",
       "    <tr>\n",
       "      <th>1275</th>\n",
       "      <td>14</td>\n",
       "      <td>06F</td>\n",
       "      <td>0.016278</td>\n",
       "      <td>0.018829</td>\n",
       "      <td>0.864517</td>\n",
       "      <td>248</td>\n",
       "    </tr>\n",
       "    <tr>\n",
       "      <th>1354</th>\n",
       "      <td>14</td>\n",
       "      <td>08B</td>\n",
       "      <td>0.003676</td>\n",
       "      <td>0.004512</td>\n",
       "      <td>0.814691</td>\n",
       "      <td>56</td>\n",
       "    </tr>\n",
       "    <tr>\n",
       "      <th>1423</th>\n",
       "      <td>14</td>\n",
       "      <td>04H</td>\n",
       "      <td>0.023236</td>\n",
       "      <td>0.029992</td>\n",
       "      <td>0.774729</td>\n",
       "      <td>354</td>\n",
       "    </tr>\n",
       "    <tr>\n",
       "      <th>1502</th>\n",
       "      <td>14</td>\n",
       "      <td>04J</td>\n",
       "      <td>0.014572</td>\n",
       "      <td>0.011791</td>\n",
       "      <td>1.235842</td>\n",
       "      <td>222</td>\n",
       "    </tr>\n",
       "    <tr>\n",
       "      <th>1576</th>\n",
       "      <td>14</td>\n",
       "      <td>20F</td>\n",
       "      <td>0.004595</td>\n",
       "      <td>0.007097</td>\n",
       "      <td>0.647437</td>\n",
       "      <td>70</td>\n",
       "    </tr>\n",
       "    <tr>\n",
       "      <th>1650</th>\n",
       "      <td>14</td>\n",
       "      <td>10D</td>\n",
       "      <td>0.008139</td>\n",
       "      <td>0.009360</td>\n",
       "      <td>0.869552</td>\n",
       "      <td>124</td>\n",
       "    </tr>\n",
       "    <tr>\n",
       "      <th>1724</th>\n",
       "      <td>14</td>\n",
       "      <td>10J</td>\n",
       "      <td>0.005514</td>\n",
       "      <td>0.004647</td>\n",
       "      <td>1.186443</td>\n",
       "      <td>84</td>\n",
       "    </tr>\n",
       "    <tr>\n",
       "      <th>1794</th>\n",
       "      <td>14</td>\n",
       "      <td>04N</td>\n",
       "      <td>0.040039</td>\n",
       "      <td>0.040434</td>\n",
       "      <td>0.990252</td>\n",
       "      <td>610</td>\n",
       "    </tr>\n",
       "    <tr>\n",
       "      <th>1870</th>\n",
       "      <td>14</td>\n",
       "      <td>05H</td>\n",
       "      <td>0.005185</td>\n",
       "      <td>0.001587</td>\n",
       "      <td>3.268141</td>\n",
       "      <td>79</td>\n",
       "    </tr>\n",
       "    <tr>\n",
       "      <th>1930</th>\n",
       "      <td>14</td>\n",
       "      <td>10I</td>\n",
       "      <td>0.006761</td>\n",
       "      <td>0.007328</td>\n",
       "      <td>0.922596</td>\n",
       "      <td>103</td>\n",
       "    </tr>\n",
       "    <tr>\n",
       "      <th>2007</th>\n",
       "      <td>14</td>\n",
       "      <td>02B</td>\n",
       "      <td>0.013193</td>\n",
       "      <td>0.046101</td>\n",
       "      <td>0.286180</td>\n",
       "      <td>201</td>\n",
       "    </tr>\n",
       "    <tr>\n",
       "      <th>2086</th>\n",
       "      <td>14</td>\n",
       "      <td>10E</td>\n",
       "      <td>0.010240</td>\n",
       "      <td>0.006647</td>\n",
       "      <td>1.540382</td>\n",
       "      <td>156</td>\n",
       "    </tr>\n",
       "    <tr>\n",
       "      <th>2159</th>\n",
       "      <td>14</td>\n",
       "      <td>04C</td>\n",
       "      <td>0.004004</td>\n",
       "      <td>0.008885</td>\n",
       "      <td>0.450663</td>\n",
       "      <td>61</td>\n",
       "    </tr>\n",
       "    <tr>\n",
       "      <th>2234</th>\n",
       "      <td>14</td>\n",
       "      <td>06E</td>\n",
       "      <td>0.022054</td>\n",
       "      <td>0.025832</td>\n",
       "      <td>0.853762</td>\n",
       "      <td>336</td>\n",
       "    </tr>\n",
       "    <tr>\n",
       "      <th>...</th>\n",
       "      <td>...</td>\n",
       "      <td>...</td>\n",
       "      <td>...</td>\n",
       "      <td>...</td>\n",
       "      <td>...</td>\n",
       "      <td>...</td>\n",
       "    </tr>\n",
       "    <tr>\n",
       "      <th>3406</th>\n",
       "      <td>14</td>\n",
       "      <td>04F</td>\n",
       "      <td>0.000197</td>\n",
       "      <td>0.000167</td>\n",
       "      <td>1.176921</td>\n",
       "      <td>3</td>\n",
       "    </tr>\n",
       "    <tr>\n",
       "      <th>3431</th>\n",
       "      <td>14</td>\n",
       "      <td>04I</td>\n",
       "      <td>0.000131</td>\n",
       "      <td>0.000047</td>\n",
       "      <td>2.793226</td>\n",
       "      <td>2</td>\n",
       "    </tr>\n",
       "    <tr>\n",
       "      <th>3445</th>\n",
       "      <td>14</td>\n",
       "      <td>05F</td>\n",
       "      <td>0.001247</td>\n",
       "      <td>0.001555</td>\n",
       "      <td>0.802166</td>\n",
       "      <td>19</td>\n",
       "    </tr>\n",
       "    <tr>\n",
       "      <th>3496</th>\n",
       "      <td>14</td>\n",
       "      <td>02C</td>\n",
       "      <td>0.000394</td>\n",
       "      <td>0.001034</td>\n",
       "      <td>0.380894</td>\n",
       "      <td>6</td>\n",
       "    </tr>\n",
       "    <tr>\n",
       "      <th>3549</th>\n",
       "      <td>14</td>\n",
       "      <td>18D</td>\n",
       "      <td>0.000066</td>\n",
       "      <td>0.000258</td>\n",
       "      <td>0.254856</td>\n",
       "      <td>1</td>\n",
       "    </tr>\n",
       "    <tr>\n",
       "      <th>3589</th>\n",
       "      <td>14</td>\n",
       "      <td>03A</td>\n",
       "      <td>0.001641</td>\n",
       "      <td>0.001115</td>\n",
       "      <td>1.471978</td>\n",
       "      <td>25</td>\n",
       "    </tr>\n",
       "    <tr>\n",
       "      <th>3636</th>\n",
       "      <td>14</td>\n",
       "      <td>22B</td>\n",
       "      <td>0.000853</td>\n",
       "      <td>0.000744</td>\n",
       "      <td>1.146210</td>\n",
       "      <td>13</td>\n",
       "    </tr>\n",
       "    <tr>\n",
       "      <th>3684</th>\n",
       "      <td>14</td>\n",
       "      <td>20A</td>\n",
       "      <td>0.003413</td>\n",
       "      <td>0.001662</td>\n",
       "      <td>2.053843</td>\n",
       "      <td>52</td>\n",
       "    </tr>\n",
       "    <tr>\n",
       "      <th>3740</th>\n",
       "      <td>14</td>\n",
       "      <td>10C</td>\n",
       "      <td>0.000591</td>\n",
       "      <td>0.000900</td>\n",
       "      <td>0.656029</td>\n",
       "      <td>9</td>\n",
       "    </tr>\n",
       "    <tr>\n",
       "      <th>3788</th>\n",
       "      <td>14</td>\n",
       "      <td>18A</td>\n",
       "      <td>0.000197</td>\n",
       "      <td>0.000126</td>\n",
       "      <td>1.563373</td>\n",
       "      <td>3</td>\n",
       "    </tr>\n",
       "    <tr>\n",
       "      <th>3812</th>\n",
       "      <td>14</td>\n",
       "      <td>15I</td>\n",
       "      <td>0.000394</td>\n",
       "      <td>0.000852</td>\n",
       "      <td>0.462455</td>\n",
       "      <td>6</td>\n",
       "    </tr>\n",
       "    <tr>\n",
       "      <th>3860</th>\n",
       "      <td>14</td>\n",
       "      <td>03D</td>\n",
       "      <td>0.000131</td>\n",
       "      <td>0.000169</td>\n",
       "      <td>0.775896</td>\n",
       "      <td>2</td>\n",
       "    </tr>\n",
       "    <tr>\n",
       "      <th>3889</th>\n",
       "      <td>14</td>\n",
       "      <td>02A</td>\n",
       "      <td>0.000263</td>\n",
       "      <td>0.000936</td>\n",
       "      <td>0.280444</td>\n",
       "      <td>4</td>\n",
       "    </tr>\n",
       "    <tr>\n",
       "      <th>3934</th>\n",
       "      <td>14</td>\n",
       "      <td>05A</td>\n",
       "      <td>0.000263</td>\n",
       "      <td>0.000209</td>\n",
       "      <td>1.258210</td>\n",
       "      <td>4</td>\n",
       "    </tr>\n",
       "    <tr>\n",
       "      <th>3967</th>\n",
       "      <td>14</td>\n",
       "      <td>04E</td>\n",
       "      <td>0.000394</td>\n",
       "      <td>0.000609</td>\n",
       "      <td>0.646580</td>\n",
       "      <td>6</td>\n",
       "    </tr>\n",
       "    <tr>\n",
       "      <th>4008</th>\n",
       "      <td>14</td>\n",
       "      <td>06G</td>\n",
       "      <td>0.000066</td>\n",
       "      <td>0.000214</td>\n",
       "      <td>0.306275</td>\n",
       "      <td>1</td>\n",
       "    </tr>\n",
       "    <tr>\n",
       "      <th>4037</th>\n",
       "      <td>14</td>\n",
       "      <td>10G</td>\n",
       "      <td>0.000197</td>\n",
       "      <td>0.000216</td>\n",
       "      <td>0.910835</td>\n",
       "      <td>3</td>\n",
       "    </tr>\n",
       "    <tr>\n",
       "      <th>4069</th>\n",
       "      <td>14</td>\n",
       "      <td>03C</td>\n",
       "      <td>0.000394</td>\n",
       "      <td>0.000891</td>\n",
       "      <td>0.441966</td>\n",
       "      <td>6</td>\n",
       "    </tr>\n",
       "    <tr>\n",
       "      <th>4116</th>\n",
       "      <td>14</td>\n",
       "      <td>04O</td>\n",
       "      <td>0.001772</td>\n",
       "      <td>0.001017</td>\n",
       "      <td>1.742539</td>\n",
       "      <td>27</td>\n",
       "    </tr>\n",
       "    <tr>\n",
       "      <th>4158</th>\n",
       "      <td>14</td>\n",
       "      <td>07A</td>\n",
       "      <td>0.000525</td>\n",
       "      <td>0.000291</td>\n",
       "      <td>1.802081</td>\n",
       "      <td>8</td>\n",
       "    </tr>\n",
       "    <tr>\n",
       "      <th>4211</th>\n",
       "      <td>14</td>\n",
       "      <td>16C</td>\n",
       "      <td>0.000656</td>\n",
       "      <td>0.000353</td>\n",
       "      <td>1.857198</td>\n",
       "      <td>10</td>\n",
       "    </tr>\n",
       "    <tr>\n",
       "      <th>4263</th>\n",
       "      <td>14</td>\n",
       "      <td>15T</td>\n",
       "      <td>0.000197</td>\n",
       "      <td>0.000169</td>\n",
       "      <td>1.163844</td>\n",
       "      <td>3</td>\n",
       "    </tr>\n",
       "    <tr>\n",
       "      <th>4286</th>\n",
       "      <td>14</td>\n",
       "      <td>18F</td>\n",
       "      <td>0.000788</td>\n",
       "      <td>0.000130</td>\n",
       "      <td>6.072231</td>\n",
       "      <td>12</td>\n",
       "    </tr>\n",
       "    <tr>\n",
       "      <th>4307</th>\n",
       "      <td>14</td>\n",
       "      <td>18G</td>\n",
       "      <td>0.000066</td>\n",
       "      <td>0.000071</td>\n",
       "      <td>0.918824</td>\n",
       "      <td>1</td>\n",
       "    </tr>\n",
       "    <tr>\n",
       "      <th>4381</th>\n",
       "      <td>14</td>\n",
       "      <td>18B</td>\n",
       "      <td>0.000263</td>\n",
       "      <td>0.000055</td>\n",
       "      <td>4.815907</td>\n",
       "      <td>4</td>\n",
       "    </tr>\n",
       "    <tr>\n",
       "      <th>4395</th>\n",
       "      <td>14</td>\n",
       "      <td>03E</td>\n",
       "      <td>0.000066</td>\n",
       "      <td>0.000041</td>\n",
       "      <td>1.587060</td>\n",
       "      <td>1</td>\n",
       "    </tr>\n",
       "    <tr>\n",
       "      <th>4414</th>\n",
       "      <td>14</td>\n",
       "      <td>05I</td>\n",
       "      <td>0.000131</td>\n",
       "      <td>0.000030</td>\n",
       "      <td>4.364416</td>\n",
       "      <td>2</td>\n",
       "    </tr>\n",
       "    <tr>\n",
       "      <th>4481</th>\n",
       "      <td>14</td>\n",
       "      <td>04G</td>\n",
       "      <td>0.000066</td>\n",
       "      <td>0.000030</td>\n",
       "      <td>2.182208</td>\n",
       "      <td>1</td>\n",
       "    </tr>\n",
       "    <tr>\n",
       "      <th>4491</th>\n",
       "      <td>14</td>\n",
       "      <td>20B</td>\n",
       "      <td>0.000066</td>\n",
       "      <td>0.000034</td>\n",
       "      <td>1.939740</td>\n",
       "      <td>1</td>\n",
       "    </tr>\n",
       "    <tr>\n",
       "      <th>4516</th>\n",
       "      <td>14</td>\n",
       "      <td>16E</td>\n",
       "      <td>0.000197</td>\n",
       "      <td>0.000030</td>\n",
       "      <td>6.546624</td>\n",
       "      <td>3</td>\n",
       "    </tr>\n",
       "  </tbody>\n",
       "</table>\n",
       "<p>78 rows × 6 columns</p>\n",
       "</div>"
      ],
      "text/plain": [
       "      CUISINECODE VIOLCODE        CP      UNCP     ratio  number\n",
       "13             14      04A  0.031113  0.017416  1.786471     474\n",
       "95             14      10F  0.171316  0.124865  1.372011    2610\n",
       "178            14      10B  0.061503  0.058900  1.044195     937\n",
       "261            14        0  0.024614  0.021083  1.167476     375\n",
       "341            14      04L  0.060584  0.072013  0.841300     923\n",
       "422            14      08A  0.080735  0.093177  0.866473    1230\n",
       "503            14      05D  0.014769  0.011204  1.318112     225\n",
       "578            14      10H  0.023761  0.016406  1.448304     362\n",
       "661            14      06D  0.059928  0.058214  1.029442     913\n",
       "742            14      15L  0.003807  0.005880  0.647407      58\n",
       "814            14      20D  0.011487  0.003656  3.141482     175\n",
       "880            14      10A  0.020676  0.011016  1.876848     315\n",
       "959            14      22C  0.009124  0.008274  1.102756     139\n",
       "1033           14      08C  0.009649  0.011731  0.822525     147\n",
       "1111           14      02G  0.102133  0.086136  1.185714    1556\n",
       "1193           14      06C  0.040368  0.047694  0.846390     615\n",
       "1275           14      06F  0.016278  0.018829  0.864517     248\n",
       "1354           14      08B  0.003676  0.004512  0.814691      56\n",
       "1423           14      04H  0.023236  0.029992  0.774729     354\n",
       "1502           14      04J  0.014572  0.011791  1.235842     222\n",
       "1576           14      20F  0.004595  0.007097  0.647437      70\n",
       "1650           14      10D  0.008139  0.009360  0.869552     124\n",
       "1724           14      10J  0.005514  0.004647  1.186443      84\n",
       "1794           14      04N  0.040039  0.040434  0.990252     610\n",
       "1870           14      05H  0.005185  0.001587  3.268141      79\n",
       "1930           14      10I  0.006761  0.007328  0.922596     103\n",
       "2007           14      02B  0.013193  0.046101  0.286180     201\n",
       "2086           14      10E  0.010240  0.006647  1.540382     156\n",
       "2159           14      04C  0.004004  0.008885  0.450663      61\n",
       "2234           14      06E  0.022054  0.025832  0.853762     336\n",
       "...           ...      ...       ...       ...       ...     ...\n",
       "3406           14      04F  0.000197  0.000167  1.176921       3\n",
       "3431           14      04I  0.000131  0.000047  2.793226       2\n",
       "3445           14      05F  0.001247  0.001555  0.802166      19\n",
       "3496           14      02C  0.000394  0.001034  0.380894       6\n",
       "3549           14      18D  0.000066  0.000258  0.254856       1\n",
       "3589           14      03A  0.001641  0.001115  1.471978      25\n",
       "3636           14      22B  0.000853  0.000744  1.146210      13\n",
       "3684           14      20A  0.003413  0.001662  2.053843      52\n",
       "3740           14      10C  0.000591  0.000900  0.656029       9\n",
       "3788           14      18A  0.000197  0.000126  1.563373       3\n",
       "3812           14      15I  0.000394  0.000852  0.462455       6\n",
       "3860           14      03D  0.000131  0.000169  0.775896       2\n",
       "3889           14      02A  0.000263  0.000936  0.280444       4\n",
       "3934           14      05A  0.000263  0.000209  1.258210       4\n",
       "3967           14      04E  0.000394  0.000609  0.646580       6\n",
       "4008           14      06G  0.000066  0.000214  0.306275       1\n",
       "4037           14      10G  0.000197  0.000216  0.910835       3\n",
       "4069           14      03C  0.000394  0.000891  0.441966       6\n",
       "4116           14      04O  0.001772  0.001017  1.742539      27\n",
       "4158           14      07A  0.000525  0.000291  1.802081       8\n",
       "4211           14      16C  0.000656  0.000353  1.857198      10\n",
       "4263           14      15T  0.000197  0.000169  1.163844       3\n",
       "4286           14      18F  0.000788  0.000130  6.072231      12\n",
       "4307           14      18G  0.000066  0.000071  0.918824       1\n",
       "4381           14      18B  0.000263  0.000055  4.815907       4\n",
       "4395           14      03E  0.000066  0.000041  1.587060       1\n",
       "4414           14      05I  0.000131  0.000030  4.364416       2\n",
       "4481           14      04G  0.000066  0.000030  2.182208       1\n",
       "4491           14      20B  0.000066  0.000034  1.939740       1\n",
       "4516           14      16E  0.000197  0.000030  6.546624       3\n",
       "\n",
       "[78 rows x 6 columns]"
      ]
     },
     "execution_count": 28,
     "metadata": {},
     "output_type": "execute_result"
    }
   ],
   "source": [
    "result[result.CUISINECODE==14]"
   ]
  },
  {
   "cell_type": "code",
   "execution_count": 29,
   "metadata": {
    "collapsed": false
   },
   "outputs": [
    {
     "data": {
      "text/plain": [
       "73.712375989227397"
      ]
     },
     "execution_count": 29,
     "metadata": {},
     "output_type": "execute_result"
    }
   ],
   "source": [
    "result.sort_values(by=\"ratio\").ratio[::-1][0:20].mean()"
   ]
  },
  {
   "cell_type": "code",
   "execution_count": 30,
   "metadata": {
    "collapsed": true
   },
   "outputs": [],
   "source": [
    "cuisine = pd.read_csv(\"data/nyc_inspection_data/Cuisine.txt\")"
   ]
  },
  {
   "cell_type": "code",
   "execution_count": 31,
   "metadata": {
    "collapsed": false
   },
   "outputs": [
    {
     "data": {
      "text/html": [
       "<div>\n",
       "<table border=\"1\" class=\"dataframe\">\n",
       "  <thead>\n",
       "    <tr style=\"text-align: right;\">\n",
       "      <th></th>\n",
       "      <th>CUISINECODE</th>\n",
       "      <th>CODEDESC</th>\n",
       "    </tr>\n",
       "  </thead>\n",
       "  <tbody>\n",
       "    <tr>\n",
       "      <th>0</th>\n",
       "      <td>2</td>\n",
       "      <td>African</td>\n",
       "    </tr>\n",
       "    <tr>\n",
       "      <th>1</th>\n",
       "      <td>3</td>\n",
       "      <td>American</td>\n",
       "    </tr>\n",
       "    <tr>\n",
       "      <th>2</th>\n",
       "      <td>5</td>\n",
       "      <td>Asian</td>\n",
       "    </tr>\n",
       "    <tr>\n",
       "      <th>3</th>\n",
       "      <td>15</td>\n",
       "      <td>Cajun</td>\n",
       "    </tr>\n",
       "    <tr>\n",
       "      <th>4</th>\n",
       "      <td>17</td>\n",
       "      <td>Caribbean</td>\n",
       "    </tr>\n",
       "  </tbody>\n",
       "</table>\n",
       "</div>"
      ],
      "text/plain": [
       "   CUISINECODE   CODEDESC\n",
       "0            2    African\n",
       "1            3  American \n",
       "2            5      Asian\n",
       "3           15      Cajun\n",
       "4           17  Caribbean"
      ]
     },
     "execution_count": 31,
     "metadata": {},
     "output_type": "execute_result"
    }
   ],
   "source": [
    "cuisine.head()"
   ]
  },
  {
   "cell_type": "code",
   "execution_count": 32,
   "metadata": {
    "collapsed": true
   },
   "outputs": [],
   "source": [
    "merge1 = pd.merge(result, cuisine, on=\"CUISINECODE\")"
   ]
  },
  {
   "cell_type": "code",
   "execution_count": 33,
   "metadata": {
    "collapsed": false
   },
   "outputs": [
    {
     "data": {
      "text/plain": [
       "73.712375989227397"
      ]
     },
     "execution_count": 33,
     "metadata": {},
     "output_type": "execute_result"
    }
   ],
   "source": [
    "merge1.sort_values(by=\"ratio\",ascending=False).ratio[0:20].mean()"
   ]
  },
  {
   "cell_type": "code",
   "execution_count": 34,
   "metadata": {
    "collapsed": false
   },
   "outputs": [
    {
     "data": {
      "text/html": [
       "<div>\n",
       "<table border=\"1\" class=\"dataframe\">\n",
       "  <thead>\n",
       "    <tr style=\"text-align: right;\">\n",
       "      <th></th>\n",
       "      <th>CUISINECODE</th>\n",
       "      <th>VIOLCODE</th>\n",
       "      <th>CP</th>\n",
       "      <th>UNCP</th>\n",
       "      <th>ratio</th>\n",
       "      <th>number</th>\n",
       "      <th>CODEDESC</th>\n",
       "    </tr>\n",
       "  </thead>\n",
       "  <tbody>\n",
       "    <tr>\n",
       "      <th>0</th>\n",
       "      <td>0</td>\n",
       "      <td>04A</td>\n",
       "      <td>0.115108</td>\n",
       "      <td>0.017416</td>\n",
       "      <td>6.609448</td>\n",
       "      <td>16</td>\n",
       "      <td>Not Listed/Not Applicable</td>\n",
       "    </tr>\n",
       "    <tr>\n",
       "      <th>1</th>\n",
       "      <td>0</td>\n",
       "      <td>10F</td>\n",
       "      <td>0.107914</td>\n",
       "      <td>0.124865</td>\n",
       "      <td>0.864244</td>\n",
       "      <td>15</td>\n",
       "      <td>Not Listed/Not Applicable</td>\n",
       "    </tr>\n",
       "    <tr>\n",
       "      <th>2</th>\n",
       "      <td>0</td>\n",
       "      <td>10B</td>\n",
       "      <td>0.071942</td>\n",
       "      <td>0.058900</td>\n",
       "      <td>1.221433</td>\n",
       "      <td>10</td>\n",
       "      <td>Not Listed/Not Applicable</td>\n",
       "    </tr>\n",
       "    <tr>\n",
       "      <th>3</th>\n",
       "      <td>0</td>\n",
       "      <td>0</td>\n",
       "      <td>0.057554</td>\n",
       "      <td>0.021083</td>\n",
       "      <td>2.729823</td>\n",
       "      <td>8</td>\n",
       "      <td>Not Listed/Not Applicable</td>\n",
       "    </tr>\n",
       "    <tr>\n",
       "      <th>4</th>\n",
       "      <td>0</td>\n",
       "      <td>04L</td>\n",
       "      <td>0.057554</td>\n",
       "      <td>0.072013</td>\n",
       "      <td>0.799221</td>\n",
       "      <td>8</td>\n",
       "      <td>Not Listed/Not Applicable</td>\n",
       "    </tr>\n",
       "  </tbody>\n",
       "</table>\n",
       "</div>"
      ],
      "text/plain": [
       "   CUISINECODE VIOLCODE        CP      UNCP     ratio  number  \\\n",
       "0            0      04A  0.115108  0.017416  6.609448      16   \n",
       "1            0      10F  0.107914  0.124865  0.864244      15   \n",
       "2            0      10B  0.071942  0.058900  1.221433      10   \n",
       "3            0        0  0.057554  0.021083  2.729823       8   \n",
       "4            0      04L  0.057554  0.072013  0.799221       8   \n",
       "\n",
       "                    CODEDESC  \n",
       "0  Not Listed/Not Applicable  \n",
       "1  Not Listed/Not Applicable  \n",
       "2  Not Listed/Not Applicable  \n",
       "3  Not Listed/Not Applicable  \n",
       "4  Not Listed/Not Applicable  "
      ]
     },
     "execution_count": 34,
     "metadata": {},
     "output_type": "execute_result"
    }
   ],
   "source": [
    "merge1.head()"
   ]
  },
  {
   "cell_type": "code",
   "execution_count": 35,
   "metadata": {
    "collapsed": true
   },
   "outputs": [],
   "source": [
    "import csv"
   ]
  },
  {
   "cell_type": "code",
   "execution_count": 36,
   "metadata": {
    "collapsed": false
   },
   "outputs": [
    {
     "name": "stderr",
     "output_type": "stream",
     "text": [
      "/Users/yutongpang/.virtualenvs/sqlVen27/lib/python2.7/site-packages/ipykernel/__main__.py:1: ParserWarning: Falling back to the 'python' engine because the 'c' engine does not support regex separators; you can avoid this warning by specifying engine='python'.\n",
      "  if __name__ == '__main__':\n"
     ]
    }
   ],
   "source": [
    "violation = pd.read_csv(\"data/nyc_inspection_data/Violation.txt\",sep='\",\"',quoting=csv.QUOTE_NONE)"
   ]
  },
  {
   "cell_type": "code",
   "execution_count": 37,
   "metadata": {
    "collapsed": true
   },
   "outputs": [],
   "source": [
    "violation['VIOLCODE'] = violation.VIOLATIONCODE"
   ]
  },
  {
   "cell_type": "code",
   "execution_count": 38,
   "metadata": {
    "collapsed": false
   },
   "outputs": [
    {
     "data": {
      "text/html": [
       "<div>\n",
       "<table border=\"1\" class=\"dataframe\">\n",
       "  <thead>\n",
       "    <tr style=\"text-align: right;\">\n",
       "      <th></th>\n",
       "      <th>\"STARTDATE</th>\n",
       "      <th>ENDDATE</th>\n",
       "      <th>CRITICALFLAG</th>\n",
       "      <th>VIOLATIONCODE</th>\n",
       "      <th>VIOLATIONDESC\"</th>\n",
       "      <th>VIOLCODE</th>\n",
       "    </tr>\n",
       "  </thead>\n",
       "  <tbody>\n",
       "    <tr>\n",
       "      <th>0</th>\n",
       "      <td>\"1901-01-01 00:00:00</td>\n",
       "      <td>2003-03-23 00:00:00</td>\n",
       "      <td>Y</td>\n",
       "      <td>01A</td>\n",
       "      <td>Current valid &lt;a    onmouseover=\"ShowContent('...</td>\n",
       "      <td>01A</td>\n",
       "    </tr>\n",
       "    <tr>\n",
       "      <th>1</th>\n",
       "      <td>\"2003-03-24 00:00:00</td>\n",
       "      <td>2005-02-17 00:00:00</td>\n",
       "      <td>Y</td>\n",
       "      <td>01A</td>\n",
       "      <td>Current valid &lt;a    onmouseover=\"ShowContent('...</td>\n",
       "      <td>01A</td>\n",
       "    </tr>\n",
       "    <tr>\n",
       "      <th>2</th>\n",
       "      <td>\"2005-02-18 00:00:00</td>\n",
       "      <td>2007-06-30 00:00:00</td>\n",
       "      <td>Y</td>\n",
       "      <td>01A</td>\n",
       "      <td>Current valid &lt;a    onmouseover=\"ShowContent('...</td>\n",
       "      <td>01A</td>\n",
       "    </tr>\n",
       "    <tr>\n",
       "      <th>3</th>\n",
       "      <td>\"2007-07-01 00:00:00</td>\n",
       "      <td>2008-06-30 00:00:00</td>\n",
       "      <td>Y</td>\n",
       "      <td>01A</td>\n",
       "      <td>Current valid permit, registration or other au...</td>\n",
       "      <td>01A</td>\n",
       "    </tr>\n",
       "    <tr>\n",
       "      <th>4</th>\n",
       "      <td>\"2008-07-01 00:00:00</td>\n",
       "      <td>2009-08-01 00:00:00</td>\n",
       "      <td>Y</td>\n",
       "      <td>01A</td>\n",
       "      <td>Current valid permit, registration or other au...</td>\n",
       "      <td>01A</td>\n",
       "    </tr>\n",
       "  </tbody>\n",
       "</table>\n",
       "</div>"
      ],
      "text/plain": [
       "             \"STARTDATE              ENDDATE CRITICALFLAG VIOLATIONCODE  \\\n",
       "0  \"1901-01-01 00:00:00  2003-03-23 00:00:00            Y           01A   \n",
       "1  \"2003-03-24 00:00:00  2005-02-17 00:00:00            Y           01A   \n",
       "2  \"2005-02-18 00:00:00  2007-06-30 00:00:00            Y           01A   \n",
       "3  \"2007-07-01 00:00:00  2008-06-30 00:00:00            Y           01A   \n",
       "4  \"2008-07-01 00:00:00  2009-08-01 00:00:00            Y           01A   \n",
       "\n",
       "                                      VIOLATIONDESC\" VIOLCODE  \n",
       "0  Current valid <a    onmouseover=\"ShowContent('...      01A  \n",
       "1  Current valid <a    onmouseover=\"ShowContent('...      01A  \n",
       "2  Current valid <a    onmouseover=\"ShowContent('...      01A  \n",
       "3  Current valid permit, registration or other au...      01A  \n",
       "4  Current valid permit, registration or other au...      01A  "
      ]
     },
     "execution_count": 38,
     "metadata": {},
     "output_type": "execute_result"
    }
   ],
   "source": [
    "violation.head()"
   ]
  },
  {
   "cell_type": "code",
   "execution_count": 39,
   "metadata": {
    "collapsed": true
   },
   "outputs": [],
   "source": [
    "violation[\"ENDDATE\"] = pd.to_datetime(violation.ENDDATE)"
   ]
  },
  {
   "cell_type": "code",
   "execution_count": 40,
   "metadata": {
    "collapsed": false
   },
   "outputs": [],
   "source": [
    "violation = violation[violation.ENDDATE>=pd.to_datetime(\"2014-01-01 00:00:00\")]"
   ]
  },
  {
   "cell_type": "code",
   "execution_count": 41,
   "metadata": {
    "collapsed": false
   },
   "outputs": [
    {
     "data": {
      "text/html": [
       "<div>\n",
       "<table border=\"1\" class=\"dataframe\">\n",
       "  <thead>\n",
       "    <tr style=\"text-align: right;\">\n",
       "      <th></th>\n",
       "      <th>\"STARTDATE</th>\n",
       "      <th>ENDDATE</th>\n",
       "      <th>CRITICALFLAG</th>\n",
       "      <th>VIOLATIONCODE</th>\n",
       "      <th>VIOLATIONDESC\"</th>\n",
       "      <th>VIOLCODE</th>\n",
       "    </tr>\n",
       "  </thead>\n",
       "  <tbody>\n",
       "    <tr>\n",
       "      <th>39</th>\n",
       "      <td>\"2010-07-26 00:00:00</td>\n",
       "      <td>2099-12-31</td>\n",
       "      <td>Y</td>\n",
       "      <td>02A</td>\n",
       "      <td>Food not cooked to required minimum temperature.\"</td>\n",
       "      <td>02A</td>\n",
       "    </tr>\n",
       "    <tr>\n",
       "      <th>46</th>\n",
       "      <td>\"2010-07-26 00:00:00</td>\n",
       "      <td>2099-12-31</td>\n",
       "      <td>Y</td>\n",
       "      <td>02B</td>\n",
       "      <td>Hot food item not held at or above 140� F.\"</td>\n",
       "      <td>02B</td>\n",
       "    </tr>\n",
       "    <tr>\n",
       "      <th>53</th>\n",
       "      <td>\"2010-07-26 00:00:00</td>\n",
       "      <td>2099-12-31</td>\n",
       "      <td>Y</td>\n",
       "      <td>02C</td>\n",
       "      <td>Hot food item that has been cooked and refrige...</td>\n",
       "      <td>02C</td>\n",
       "    </tr>\n",
       "    <tr>\n",
       "      <th>60</th>\n",
       "      <td>\"2010-07-26 00:00:00</td>\n",
       "      <td>2099-12-31</td>\n",
       "      <td>Y</td>\n",
       "      <td>02D</td>\n",
       "      <td>Precooked potentially hazardous food from comm...</td>\n",
       "      <td>02D</td>\n",
       "    </tr>\n",
       "    <tr>\n",
       "      <th>67</th>\n",
       "      <td>\"2010-07-26 00:00:00</td>\n",
       "      <td>2099-12-31</td>\n",
       "      <td>Y</td>\n",
       "      <td>02E</td>\n",
       "      <td>Whole frozen poultry or poultry breasts, other...</td>\n",
       "      <td>02E</td>\n",
       "    </tr>\n",
       "  </tbody>\n",
       "</table>\n",
       "</div>"
      ],
      "text/plain": [
       "              \"STARTDATE    ENDDATE CRITICALFLAG VIOLATIONCODE  \\\n",
       "39  \"2010-07-26 00:00:00 2099-12-31            Y           02A   \n",
       "46  \"2010-07-26 00:00:00 2099-12-31            Y           02B   \n",
       "53  \"2010-07-26 00:00:00 2099-12-31            Y           02C   \n",
       "60  \"2010-07-26 00:00:00 2099-12-31            Y           02D   \n",
       "67  \"2010-07-26 00:00:00 2099-12-31            Y           02E   \n",
       "\n",
       "                                       VIOLATIONDESC\" VIOLCODE  \n",
       "39  Food not cooked to required minimum temperature.\"      02A  \n",
       "46        Hot food item not held at or above 140� F.\"      02B  \n",
       "53  Hot food item that has been cooked and refrige...      02C  \n",
       "60  Precooked potentially hazardous food from comm...      02D  \n",
       "67  Whole frozen poultry or poultry breasts, other...      02E  "
      ]
     },
     "execution_count": 41,
     "metadata": {},
     "output_type": "execute_result"
    }
   ],
   "source": [
    "violation.head()"
   ]
  },
  {
   "cell_type": "code",
   "execution_count": 42,
   "metadata": {
    "collapsed": false
   },
   "outputs": [],
   "source": [
    "merge2 = pd.merge(merge1, violation,on=\"VIOLCODE\")"
   ]
  },
  {
   "cell_type": "code",
   "execution_count": 43,
   "metadata": {
    "collapsed": false
   },
   "outputs": [
    {
     "name": "stderr",
     "output_type": "stream",
     "text": [
      "/Users/yutongpang/.virtualenvs/sqlVen27/lib/python2.7/site-packages/ipykernel/__main__.py:1: UserWarning: Boolean Series key will be reindexed to match DataFrame index.\n",
      "  if __name__ == '__main__':\n"
     ]
    },
    {
     "data": {
      "text/html": [
       "<div>\n",
       "<table border=\"1\" class=\"dataframe\">\n",
       "  <thead>\n",
       "    <tr style=\"text-align: right;\">\n",
       "      <th></th>\n",
       "      <th>CUISINECODE</th>\n",
       "      <th>VIOLCODE</th>\n",
       "      <th>CP</th>\n",
       "      <th>UNCP</th>\n",
       "      <th>ratio</th>\n",
       "      <th>number</th>\n",
       "      <th>CODEDESC</th>\n",
       "      <th>\"STARTDATE</th>\n",
       "      <th>ENDDATE</th>\n",
       "      <th>CRITICALFLAG</th>\n",
       "      <th>VIOLATIONCODE</th>\n",
       "      <th>VIOLATIONDESC\"</th>\n",
       "    </tr>\n",
       "  </thead>\n",
       "  <tbody>\n",
       "    <tr>\n",
       "      <th>800</th>\n",
       "      <td>14</td>\n",
       "      <td>10A</td>\n",
       "      <td>0.020676</td>\n",
       "      <td>0.011016</td>\n",
       "      <td>1.876848</td>\n",
       "      <td>315</td>\n",
       "      <td>Caf�/Coffee/Tea</td>\n",
       "      <td>\"2010-07-26 00:00:00</td>\n",
       "      <td>2099-12-31</td>\n",
       "      <td>N</td>\n",
       "      <td>10A</td>\n",
       "      <td>Toilet facility not maintained and provided wi...</td>\n",
       "    </tr>\n",
       "  </tbody>\n",
       "</table>\n",
       "</div>"
      ],
      "text/plain": [
       "     CUISINECODE VIOLCODE        CP      UNCP     ratio  number  \\\n",
       "800           14      10A  0.020676  0.011016  1.876848     315   \n",
       "\n",
       "            CODEDESC            \"STARTDATE    ENDDATE CRITICALFLAG  \\\n",
       "800  Caf�/Coffee/Tea  \"2010-07-26 00:00:00 2099-12-31            N   \n",
       "\n",
       "    VIOLATIONCODE                                     VIOLATIONDESC\"  \n",
       "800           10A  Toilet facility not maintained and provided wi...  "
      ]
     },
     "execution_count": 43,
     "metadata": {},
     "output_type": "execute_result"
    }
   ],
   "source": [
    "merge2[merge2.VIOLATIONCODE==\"10A\"][merge2.CUISINECODE==14]"
   ]
  },
  {
   "cell_type": "code",
   "execution_count": 44,
   "metadata": {
    "collapsed": true
   },
   "outputs": [],
   "source": [
    "merge2 = merge2[merge2.number>100]"
   ]
  },
  {
   "cell_type": "code",
   "execution_count": 45,
   "metadata": {
    "collapsed": false,
    "scrolled": true
   },
   "outputs": [],
   "source": [
    "merge2 = merge2.sort_values(by=\"ratio\",ascending=False)"
   ]
  },
  {
   "cell_type": "code",
   "execution_count": 46,
   "metadata": {
    "collapsed": false
   },
   "outputs": [
    {
     "data": {
      "text/html": [
       "<div>\n",
       "<table border=\"1\" class=\"dataframe\">\n",
       "  <thead>\n",
       "    <tr style=\"text-align: right;\">\n",
       "      <th></th>\n",
       "      <th>CUISINECODE</th>\n",
       "      <th>VIOLCODE</th>\n",
       "      <th>CP</th>\n",
       "      <th>UNCP</th>\n",
       "      <th>ratio</th>\n",
       "      <th>number</th>\n",
       "      <th>CODEDESC</th>\n",
       "      <th>\"STARTDATE</th>\n",
       "      <th>ENDDATE</th>\n",
       "      <th>CRITICALFLAG</th>\n",
       "      <th>VIOLATIONCODE</th>\n",
       "      <th>VIOLATIONDESC\"</th>\n",
       "    </tr>\n",
       "  </thead>\n",
       "  <tbody>\n",
       "    <tr>\n",
       "      <th>2107</th>\n",
       "      <td>49</td>\n",
       "      <td>04C</td>\n",
       "      <td>0.029013</td>\n",
       "      <td>0.008885</td>\n",
       "      <td>3.265526</td>\n",
       "      <td>541</td>\n",
       "      <td>Japanese</td>\n",
       "      <td>\"2010-07-26 00:00:00</td>\n",
       "      <td>2099-12-31</td>\n",
       "      <td>Y</td>\n",
       "      <td>04C</td>\n",
       "      <td>Food worker does not use proper utensil to eli...</td>\n",
       "    </tr>\n",
       "    <tr>\n",
       "      <th>734</th>\n",
       "      <td>14</td>\n",
       "      <td>20D</td>\n",
       "      <td>0.011487</td>\n",
       "      <td>0.003656</td>\n",
       "      <td>3.141482</td>\n",
       "      <td>175</td>\n",
       "      <td>Caf�/Coffee/Tea</td>\n",
       "      <td>\"2010-07-26 00:00:00</td>\n",
       "      <td>2099-12-31</td>\n",
       "      <td>N</td>\n",
       "      <td>20D</td>\n",
       "      <td>�Choking first aid� poster not posted. �Alcoho...</td>\n",
       "    </tr>\n",
       "    <tr>\n",
       "      <th>48</th>\n",
       "      <td>51</td>\n",
       "      <td>04A</td>\n",
       "      <td>0.053348</td>\n",
       "      <td>0.017416</td>\n",
       "      <td>3.063223</td>\n",
       "      <td>145</td>\n",
       "      <td>Juice, Smoothies, Fruit Salads</td>\n",
       "      <td>\"2010-07-26 00:00:00</td>\n",
       "      <td>2099-12-31</td>\n",
       "      <td>Y</td>\n",
       "      <td>04A</td>\n",
       "      <td>Food Protection Certificate not held by superv...</td>\n",
       "    </tr>\n",
       "    <tr>\n",
       "      <th>2017</th>\n",
       "      <td>29</td>\n",
       "      <td>10E</td>\n",
       "      <td>0.020158</td>\n",
       "      <td>0.006647</td>\n",
       "      <td>3.032475</td>\n",
       "      <td>130</td>\n",
       "      <td>Donuts</td>\n",
       "      <td>\"2010-07-26 00:00:00</td>\n",
       "      <td>2099-12-31</td>\n",
       "      <td>N</td>\n",
       "      <td>10E</td>\n",
       "      <td>Accurate thermometer not provided in refrigera...</td>\n",
       "    </tr>\n",
       "    <tr>\n",
       "      <th>40</th>\n",
       "      <td>43</td>\n",
       "      <td>04A</td>\n",
       "      <td>0.050991</td>\n",
       "      <td>0.017416</td>\n",
       "      <td>2.927868</td>\n",
       "      <td>193</td>\n",
       "      <td>Ice Cream, Gelato, Yogurt, Ices</td>\n",
       "      <td>\"2010-07-26 00:00:00</td>\n",
       "      <td>2099-12-31</td>\n",
       "      <td>Y</td>\n",
       "      <td>04A</td>\n",
       "      <td>Food Protection Certificate not held by superv...</td>\n",
       "    </tr>\n",
       "  </tbody>\n",
       "</table>\n",
       "</div>"
      ],
      "text/plain": [
       "      CUISINECODE VIOLCODE        CP      UNCP     ratio  number  \\\n",
       "2107           49      04C  0.029013  0.008885  3.265526     541   \n",
       "734            14      20D  0.011487  0.003656  3.141482     175   \n",
       "48             51      04A  0.053348  0.017416  3.063223     145   \n",
       "2017           29      10E  0.020158  0.006647  3.032475     130   \n",
       "40             43      04A  0.050991  0.017416  2.927868     193   \n",
       "\n",
       "                             CODEDESC            \"STARTDATE    ENDDATE  \\\n",
       "2107                         Japanese  \"2010-07-26 00:00:00 2099-12-31   \n",
       "734                   Caf�/Coffee/Tea  \"2010-07-26 00:00:00 2099-12-31   \n",
       "48     Juice, Smoothies, Fruit Salads  \"2010-07-26 00:00:00 2099-12-31   \n",
       "2017                           Donuts  \"2010-07-26 00:00:00 2099-12-31   \n",
       "40    Ice Cream, Gelato, Yogurt, Ices  \"2010-07-26 00:00:00 2099-12-31   \n",
       "\n",
       "     CRITICALFLAG VIOLATIONCODE  \\\n",
       "2107            Y           04C   \n",
       "734             N           20D   \n",
       "48              Y           04A   \n",
       "2017            N           10E   \n",
       "40              Y           04A   \n",
       "\n",
       "                                         VIOLATIONDESC\"  \n",
       "2107  Food worker does not use proper utensil to eli...  \n",
       "734   �Choking first aid� poster not posted. �Alcoho...  \n",
       "48    Food Protection Certificate not held by superv...  \n",
       "2017  Accurate thermometer not provided in refrigera...  \n",
       "40    Food Protection Certificate not held by superv...  "
      ]
     },
     "execution_count": 46,
     "metadata": {},
     "output_type": "execute_result"
    }
   ],
   "source": [
    "merge2.head()"
   ]
  },
  {
   "cell_type": "code",
   "execution_count": 48,
   "metadata": {
    "collapsed": false
   },
   "outputs": [
    {
     "data": {
      "text/plain": [
       "2.3700921634985899"
      ]
     },
     "execution_count": 48,
     "metadata": {},
     "output_type": "execute_result"
    }
   ],
   "source": [
    "merge2.ratio[0:20].mean()"
   ]
  },
  {
   "cell_type": "code",
   "execution_count": 47,
   "metadata": {
    "collapsed": false
   },
   "outputs": [],
   "source": [
    "merge2.columns =[\"CUISINECODE\",\"VIOLCODE\",\"CP\",\"UNCP\",\"ratio\",\"number\",\"CODEDESC\",\"STARTDATE\",\"ENDDATE\",\"CRITICALFLAG\",\"VIOLATIONCODE\",\"VIOLATIONDESC\"]"
   ]
  },
  {
   "cell_type": "code",
   "execution_count": 49,
   "metadata": {
    "collapsed": false
   },
   "outputs": [],
   "source": [
    "ans = map(lambda x1,x2,x3,x4: ((x1,x2),x3,x4) ,merge2.CODEDESC, merge2.VIOLATIONDESC, merge2['ratio'], merge2.number)"
   ]
  },
  {
   "cell_type": "code",
   "execution_count": 52,
   "metadata": {
    "collapsed": false
   },
   "outputs": [],
   "source": [
    "ans = ans[0:20]"
   ]
  },
  {
   "cell_type": "code",
   "execution_count": 54,
   "metadata": {
    "collapsed": false
   },
   "outputs": [],
   "source": [
    "ans[1] =  (('Café/Coffee/Tea',\n",
    "   '\\xef\\xbf\\xbdChoking first aid\\xef\\xbf\\xbd poster not posted. \\xef\\xbf\\xbdAlcohol and pregnancy\\xef\\xbf\\xbd warning sign not posted. Resuscitation equipment: exhaled air resuscitation masks (adult & pediatric), latex gloves, sign not posted. Inspection report sign not posted.\"'),\n",
    "  3.1414818233282684,\n",
    "  175)"
   ]
  },
  {
   "cell_type": "code",
   "execution_count": 56,
   "metadata": {
    "collapsed": false
   },
   "outputs": [],
   "source": [
    "ans[-1] =  (('Café/Coffee/Tea',\n",
    "   'Toilet facility not maintained and provided with toilet paper, waste receptacle and self-closing door.\"'),\n",
    "  1.876847758271718,\n",
    "  315)"
   ]
  },
  {
   "cell_type": "code",
   "execution_count": 57,
   "metadata": {
    "collapsed": true
   },
   "outputs": [],
   "source": [
    "import pickle"
   ]
  },
  {
   "cell_type": "code",
   "execution_count": 58,
   "metadata": {
    "collapsed": false
   },
   "outputs": [],
   "source": [
    "with open('vio.pickle', 'wb') as f:\n",
    "    pickle.dump(ans[0:20], f)"
   ]
  },
  {
   "cell_type": "code",
   "execution_count": 118,
   "metadata": {
    "collapsed": false
   },
   "outputs": [
    {
     "data": {
      "text/plain": [
       "u'Caf\\xe9'"
      ]
     },
     "execution_count": 118,
     "metadata": {},
     "output_type": "execute_result"
    }
   ],
   "source": [
    "unicode(\"Caf\\xe9\", \"Latin-1\") "
   ]
  },
  {
   "cell_type": "code",
   "execution_count": null,
   "metadata": {
    "collapsed": true
   },
   "outputs": [],
   "source": []
  }
 ],
 "metadata": {
  "kernelspec": {
   "display_name": "Python 2",
   "language": "python",
   "name": "python2"
  },
  "language_info": {
   "codemirror_mode": {
    "name": "ipython",
    "version": 2
   },
   "file_extension": ".py",
   "mimetype": "text/x-python",
   "name": "python",
   "nbconvert_exporter": "python",
   "pygments_lexer": "ipython2",
   "version": "2.7.10"
  }
 },
 "nbformat": 4,
 "nbformat_minor": 0
}
